{
 "cells": [
  {
   "cell_type": "markdown",
   "metadata": {
    "id": "5SnJ4a78y1tR"
   },
   "source": [
    "# Elementos básicos de Python e Numpy"
   ]
  },
  {
   "cell_type": "markdown",
   "metadata": {
    "id": "hBmzBxjjy63R"
   },
   "source": [
    "## 1\\. Pacotes, e o numpy"
   ]
  },
  {
   "cell_type": "code",
   "execution_count": 6,
   "metadata": {
    "executionInfo": {
     "elapsed": 8,
     "status": "ok",
     "timestamp": 1643861877822,
     "user": {
      "displayName": "Raphael Oliveira",
      "photoUrl": "https://lh3.googleusercontent.com/a-/AOh14GjD-SSKQszy5GSX56GG3KCeCVRfxDP5F9s2SHVa=s64",
      "userId": "15853987874740266589"
     },
     "user_tz": 180
    },
    "id": "v_941nPPyOOl"
   },
   "outputs": [],
   "source": [
    "import math\n",
    "import numpy as np"
   ]
  },
  {
   "cell_type": "code",
   "execution_count": 7,
   "metadata": {
    "colab": {
     "base_uri": "https://localhost:8080/"
    },
    "executionInfo": {
     "elapsed": 355,
     "status": "ok",
     "timestamp": 1643861888126,
     "user": {
      "displayName": "Raphael Oliveira",
      "photoUrl": "https://lh3.googleusercontent.com/a-/AOh14GjD-SSKQszy5GSX56GG3KCeCVRfxDP5F9s2SHVa=s64",
      "userId": "15853987874740266589"
     },
     "user_tz": 180
    },
    "id": "3W7WedCtzOgu",
    "outputId": "06dcd6ed-b988-4138-8718-2bb981f14997"
   },
   "outputs": [
    {
     "data": {
      "text/plain": [
       "3.141592653589793"
      ]
     },
     "execution_count": 7,
     "metadata": {},
     "output_type": "execute_result"
    }
   ],
   "source": [
    "math.pi"
   ]
  },
  {
   "cell_type": "code",
   "execution_count": 8,
   "metadata": {
    "colab": {
     "base_uri": "https://localhost:8080/"
    },
    "executionInfo": {
     "elapsed": 12,
     "status": "ok",
     "timestamp": 1643861889966,
     "user": {
      "displayName": "Raphael Oliveira",
      "photoUrl": "https://lh3.googleusercontent.com/a-/AOh14GjD-SSKQszy5GSX56GG3KCeCVRfxDP5F9s2SHVa=s64",
      "userId": "15853987874740266589"
     },
     "user_tz": 180
    },
    "id": "WHz4YyAazSLt",
    "outputId": "3f50b4f5-22d1-47f0-bf09-20f8fc645815"
   },
   "outputs": [
    {
     "data": {
      "text/plain": [
       "-1.0"
      ]
     },
     "execution_count": 8,
     "metadata": {},
     "output_type": "execute_result"
    }
   ],
   "source": [
    "math.cos(math.pi)"
   ]
  },
  {
   "cell_type": "code",
   "execution_count": 10,
   "metadata": {
    "colab": {
     "base_uri": "https://localhost:8080/"
    },
    "executionInfo": {
     "elapsed": 261,
     "status": "ok",
     "timestamp": 1643861914953,
     "user": {
      "displayName": "Raphael Oliveira",
      "photoUrl": "https://lh3.googleusercontent.com/a-/AOh14GjD-SSKQszy5GSX56GG3KCeCVRfxDP5F9s2SHVa=s64",
      "userId": "15853987874740266589"
     },
     "user_tz": 180
    },
    "id": "qGkwC3rYzdA6",
    "outputId": "d1668cf3-15ba-4526-858e-20fad343da62"
   },
   "outputs": [
    {
     "data": {
      "text/plain": [
       "3.141592653589793"
      ]
     },
     "execution_count": 10,
     "metadata": {},
     "output_type": "execute_result"
    }
   ],
   "source": [
    "np.pi"
   ]
  },
  {
   "cell_type": "code",
   "execution_count": 12,
   "metadata": {
    "colab": {
     "base_uri": "https://localhost:8080/"
    },
    "executionInfo": {
     "elapsed": 14,
     "status": "ok",
     "timestamp": 1643861967488,
     "user": {
      "displayName": "Raphael Oliveira",
      "photoUrl": "https://lh3.googleusercontent.com/a-/AOh14GjD-SSKQszy5GSX56GG3KCeCVRfxDP5F9s2SHVa=s64",
      "userId": "15853987874740266589"
     },
     "user_tz": 180
    },
    "id": "NaeQbC19zjG9",
    "outputId": "85f022d1-6273-40cf-f599-0dbde1792bc1"
   },
   "outputs": [
    {
     "data": {
      "text/plain": [
       "-1.0"
      ]
     },
     "execution_count": 12,
     "metadata": {},
     "output_type": "execute_result"
    }
   ],
   "source": [
    "np.cos(np.pi)"
   ]
  },
  {
   "cell_type": "code",
   "execution_count": 14,
   "metadata": {
    "executionInfo": {
     "elapsed": 11,
     "status": "ok",
     "timestamp": 1643861981512,
     "user": {
      "displayName": "Raphael Oliveira",
      "photoUrl": "https://lh3.googleusercontent.com/a-/AOh14GjD-SSKQszy5GSX56GG3KCeCVRfxDP5F9s2SHVa=s64",
      "userId": "15853987874740266589"
     },
     "user_tz": 180
    },
    "id": "rZIMWBY1zv5W"
   },
   "outputs": [],
   "source": [
    "from math import cos, pi"
   ]
  },
  {
   "cell_type": "code",
   "execution_count": 16,
   "metadata": {
    "colab": {
     "base_uri": "https://localhost:8080/"
    },
    "executionInfo": {
     "elapsed": 440,
     "status": "ok",
     "timestamp": 1643862002617,
     "user": {
      "displayName": "Raphael Oliveira",
      "photoUrl": "https://lh3.googleusercontent.com/a-/AOh14GjD-SSKQszy5GSX56GG3KCeCVRfxDP5F9s2SHVa=s64",
      "userId": "15853987874740266589"
     },
     "user_tz": 180
    },
    "id": "8XqahisUzzXK",
    "outputId": "49339cce-e8f0-40e4-c1cd-56a71c1523b1"
   },
   "outputs": [
    {
     "data": {
      "text/plain": [
       "-1.0"
      ]
     },
     "execution_count": 16,
     "metadata": {},
     "output_type": "execute_result"
    }
   ],
   "source": [
    "cos(pi)"
   ]
  },
  {
   "cell_type": "code",
   "execution_count": 20,
   "metadata": {
    "executionInfo": {
     "elapsed": 798,
     "status": "ok",
     "timestamp": 1643862762582,
     "user": {
      "displayName": "Raphael Oliveira",
      "photoUrl": "https://lh3.googleusercontent.com/a-/AOh14GjD-SSKQszy5GSX56GG3KCeCVRfxDP5F9s2SHVa=s64",
      "userId": "15853987874740266589"
     },
     "user_tz": 180
    },
    "id": "0USA_ikXz4Uw"
   },
   "outputs": [],
   "source": [
    "!pip freeze > requirements.txt"
   ]
  },
  {
   "cell_type": "markdown",
   "metadata": {
    "id": "SnnpfpX63LK_"
   },
   "source": [
    "### Soma entre duas listas usando python"
   ]
  },
  {
   "cell_type": "code",
   "execution_count": 21,
   "metadata": {
    "colab": {
     "base_uri": "https://localhost:8080/"
    },
    "executionInfo": {
     "elapsed": 258,
     "status": "ok",
     "timestamp": 1643862843386,
     "user": {
      "displayName": "Raphael Oliveira",
      "photoUrl": "https://lh3.googleusercontent.com/a-/AOh14GjD-SSKQszy5GSX56GG3KCeCVRfxDP5F9s2SHVa=s64",
      "userId": "15853987874740266589"
     },
     "user_tz": 180
    },
    "id": "_AjJzoy_2x2m",
    "outputId": "15b3f1ce-8f60-4c0b-8ca6-197fb6a726df"
   },
   "outputs": [
    {
     "name": "stdout",
     "output_type": "stream",
     "text": [
      "[6, 14, 24, 36, 50]\n"
     ]
    }
   ],
   "source": [
    "lst_a = [1, 2, 3, 4, 5]\n",
    "lst_b = [6, 7, 8, 9, 10]\n",
    "\n",
    "lst_c = []\n",
    "\n",
    "for i in range(len(lst_a)):\n",
    "    lst_c.append(lst_a[i] * lst_b[i])\n",
    "\n",
    "print(lst_c)"
   ]
  },
  {
   "cell_type": "markdown",
   "metadata": {
    "id": "KHm9oeiL3Uex"
   },
   "source": [
    "### Soma entre duas listas usando numpy"
   ]
  },
  {
   "cell_type": "code",
   "execution_count": 23,
   "metadata": {
    "executionInfo": {
     "elapsed": 261,
     "status": "ok",
     "timestamp": 1643862958223,
     "user": {
      "displayName": "Raphael Oliveira",
      "photoUrl": "https://lh3.googleusercontent.com/a-/AOh14GjD-SSKQszy5GSX56GG3KCeCVRfxDP5F9s2SHVa=s64",
      "userId": "15853987874740266589"
     },
     "user_tz": 180
    },
    "id": "s3zuRI0o3Zeu"
   },
   "outputs": [],
   "source": [
    "array_a = np.array(lst_a)\n",
    "array_b = np.array(lst_b)"
   ]
  },
  {
   "cell_type": "code",
   "execution_count": 25,
   "metadata": {
    "colab": {
     "base_uri": "https://localhost:8080/"
    },
    "executionInfo": {
     "elapsed": 284,
     "status": "ok",
     "timestamp": 1643862989371,
     "user": {
      "displayName": "Raphael Oliveira",
      "photoUrl": "https://lh3.googleusercontent.com/a-/AOh14GjD-SSKQszy5GSX56GG3KCeCVRfxDP5F9s2SHVa=s64",
      "userId": "15853987874740266589"
     },
     "user_tz": 180
    },
    "id": "mcrc7ezf3hxW",
    "outputId": "3c74d0cd-f28c-46c4-afbd-14a860babf01"
   },
   "outputs": [
    {
     "data": {
      "text/plain": [
       "array([ 6, 14, 24, 36, 50])"
      ]
     },
     "execution_count": 25,
     "metadata": {},
     "output_type": "execute_result"
    }
   ],
   "source": [
    "array_c = array_a * array_b\n",
    "array_c"
   ]
  },
  {
   "cell_type": "markdown",
   "metadata": {
    "id": "4bpnVZiX4U9k"
   },
   "source": [
    "## 2\\. NDArrays\n"
   ]
  },
  {
   "cell_type": "code",
   "execution_count": 27,
   "metadata": {
    "executionInfo": {
     "elapsed": 8,
     "status": "ok",
     "timestamp": 1643863329947,
     "user": {
      "displayName": "Raphael Oliveira",
      "photoUrl": "https://lh3.googleusercontent.com/a-/AOh14GjD-SSKQszy5GSX56GG3KCeCVRfxDP5F9s2SHVa=s64",
      "userId": "15853987874740266589"
     },
     "user_tz": 180
    },
    "id": "2budbHI44Y96"
   },
   "outputs": [],
   "source": [
    "import numpy as np"
   ]
  },
  {
   "cell_type": "code",
   "execution_count": 29,
   "metadata": {
    "colab": {
     "base_uri": "https://localhost:8080/"
    },
    "executionInfo": {
     "elapsed": 7,
     "status": "ok",
     "timestamp": 1643863391541,
     "user": {
      "displayName": "Raphael Oliveira",
      "photoUrl": "https://lh3.googleusercontent.com/a-/AOh14GjD-SSKQszy5GSX56GG3KCeCVRfxDP5F9s2SHVa=s64",
      "userId": "15853987874740266589"
     },
     "user_tz": 180
    },
    "id": "qnlzbU_u48VG",
    "outputId": "df4abbb1-c4ca-4443-ee7e-63a18c8b05d4"
   },
   "outputs": [
    {
     "data": {
      "text/plain": [
       "array([5, 2, 3, 4, 1])"
      ]
     },
     "execution_count": 29,
     "metadata": {},
     "output_type": "execute_result"
    }
   ],
   "source": [
    "np.array([5, 2, 3, 4, 1])"
   ]
  },
  {
   "cell_type": "code",
   "execution_count": 30,
   "metadata": {
    "colab": {
     "base_uri": "https://localhost:8080/"
    },
    "executionInfo": {
     "elapsed": 6,
     "status": "ok",
     "timestamp": 1643863397880,
     "user": {
      "displayName": "Raphael Oliveira",
      "photoUrl": "https://lh3.googleusercontent.com/a-/AOh14GjD-SSKQszy5GSX56GG3KCeCVRfxDP5F9s2SHVa=s64",
      "userId": "15853987874740266589"
     },
     "user_tz": 180
    },
    "id": "xwdUNdiV5LnG",
    "outputId": "c6f92d1e-13f7-49ef-d9c2-0c438d28ddbe"
   },
   "outputs": [
    {
     "data": {
      "text/plain": [
       "array(['5', '2', '3', '4', '1'], dtype='<U21')"
      ]
     },
     "execution_count": 30,
     "metadata": {},
     "output_type": "execute_result"
    }
   ],
   "source": [
    "np.array([5, 2, 3, 4, '1'])"
   ]
  },
  {
   "cell_type": "markdown",
   "metadata": {
    "id": "xNhqGMje6AaB"
   },
   "source": [
    "> numpy transforma o array todo em um array de somente um tipo"
   ]
  },
  {
   "cell_type": "code",
   "execution_count": 34,
   "metadata": {
    "colab": {
     "base_uri": "https://localhost:8080/"
    },
    "executionInfo": {
     "elapsed": 334,
     "status": "ok",
     "timestamp": 1643863444129,
     "user": {
      "displayName": "Raphael Oliveira",
      "photoUrl": "https://lh3.googleusercontent.com/a-/AOh14GjD-SSKQszy5GSX56GG3KCeCVRfxDP5F9s2SHVa=s64",
      "userId": "15853987874740266589"
     },
     "user_tz": 180
    },
    "id": "Stxbrnxx5NKE",
    "outputId": "dac11ee0-6bc0-4ecd-8dc3-f64c4b1c1ed6"
   },
   "outputs": [
    {
     "data": {
      "text/plain": [
       "array([5., 2., 3., 4., 1.])"
      ]
     },
     "execution_count": 34,
     "metadata": {},
     "output_type": "execute_result"
    }
   ],
   "source": [
    "np.array([5, 2, 3, 4, 1.])"
   ]
  },
  {
   "cell_type": "code",
   "execution_count": 36,
   "metadata": {
    "colab": {
     "base_uri": "https://localhost:8080/"
    },
    "executionInfo": {
     "elapsed": 16,
     "status": "ok",
     "timestamp": 1643863491626,
     "user": {
      "displayName": "Raphael Oliveira",
      "photoUrl": "https://lh3.googleusercontent.com/a-/AOh14GjD-SSKQszy5GSX56GG3KCeCVRfxDP5F9s2SHVa=s64",
      "userId": "15853987874740266589"
     },
     "user_tz": 180
    },
    "id": "oHAu77Sa5PIB",
    "outputId": "ec4c084c-abe5-4739-e7bf-f5aa449679a3"
   },
   "outputs": [
    {
     "data": {
      "text/plain": [
       "array([5., 2., 3., 4., 1.], dtype=float32)"
      ]
     },
     "execution_count": 36,
     "metadata": {},
     "output_type": "execute_result"
    }
   ],
   "source": [
    "# arrray com o tipo especificado\n",
    "np.array([5, 2, 3, 4, 1], dtype='float32')"
   ]
  },
  {
   "cell_type": "code",
   "execution_count": 39,
   "metadata": {
    "colab": {
     "base_uri": "https://localhost:8080/"
    },
    "executionInfo": {
     "elapsed": 291,
     "status": "ok",
     "timestamp": 1643863517180,
     "user": {
      "displayName": "Raphael Oliveira",
      "photoUrl": "https://lh3.googleusercontent.com/a-/AOh14GjD-SSKQszy5GSX56GG3KCeCVRfxDP5F9s2SHVa=s64",
      "userId": "15853987874740266589"
     },
     "user_tz": 180
    },
    "id": "NIlJ0GXt5kCa",
    "outputId": "f8fb6c46-44e7-4a72-acc4-29407735eeb4"
   },
   "outputs": [
    {
     "data": {
      "text/plain": [
       "array([0., 0., 0., 0., 0.])"
      ]
     },
     "execution_count": 39,
     "metadata": {},
     "output_type": "execute_result"
    }
   ],
   "source": [
    "# array de zeros\n",
    "z = np.zeros(5)\n",
    "z"
   ]
  },
  {
   "cell_type": "markdown",
   "metadata": {
    "id": "535kl7Pm8nfT"
   },
   "source": [
    "### Gerando arrays e matrizes"
   ]
  },
  {
   "cell_type": "code",
   "execution_count": 41,
   "metadata": {
    "colab": {
     "base_uri": "https://localhost:8080/"
    },
    "executionInfo": {
     "elapsed": 10,
     "status": "ok",
     "timestamp": 1643863642189,
     "user": {
      "displayName": "Raphael Oliveira",
      "photoUrl": "https://lh3.googleusercontent.com/a-/AOh14GjD-SSKQszy5GSX56GG3KCeCVRfxDP5F9s2SHVa=s64",
      "userId": "15853987874740266589"
     },
     "user_tz": 180
    },
    "id": "E6Een5MY5qHk",
    "outputId": "7ba64a61-d041-439b-f53a-5803cd4e51d7"
   },
   "outputs": [
    {
     "data": {
      "text/plain": [
       "array([  2,   4,   6,   8,  10,  12,  14,  16,  18,  20,  22,  24,  26,\n",
       "        28,  30,  32,  34,  36,  38,  40,  42,  44,  46,  48,  50,  52,\n",
       "        54,  56,  58,  60,  62,  64,  66,  68,  70,  72,  74,  76,  78,\n",
       "        80,  82,  84,  86,  88,  90,  92,  94,  96,  98, 100, 102, 104,\n",
       "       106, 108, 110, 112, 114, 116, 118, 120, 122, 124, 126, 128, 130,\n",
       "       132, 134, 136, 138, 140, 142, 144, 146, 148, 150, 152, 154, 156,\n",
       "       158, 160, 162, 164, 166, 168, 170, 172, 174, 176, 178, 180, 182,\n",
       "       184, 186, 188, 190, 192, 194, 196, 198, 200])"
      ]
     },
     "execution_count": 41,
     "metadata": {},
     "output_type": "execute_result"
    }
   ],
   "source": [
    "# array de numeros pares\n",
    "pares = np.arange(2, 201, 2)\n",
    "pares"
   ]
  },
  {
   "cell_type": "code",
   "execution_count": 44,
   "metadata": {
    "colab": {
     "base_uri": "https://localhost:8080/"
    },
    "executionInfo": {
     "elapsed": 297,
     "status": "ok",
     "timestamp": 1643863705512,
     "user": {
      "displayName": "Raphael Oliveira",
      "photoUrl": "https://lh3.googleusercontent.com/a-/AOh14GjD-SSKQszy5GSX56GG3KCeCVRfxDP5F9s2SHVa=s64",
      "userId": "15853987874740266589"
     },
     "user_tz": 180
    },
    "id": "pTMlsOqE6Iy7",
    "outputId": "b99d9b03-f887-4ef0-b2d5-e146e9a343a0"
   },
   "outputs": [
    {
     "data": {
      "text/plain": [
       "array([[0.60305999, 0.737266  ],\n",
       "       [0.45694529, 0.88163039],\n",
       "       [0.90681977, 0.76671333]])"
      ]
     },
     "execution_count": 44,
     "metadata": {},
     "output_type": "execute_result"
    }
   ],
   "source": [
    "# cria matriz três por dois com numero aleatórios\n",
    "np.random.rand(3, 2)"
   ]
  },
  {
   "cell_type": "markdown",
   "metadata": {
    "id": "mhHKLocC8cR7"
   },
   "source": [
    "### Operações entre arrays"
   ]
  },
  {
   "cell_type": "code",
   "execution_count": 61,
   "metadata": {
    "executionInfo": {
     "elapsed": 395,
     "status": "ok",
     "timestamp": 1643863925815,
     "user": {
      "displayName": "Raphael Oliveira",
      "photoUrl": "https://lh3.googleusercontent.com/a-/AOh14GjD-SSKQszy5GSX56GG3KCeCVRfxDP5F9s2SHVa=s64",
      "userId": "15853987874740266589"
     },
     "user_tz": 180
    },
    "id": "IiHHSnZe6Xag"
   },
   "outputs": [],
   "source": [
    "array_2 = np.array([2] * 5)\n",
    "array_10 = np.array([10] * 5)"
   ]
  },
  {
   "cell_type": "code",
   "execution_count": 62,
   "metadata": {
    "colab": {
     "base_uri": "https://localhost:8080/"
    },
    "executionInfo": {
     "elapsed": 257,
     "status": "ok",
     "timestamp": 1643863928409,
     "user": {
      "displayName": "Raphael Oliveira",
      "photoUrl": "https://lh3.googleusercontent.com/a-/AOh14GjD-SSKQszy5GSX56GG3KCeCVRfxDP5F9s2SHVa=s64",
      "userId": "15853987874740266589"
     },
     "user_tz": 180
    },
    "id": "oovi4pmS6mVK",
    "outputId": "908842e7-abc2-41ff-817f-9e08cff07062"
   },
   "outputs": [
    {
     "data": {
      "text/plain": [
       "array([4, 4, 4, 4, 4])"
      ]
     },
     "execution_count": 62,
     "metadata": {},
     "output_type": "execute_result"
    }
   ],
   "source": [
    "# soma mais dois em todo o array\n",
    "array_2 + 2"
   ]
  },
  {
   "cell_type": "code",
   "execution_count": 64,
   "metadata": {
    "colab": {
     "base_uri": "https://localhost:8080/"
    },
    "executionInfo": {
     "elapsed": 274,
     "status": "ok",
     "timestamp": 1643863933155,
     "user": {
      "displayName": "Raphael Oliveira",
      "photoUrl": "https://lh3.googleusercontent.com/a-/AOh14GjD-SSKQszy5GSX56GG3KCeCVRfxDP5F9s2SHVa=s64",
      "userId": "15853987874740266589"
     },
     "user_tz": 180
    },
    "id": "DWwJqYd_6oZI",
    "outputId": "9c395574-865a-405e-898e-eae82180c664"
   },
   "outputs": [
    {
     "data": {
      "text/plain": [
       "array([12, 12, 12, 12, 12])"
      ]
     },
     "execution_count": 64,
     "metadata": {},
     "output_type": "execute_result"
    }
   ],
   "source": [
    "# soma cada elemento do array\n",
    "array_2 + array_10"
   ]
  },
  {
   "cell_type": "code",
   "execution_count": 66,
   "metadata": {
    "colab": {
     "base_uri": "https://localhost:8080/"
    },
    "executionInfo": {
     "elapsed": 10,
     "status": "ok",
     "timestamp": 1643863968179,
     "user": {
      "displayName": "Raphael Oliveira",
      "photoUrl": "https://lh3.googleusercontent.com/a-/AOh14GjD-SSKQszy5GSX56GG3KCeCVRfxDP5F9s2SHVa=s64",
      "userId": "15853987874740266589"
     },
     "user_tz": 180
    },
    "id": "hK02UXpL7BQK",
    "outputId": "bbf0d84c-3dfa-45ec-a440-fd9405f42cea"
   },
   "outputs": [
    {
     "data": {
      "text/plain": [
       "array([20, 20, 20, 20, 20])"
      ]
     },
     "execution_count": 66,
     "metadata": {},
     "output_type": "execute_result"
    }
   ],
   "source": [
    "# multiplica cada elemento do array\n",
    "array_2 * array_10"
   ]
  },
  {
   "cell_type": "code",
   "execution_count": 69,
   "metadata": {
    "colab": {
     "base_uri": "https://localhost:8080/"
    },
    "executionInfo": {
     "elapsed": 276,
     "status": "ok",
     "timestamp": 1643863998116,
     "user": {
      "displayName": "Raphael Oliveira",
      "photoUrl": "https://lh3.googleusercontent.com/a-/AOh14GjD-SSKQszy5GSX56GG3KCeCVRfxDP5F9s2SHVa=s64",
      "userId": "15853987874740266589"
     },
     "user_tz": 180
    },
    "id": "JUHprssX7YYi",
    "outputId": "596f5260-3f0d-44c2-b0dd-d7cade07e74d"
   },
   "outputs": [
    {
     "data": {
      "text/plain": [
       "array([5., 5., 5., 5., 5.])"
      ]
     },
     "execution_count": 69,
     "metadata": {},
     "output_type": "execute_result"
    }
   ],
   "source": [
    "array_10 / array_2 "
   ]
  },
  {
   "cell_type": "code",
   "execution_count": 71,
   "metadata": {
    "colab": {
     "base_uri": "https://localhost:8080/"
    },
    "executionInfo": {
     "elapsed": 273,
     "status": "ok",
     "timestamp": 1643864027427,
     "user": {
      "displayName": "Raphael Oliveira",
      "photoUrl": "https://lh3.googleusercontent.com/a-/AOh14GjD-SSKQszy5GSX56GG3KCeCVRfxDP5F9s2SHVa=s64",
      "userId": "15853987874740266589"
     },
     "user_tz": 180
    },
    "id": "SAx9RPyN7auZ",
    "outputId": "133087bf-a65d-410c-9bdb-6fbd69e05b7e"
   },
   "outputs": [
    {
     "data": {
      "text/plain": [
       "array([100, 100, 100, 100, 100])"
      ]
     },
     "execution_count": 71,
     "metadata": {},
     "output_type": "execute_result"
    }
   ],
   "source": [
    "array_10 ** array_2 "
   ]
  },
  {
   "cell_type": "code",
   "execution_count": 76,
   "metadata": {
    "colab": {
     "base_uri": "https://localhost:8080/"
    },
    "executionInfo": {
     "elapsed": 366,
     "status": "ok",
     "timestamp": 1643864089564,
     "user": {
      "displayName": "Raphael Oliveira",
      "photoUrl": "https://lh3.googleusercontent.com/a-/AOh14GjD-SSKQszy5GSX56GG3KCeCVRfxDP5F9s2SHVa=s64",
      "userId": "15853987874740266589"
     },
     "user_tz": 180
    },
    "id": "oeT0cHr17m2Z",
    "outputId": "e932e09e-c8a2-44c8-b284-47cd9294bd43"
   },
   "outputs": [
    {
     "data": {
      "text/plain": [
       "array([1, 2, 3, 4, 5])"
      ]
     },
     "execution_count": 76,
     "metadata": {},
     "output_type": "execute_result"
    }
   ],
   "source": [
    "array_5 = np.array(range(1, 6))\n",
    "array_5"
   ]
  },
  {
   "cell_type": "code",
   "execution_count": 78,
   "metadata": {
    "colab": {
     "base_uri": "https://localhost:8080/"
    },
    "executionInfo": {
     "elapsed": 5,
     "status": "ok",
     "timestamp": 1643864104328,
     "user": {
      "displayName": "Raphael Oliveira",
      "photoUrl": "https://lh3.googleusercontent.com/a-/AOh14GjD-SSKQszy5GSX56GG3KCeCVRfxDP5F9s2SHVa=s64",
      "userId": "15853987874740266589"
     },
     "user_tz": 180
    },
    "id": "-hIc1x3x71_z",
    "outputId": "d6d786f3-c99e-4a38-cbdd-9ec8c3cf9a08"
   },
   "outputs": [
    {
     "data": {
      "text/plain": [
       "array([ 1,  4,  9, 16, 25])"
      ]
     },
     "execution_count": 78,
     "metadata": {},
     "output_type": "execute_result"
    }
   ],
   "source": [
    "array_5 ** array_2"
   ]
  },
  {
   "cell_type": "code",
   "execution_count": 79,
   "metadata": {
    "colab": {
     "base_uri": "https://localhost:8080/"
    },
    "executionInfo": {
     "elapsed": 284,
     "status": "ok",
     "timestamp": 1643864115442,
     "user": {
      "displayName": "Raphael Oliveira",
      "photoUrl": "https://lh3.googleusercontent.com/a-/AOh14GjD-SSKQszy5GSX56GG3KCeCVRfxDP5F9s2SHVa=s64",
      "userId": "15853987874740266589"
     },
     "user_tz": 180
    },
    "id": "WNwbT_l675oe",
    "outputId": "64d721dd-3d45-4a97-b073-a66884316566"
   },
   "outputs": [
    {
     "data": {
      "text/plain": [
       "array([ 1,  4,  9, 16, 25])"
      ]
     },
     "execution_count": 79,
     "metadata": {},
     "output_type": "execute_result"
    }
   ],
   "source": [
    "array_5 ** 2"
   ]
  },
  {
   "cell_type": "markdown",
   "metadata": {
    "id": "2rb2pIc18MVd"
   },
   "source": [
    "## 3\\. Indexação e Matrizes\n"
   ]
  },
  {
   "cell_type": "code",
   "execution_count": 81,
   "metadata": {
    "executionInfo": {
     "elapsed": 387,
     "status": "ok",
     "timestamp": 1643864408626,
     "user": {
      "displayName": "Raphael Oliveira",
      "photoUrl": "https://lh3.googleusercontent.com/a-/AOh14GjD-SSKQszy5GSX56GG3KCeCVRfxDP5F9s2SHVa=s64",
      "userId": "15853987874740266589"
     },
     "user_tz": 180
    },
    "id": "xy6IaPg38YTw"
   },
   "outputs": [],
   "source": [
    "primos = np.array([2, 3, 5, 7, 11])"
   ]
  },
  {
   "cell_type": "code",
   "execution_count": 82,
   "metadata": {
    "colab": {
     "base_uri": "https://localhost:8080/"
    },
    "executionInfo": {
     "elapsed": 15,
     "status": "ok",
     "timestamp": 1643864417612,
     "user": {
      "displayName": "Raphael Oliveira",
      "photoUrl": "https://lh3.googleusercontent.com/a-/AOh14GjD-SSKQszy5GSX56GG3KCeCVRfxDP5F9s2SHVa=s64",
      "userId": "15853987874740266589"
     },
     "user_tz": 180
    },
    "id": "flBpuuKV9D4l",
    "outputId": "d5302cef-c07c-4c45-ee41-6b230eb8d386"
   },
   "outputs": [
    {
     "data": {
      "text/plain": [
       "2"
      ]
     },
     "execution_count": 82,
     "metadata": {},
     "output_type": "execute_result"
    }
   ],
   "source": [
    "primos[0]"
   ]
  },
  {
   "cell_type": "code",
   "execution_count": 84,
   "metadata": {
    "colab": {
     "base_uri": "https://localhost:8080/"
    },
    "executionInfo": {
     "elapsed": 292,
     "status": "ok",
     "timestamp": 1643864487213,
     "user": {
      "displayName": "Raphael Oliveira",
      "photoUrl": "https://lh3.googleusercontent.com/a-/AOh14GjD-SSKQszy5GSX56GG3KCeCVRfxDP5F9s2SHVa=s64",
      "userId": "15853987874740266589"
     },
     "user_tz": 180
    },
    "id": "zFPgVoEw9GCc",
    "outputId": "15bc43c0-06fe-421c-afac-108c76154650"
   },
   "outputs": [
    {
     "data": {
      "text/plain": [
       "5"
      ]
     },
     "execution_count": 84,
     "metadata": {},
     "output_type": "execute_result"
    }
   ],
   "source": [
    "primos[-3]"
   ]
  },
  {
   "cell_type": "code",
   "execution_count": 90,
   "metadata": {
    "executionInfo": {
     "elapsed": 289,
     "status": "ok",
     "timestamp": 1643864594429,
     "user": {
      "displayName": "Raphael Oliveira",
      "photoUrl": "https://lh3.googleusercontent.com/a-/AOh14GjD-SSKQszy5GSX56GG3KCeCVRfxDP5F9s2SHVa=s64",
      "userId": "15853987874740266589"
     },
     "user_tz": 180
    },
    "id": "Q9HUojds9XF1"
   },
   "outputs": [],
   "source": [
    "lst_bool = [True, False, False, True, False]"
   ]
  },
  {
   "cell_type": "code",
   "execution_count": 91,
   "metadata": {
    "colab": {
     "base_uri": "https://localhost:8080/"
    },
    "executionInfo": {
     "elapsed": 16,
     "status": "ok",
     "timestamp": 1643864596018,
     "user": {
      "displayName": "Raphael Oliveira",
      "photoUrl": "https://lh3.googleusercontent.com/a-/AOh14GjD-SSKQszy5GSX56GG3KCeCVRfxDP5F9s2SHVa=s64",
      "userId": "15853987874740266589"
     },
     "user_tz": 180
    },
    "id": "dDQFaVfV9fLU",
    "outputId": "e02d9be1-f4f4-41d2-ef4e-940130309f99"
   },
   "outputs": [
    {
     "data": {
      "text/plain": [
       "array([2, 7])"
      ]
     },
     "execution_count": 91,
     "metadata": {},
     "output_type": "execute_result"
    }
   ],
   "source": [
    "# Indexação boleana só trás o elemento onde o indice da lista boleada e True\n",
    "primos[lst_bool]"
   ]
  },
  {
   "cell_type": "code",
   "execution_count": 99,
   "metadata": {
    "colab": {
     "base_uri": "https://localhost:8080/"
    },
    "executionInfo": {
     "elapsed": 262,
     "status": "ok",
     "timestamp": 1643864718767,
     "user": {
      "displayName": "Raphael Oliveira",
      "photoUrl": "https://lh3.googleusercontent.com/a-/AOh14GjD-SSKQszy5GSX56GG3KCeCVRfxDP5F9s2SHVa=s64",
      "userId": "15853987874740266589"
     },
     "user_tz": 180
    },
    "id": "6wlsr2bk9xmZ",
    "outputId": "91e6dc5a-ac72-453c-92af-faa31f9b6591"
   },
   "outputs": [
    {
     "data": {
      "text/plain": [
       "array([5, 7])"
      ]
     },
     "execution_count": 99,
     "metadata": {},
     "output_type": "execute_result"
    }
   ],
   "source": [
    "# fatiamento de array\n",
    "primos[-3:-1]"
   ]
  },
  {
   "cell_type": "markdown",
   "metadata": {
    "id": "rAvucHmA-X0J"
   },
   "source": [
    "### Matrizes"
   ]
  },
  {
   "cell_type": "code",
   "execution_count": 104,
   "metadata": {
    "colab": {
     "base_uri": "https://localhost:8080/"
    },
    "executionInfo": {
     "elapsed": 261,
     "status": "ok",
     "timestamp": 1643864852438,
     "user": {
      "displayName": "Raphael Oliveira",
      "photoUrl": "https://lh3.googleusercontent.com/a-/AOh14GjD-SSKQszy5GSX56GG3KCeCVRfxDP5F9s2SHVa=s64",
      "userId": "15853987874740266589"
     },
     "user_tz": 180
    },
    "id": "wi6cCPzw-aNH",
    "outputId": "bd9ee5a1-79b5-43bc-fd5c-ee78dafda15a"
   },
   "outputs": [
    {
     "data": {
      "text/plain": [
       "array([[1000, 6000],\n",
       "       [2500, 5500],\n",
       "       [3000, 7000]])"
      ]
     },
     "execution_count": 104,
     "metadata": {},
     "output_type": "execute_result"
    }
   ],
   "source": [
    "matriz = np.array([[1000, 6000], [2500, 5500], [3000, 7000]])\n",
    "matriz"
   ]
  },
  {
   "cell_type": "code",
   "execution_count": 119,
   "metadata": {
    "colab": {
     "base_uri": "https://localhost:8080/"
    },
    "executionInfo": {
     "elapsed": 395,
     "status": "ok",
     "timestamp": 1643865207545,
     "user": {
      "displayName": "Raphael Oliveira",
      "photoUrl": "https://lh3.googleusercontent.com/a-/AOh14GjD-SSKQszy5GSX56GG3KCeCVRfxDP5F9s2SHVa=s64",
      "userId": "15853987874740266589"
     },
     "user_tz": 180
    },
    "id": "yILd89Nh-jj-",
    "outputId": "14251b83-e02a-4e97-80fc-affb4f4fce92"
   },
   "outputs": [
    {
     "name": "stdout",
     "output_type": "stream",
     "text": [
      "[7000]\n",
      "[6000 5500 7000]\n",
      "[2500 3000]\n"
     ]
    }
   ],
   "source": [
    "# fatiando a matriz (primeiro elementos depois coluna [2:,1])\n",
    "\n",
    "print(matriz[2:,1]) # ultimo elemento da segunda coluna\n",
    "\n",
    "print(matriz[0:,1]) # todos os elementos da segunda coluna\n",
    "\n",
    "print(matriz[1:,0]) # dois elementos da primeira coluna"
   ]
  },
  {
   "cell_type": "code",
   "execution_count": 112,
   "metadata": {
    "colab": {
     "base_uri": "https://localhost:8080/"
    },
    "executionInfo": {
     "elapsed": 241,
     "status": "ok",
     "timestamp": 1643864985043,
     "user": {
      "displayName": "Raphael Oliveira",
      "photoUrl": "https://lh3.googleusercontent.com/a-/AOh14GjD-SSKQszy5GSX56GG3KCeCVRfxDP5F9s2SHVa=s64",
      "userId": "15853987874740266589"
     },
     "user_tz": 180
    },
    "id": "GjEVTPmg_Ied",
    "outputId": "07427d36-04cf-4308-8f3a-0c12fa205ab6"
   },
   "outputs": [
    {
     "data": {
      "text/plain": [
       "array([6.        , 2.2       , 2.33333333])"
      ]
     },
     "execution_count": 112,
     "metadata": {},
     "output_type": "execute_result"
    }
   ],
   "source": [
    "matriz[:, 1] / matriz[:,0]"
   ]
  },
  {
   "cell_type": "markdown",
   "metadata": {
    "id": "5de60k8FANue"
   },
   "source": [
    "## 4\\. Construindo e usando funções"
   ]
  },
  {
   "cell_type": "markdown",
   "metadata": {
    "id": "ulxuFtkXA5t5"
   },
   "source": [
    "### Escrevendo uma função def"
   ]
  },
  {
   "cell_type": "code",
   "execution_count": 127,
   "metadata": {
    "executionInfo": {
     "elapsed": 248,
     "status": "ok",
     "timestamp": 1643865715050,
     "user": {
      "displayName": "Raphael Oliveira",
      "photoUrl": "https://lh3.googleusercontent.com/a-/AOh14GjD-SSKQszy5GSX56GG3KCeCVRfxDP5F9s2SHVa=s64",
      "userId": "15853987874740266589"
     },
     "user_tz": 180
    },
    "id": "60xcx8lEAPqi"
   },
   "outputs": [],
   "source": [
    "imc = lambda x, y: round(x / y ** 2, 2)"
   ]
  },
  {
   "cell_type": "code",
   "execution_count": 132,
   "metadata": {
    "colab": {
     "base_uri": "https://localhost:8080/"
    },
    "executionInfo": {
     "elapsed": 249,
     "status": "ok",
     "timestamp": 1643865736519,
     "user": {
      "displayName": "Raphael Oliveira",
      "photoUrl": "https://lh3.googleusercontent.com/a-/AOh14GjD-SSKQszy5GSX56GG3KCeCVRfxDP5F9s2SHVa=s64",
      "userId": "15853987874740266589"
     },
     "user_tz": 180
    },
    "id": "nUp1AO4GBHZW",
    "outputId": "e51471df-6925-4492-b50e-0e2863fe8b35"
   },
   "outputs": [
    {
     "data": {
      "text/plain": [
       "22.39"
      ]
     },
     "execution_count": 132,
     "metadata": {},
     "output_type": "execute_result"
    }
   ],
   "source": [
    "imc(67, 1.73)"
   ]
  },
  {
   "cell_type": "markdown",
   "metadata": {
    "id": "qRK4phmKEZCT"
   },
   "source": [
    "### Métodos"
   ]
  },
  {
   "cell_type": "code",
   "execution_count": 135,
   "metadata": {
    "colab": {
     "base_uri": "https://localhost:8080/"
    },
    "executionInfo": {
     "elapsed": 311,
     "status": "ok",
     "timestamp": 1643866463368,
     "user": {
      "displayName": "Raphael Oliveira",
      "photoUrl": "https://lh3.googleusercontent.com/a-/AOh14GjD-SSKQszy5GSX56GG3KCeCVRfxDP5F9s2SHVa=s64",
      "userId": "15853987874740266589"
     },
     "user_tz": 180
    },
    "id": "6HxNuZ7sEbVg",
    "outputId": "3ec1a64f-91d9-403f-a065-8e98c4a07950"
   },
   "outputs": [
    {
     "name": "stdout",
     "output_type": "stream",
     "text": [
      "Raphael Oliveira\n",
      "RAPHAEL OLIVEIRA\n",
      "3\n"
     ]
    }
   ],
   "source": [
    "name = 'raphael oliveira'\n",
    "\n",
    "print(name.title())\n",
    "print(name.upper())\n",
    "print(name.count('a'))"
   ]
  }
 ],
 "metadata": {
  "colab": {
   "authorship_tag": "ABX9TyOj12LwFTG6CDI1DI5FlP63",
   "name": "modulo_3b.ipynb",
   "provenance": [],
   "toc_visible": true
  },
  "kernelspec": {
   "display_name": "Python 3 (ipykernel)",
   "language": "python",
   "name": "python3"
  },
  "language_info": {
   "codemirror_mode": {
    "name": "ipython",
    "version": 3
   },
   "file_extension": ".py",
   "mimetype": "text/x-python",
   "name": "python",
   "nbconvert_exporter": "python",
   "pygments_lexer": "ipython3",
   "version": "3.9.12"
  }
 },
 "nbformat": 4,
 "nbformat_minor": 1
}
