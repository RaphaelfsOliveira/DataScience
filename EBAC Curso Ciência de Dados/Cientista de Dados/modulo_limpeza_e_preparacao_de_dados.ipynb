{
 "cells": [
  {
   "cell_type": "markdown",
   "metadata": {},
   "source": [
    "# Module 5 - Limpeza e preparação de dados"
   ]
  },
  {
   "cell_type": "markdown",
   "metadata": {},
   "source": [
    "## 1\\. Identificando e tratando dados ausentes"
   ]
  },
  {
   "cell_type": "code",
   "execution_count": 1,
   "metadata": {},
   "outputs": [],
   "source": [
    "import pandas as pd\n",
    "import numpy as np"
   ]
  },
  {
   "cell_type": "code",
   "execution_count": 28,
   "metadata": {},
   "outputs": [
    {
     "data": {
      "text/html": [
       "<div>\n",
       "<style scoped>\n",
       "    .dataframe tbody tr th:only-of-type {\n",
       "        vertical-align: middle;\n",
       "    }\n",
       "\n",
       "    .dataframe tbody tr th {\n",
       "        vertical-align: top;\n",
       "    }\n",
       "\n",
       "    .dataframe thead th {\n",
       "        text-align: right;\n",
       "    }\n",
       "</style>\n",
       "<table border=\"1\" class=\"dataframe\">\n",
       "  <thead>\n",
       "    <tr style=\"text-align: right;\">\n",
       "      <th></th>\n",
       "      <th>coluna1</th>\n",
       "      <th>coluna2</th>\n",
       "      <th>coluna3</th>\n",
       "      <th>coluna4</th>\n",
       "    </tr>\n",
       "  </thead>\n",
       "  <tbody>\n",
       "    <tr>\n",
       "      <th>A</th>\n",
       "      <td>19.224568</td>\n",
       "      <td>5.334578</td>\n",
       "      <td>42.255191</td>\n",
       "      <td>17.274552</td>\n",
       "    </tr>\n",
       "    <tr>\n",
       "      <th>B</th>\n",
       "      <td>23.397801</td>\n",
       "      <td>75.997894</td>\n",
       "      <td>66.286743</td>\n",
       "      <td>50.555908</td>\n",
       "    </tr>\n",
       "    <tr>\n",
       "      <th>C</th>\n",
       "      <td>62.425611</td>\n",
       "      <td>14.712186</td>\n",
       "      <td>3.429024</td>\n",
       "      <td>97.323160</td>\n",
       "    </tr>\n",
       "    <tr>\n",
       "      <th>D</th>\n",
       "      <td>83.885714</td>\n",
       "      <td>71.149910</td>\n",
       "      <td>35.512545</td>\n",
       "      <td>28.286585</td>\n",
       "    </tr>\n",
       "    <tr>\n",
       "      <th>E</th>\n",
       "      <td>59.676419</td>\n",
       "      <td>56.793323</td>\n",
       "      <td>11.266395</td>\n",
       "      <td>4.236952</td>\n",
       "    </tr>\n",
       "    <tr>\n",
       "      <th>F</th>\n",
       "      <td>12.370253</td>\n",
       "      <td>83.181236</td>\n",
       "      <td>7.990770</td>\n",
       "      <td>17.765918</td>\n",
       "    </tr>\n",
       "    <tr>\n",
       "      <th>G</th>\n",
       "      <td>21.819332</td>\n",
       "      <td>77.891506</td>\n",
       "      <td>49.616287</td>\n",
       "      <td>62.071815</td>\n",
       "    </tr>\n",
       "    <tr>\n",
       "      <th>H</th>\n",
       "      <td>28.317081</td>\n",
       "      <td>14.235639</td>\n",
       "      <td>61.722760</td>\n",
       "      <td>36.772142</td>\n",
       "    </tr>\n",
       "    <tr>\n",
       "      <th>I</th>\n",
       "      <td>73.945177</td>\n",
       "      <td>1.565151</td>\n",
       "      <td>69.060792</td>\n",
       "      <td>89.420183</td>\n",
       "    </tr>\n",
       "  </tbody>\n",
       "</table>\n",
       "</div>"
      ],
      "text/plain": [
       "     coluna1    coluna2    coluna3    coluna4\n",
       "A  19.224568   5.334578  42.255191  17.274552\n",
       "B  23.397801  75.997894  66.286743  50.555908\n",
       "C  62.425611  14.712186   3.429024  97.323160\n",
       "D  83.885714  71.149910  35.512545  28.286585\n",
       "E  59.676419  56.793323  11.266395   4.236952\n",
       "F  12.370253  83.181236   7.990770  17.765918\n",
       "G  21.819332  77.891506  49.616287  62.071815\n",
       "H  28.317081  14.235639  61.722760  36.772142\n",
       "I  73.945177   1.565151  69.060792  89.420183"
      ]
     },
     "execution_count": 28,
     "metadata": {},
     "output_type": "execute_result"
    }
   ],
   "source": [
    "# construindo um dataframe\n",
    "df = pd.DataFrame(\n",
    "    np.random.rand(9, 4) * 100,\n",
    "    index=[chr(i) for i in range(ord(\"A\"), ord(\"J\"))],\n",
    "    columns=[\"coluna%s\" %i for i in range(1, 5)]\n",
    ")\n",
    "df\n"
   ]
  },
  {
   "cell_type": "code",
   "execution_count": 31,
   "metadata": {},
   "outputs": [
    {
     "data": {
      "text/plain": [
       "coluna1    float64\n",
       "coluna2    float64\n",
       "coluna3    float64\n",
       "coluna4    float64\n",
       "dtype: object"
      ]
     },
     "execution_count": 31,
     "metadata": {},
     "output_type": "execute_result"
    }
   ],
   "source": [
    "# tipos das colunas\n",
    "df.dtypes"
   ]
  },
  {
   "cell_type": "code",
   "execution_count": 39,
   "metadata": {},
   "outputs": [
    {
     "data": {
      "text/plain": [
       "coluna1      int64\n",
       "coluna2    float64\n",
       "coluna3     object\n",
       "coluna4    float64\n",
       "dtype: object"
      ]
     },
     "execution_count": 39,
     "metadata": {},
     "output_type": "execute_result"
    }
   ],
   "source": [
    "df['coluna1'] = df['coluna1'].astype(int)\n",
    "df.dtypes"
   ]
  },
  {
   "cell_type": "code",
   "execution_count": 40,
   "metadata": {},
   "outputs": [
    {
     "data": {
      "text/plain": [
       "coluna1      int64\n",
       "coluna2    float64\n",
       "coluna3     object\n",
       "coluna4    float64\n",
       "dtype: object"
      ]
     },
     "execution_count": 40,
     "metadata": {},
     "output_type": "execute_result"
    }
   ],
   "source": [
    "df['coluna3'] = df['coluna3'].astype(str)\n",
    "df.dtypes"
   ]
  },
  {
   "cell_type": "code",
   "execution_count": 42,
   "metadata": {},
   "outputs": [
    {
     "data": {
      "text/html": [
       "<div>\n",
       "<style scoped>\n",
       "    .dataframe tbody tr th:only-of-type {\n",
       "        vertical-align: middle;\n",
       "    }\n",
       "\n",
       "    .dataframe tbody tr th {\n",
       "        vertical-align: top;\n",
       "    }\n",
       "\n",
       "    .dataframe thead th {\n",
       "        text-align: right;\n",
       "    }\n",
       "</style>\n",
       "<table border=\"1\" class=\"dataframe\">\n",
       "  <thead>\n",
       "    <tr style=\"text-align: right;\">\n",
       "      <th></th>\n",
       "      <th>coluna1</th>\n",
       "      <th>coluna2</th>\n",
       "      <th>coluna3</th>\n",
       "      <th>coluna4</th>\n",
       "    </tr>\n",
       "  </thead>\n",
       "  <tbody>\n",
       "    <tr>\n",
       "      <th>A</th>\n",
       "      <td>19</td>\n",
       "      <td>5.334578</td>\n",
       "      <td>42.255190796214734</td>\n",
       "      <td>17.274552</td>\n",
       "    </tr>\n",
       "    <tr>\n",
       "      <th>B</th>\n",
       "      <td>23</td>\n",
       "      <td>75.997894</td>\n",
       "      <td>66.28674306770573</td>\n",
       "      <td>50.555908</td>\n",
       "    </tr>\n",
       "    <tr>\n",
       "      <th>C</th>\n",
       "      <td>62</td>\n",
       "      <td>14.712186</td>\n",
       "      <td>3.429024060428465</td>\n",
       "      <td>97.323160</td>\n",
       "    </tr>\n",
       "    <tr>\n",
       "      <th>D</th>\n",
       "      <td>83</td>\n",
       "      <td>71.149910</td>\n",
       "      <td>35.51254489778491</td>\n",
       "      <td>28.286585</td>\n",
       "    </tr>\n",
       "    <tr>\n",
       "      <th>E</th>\n",
       "      <td>59</td>\n",
       "      <td>56.793323</td>\n",
       "      <td>11.266395108539617</td>\n",
       "      <td>4.236952</td>\n",
       "    </tr>\n",
       "    <tr>\n",
       "      <th>F</th>\n",
       "      <td>12</td>\n",
       "      <td>83.181236</td>\n",
       "      <td>7.990770106266865</td>\n",
       "      <td>17.765918</td>\n",
       "    </tr>\n",
       "    <tr>\n",
       "      <th>G</th>\n",
       "      <td>21</td>\n",
       "      <td>77.891506</td>\n",
       "      <td>49.61628656373127</td>\n",
       "      <td>62.071815</td>\n",
       "    </tr>\n",
       "    <tr>\n",
       "      <th>H</th>\n",
       "      <td>28</td>\n",
       "      <td>14.235639</td>\n",
       "      <td>61.72276021602391</td>\n",
       "      <td>36.772142</td>\n",
       "    </tr>\n",
       "    <tr>\n",
       "      <th>I</th>\n",
       "      <td>73</td>\n",
       "      <td>1.565151</td>\n",
       "      <td>69.06079187224358</td>\n",
       "      <td>89.420183</td>\n",
       "    </tr>\n",
       "  </tbody>\n",
       "</table>\n",
       "</div>"
      ],
      "text/plain": [
       "   coluna1    coluna2             coluna3    coluna4\n",
       "A       19   5.334578  42.255190796214734  17.274552\n",
       "B       23  75.997894   66.28674306770573  50.555908\n",
       "C       62  14.712186   3.429024060428465  97.323160\n",
       "D       83  71.149910   35.51254489778491  28.286585\n",
       "E       59  56.793323  11.266395108539617   4.236952\n",
       "F       12  83.181236   7.990770106266865  17.765918\n",
       "G       21  77.891506   49.61628656373127  62.071815\n",
       "H       28  14.235639   61.72276021602391  36.772142\n",
       "I       73   1.565151   69.06079187224358  89.420183"
      ]
     },
     "execution_count": 42,
     "metadata": {},
     "output_type": "execute_result"
    }
   ],
   "source": [
    "df"
   ]
  },
  {
   "cell_type": "code",
   "execution_count": 45,
   "metadata": {},
   "outputs": [
    {
     "data": {
      "text/plain": [
       "'11.266395108539617'"
      ]
     },
     "execution_count": 45,
     "metadata": {},
     "output_type": "execute_result"
    }
   ],
   "source": [
    "# acessando valor por linha e coluna\n",
    "df.iloc[4, 2]"
   ]
  },
  {
   "cell_type": "code",
   "execution_count": 47,
   "metadata": {},
   "outputs": [],
   "source": [
    "# inserindo um dado faltante no dataframe\n",
    "df.iloc[4, 2] = np.nan"
   ]
  },
  {
   "cell_type": "code",
   "execution_count": 48,
   "metadata": {},
   "outputs": [
    {
     "data": {
      "text/html": [
       "<div>\n",
       "<style scoped>\n",
       "    .dataframe tbody tr th:only-of-type {\n",
       "        vertical-align: middle;\n",
       "    }\n",
       "\n",
       "    .dataframe tbody tr th {\n",
       "        vertical-align: top;\n",
       "    }\n",
       "\n",
       "    .dataframe thead th {\n",
       "        text-align: right;\n",
       "    }\n",
       "</style>\n",
       "<table border=\"1\" class=\"dataframe\">\n",
       "  <thead>\n",
       "    <tr style=\"text-align: right;\">\n",
       "      <th></th>\n",
       "      <th>coluna1</th>\n",
       "      <th>coluna2</th>\n",
       "      <th>coluna3</th>\n",
       "      <th>coluna4</th>\n",
       "    </tr>\n",
       "  </thead>\n",
       "  <tbody>\n",
       "    <tr>\n",
       "      <th>A</th>\n",
       "      <td>19</td>\n",
       "      <td>5.334578</td>\n",
       "      <td>42.255190796214734</td>\n",
       "      <td>17.274552</td>\n",
       "    </tr>\n",
       "    <tr>\n",
       "      <th>B</th>\n",
       "      <td>23</td>\n",
       "      <td>75.997894</td>\n",
       "      <td>66.28674306770573</td>\n",
       "      <td>50.555908</td>\n",
       "    </tr>\n",
       "    <tr>\n",
       "      <th>C</th>\n",
       "      <td>62</td>\n",
       "      <td>14.712186</td>\n",
       "      <td>3.429024060428465</td>\n",
       "      <td>97.323160</td>\n",
       "    </tr>\n",
       "    <tr>\n",
       "      <th>D</th>\n",
       "      <td>83</td>\n",
       "      <td>71.149910</td>\n",
       "      <td>35.51254489778491</td>\n",
       "      <td>28.286585</td>\n",
       "    </tr>\n",
       "    <tr>\n",
       "      <th>E</th>\n",
       "      <td>59</td>\n",
       "      <td>56.793323</td>\n",
       "      <td>NaN</td>\n",
       "      <td>4.236952</td>\n",
       "    </tr>\n",
       "    <tr>\n",
       "      <th>F</th>\n",
       "      <td>12</td>\n",
       "      <td>83.181236</td>\n",
       "      <td>7.990770106266865</td>\n",
       "      <td>17.765918</td>\n",
       "    </tr>\n",
       "    <tr>\n",
       "      <th>G</th>\n",
       "      <td>21</td>\n",
       "      <td>77.891506</td>\n",
       "      <td>49.61628656373127</td>\n",
       "      <td>62.071815</td>\n",
       "    </tr>\n",
       "    <tr>\n",
       "      <th>H</th>\n",
       "      <td>28</td>\n",
       "      <td>14.235639</td>\n",
       "      <td>61.72276021602391</td>\n",
       "      <td>36.772142</td>\n",
       "    </tr>\n",
       "    <tr>\n",
       "      <th>I</th>\n",
       "      <td>73</td>\n",
       "      <td>1.565151</td>\n",
       "      <td>69.06079187224358</td>\n",
       "      <td>89.420183</td>\n",
       "    </tr>\n",
       "  </tbody>\n",
       "</table>\n",
       "</div>"
      ],
      "text/plain": [
       "   coluna1    coluna2             coluna3    coluna4\n",
       "A       19   5.334578  42.255190796214734  17.274552\n",
       "B       23  75.997894   66.28674306770573  50.555908\n",
       "C       62  14.712186   3.429024060428465  97.323160\n",
       "D       83  71.149910   35.51254489778491  28.286585\n",
       "E       59  56.793323                 NaN   4.236952\n",
       "F       12  83.181236   7.990770106266865  17.765918\n",
       "G       21  77.891506   49.61628656373127  62.071815\n",
       "H       28  14.235639   61.72276021602391  36.772142\n",
       "I       73   1.565151   69.06079187224358  89.420183"
      ]
     },
     "execution_count": 48,
     "metadata": {},
     "output_type": "execute_result"
    }
   ],
   "source": [
    "# NaN = Not a Number\n",
    "df"
   ]
  }
 ],
 "metadata": {
  "kernelspec": {
   "display_name": "Python 3.10.5 64-bit",
   "language": "python",
   "name": "python3"
  },
  "language_info": {
   "codemirror_mode": {
    "name": "ipython",
    "version": 3
   },
   "file_extension": ".py",
   "mimetype": "text/x-python",
   "name": "python",
   "nbconvert_exporter": "python",
   "pygments_lexer": "ipython3",
   "version": "3.10.5"
  },
  "orig_nbformat": 4,
  "vscode": {
   "interpreter": {
    "hash": "aee8b7b246df8f9039afb4144a1f6fd8d2ca17a180786b69acc140d282b71a49"
   }
  }
 },
 "nbformat": 4,
 "nbformat_minor": 2
}
