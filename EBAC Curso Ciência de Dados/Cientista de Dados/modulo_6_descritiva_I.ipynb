{
 "cells": [
  {
   "cell_type": "markdown",
   "metadata": {
    "pycharm": {
     "name": "#%% md\n"
    }
   },
   "source": [
    "# Module 6 - Descritiva I"
   ]
  },
  {
   "cell_type": "markdown",
   "metadata": {
    "pycharm": {
     "name": "#%% md\n"
    }
   },
   "source": [
    "## 6.1 Tipos de variáveis e análise univariada e bivariada"
   ]
  },
  {
   "cell_type": "markdown",
   "metadata": {
    "pycharm": {
     "name": "#%% md\n"
    }
   },
   "source": [
    "### Tipos de variáveis\n",
    "\n",
    "- Quantitativas discretas\n",
    "- Quantitativas contínuas\n",
    "- Qualitativas nominais\n",
    "- Qualitativas ordinais"
   ]
  },
  {
   "cell_type": "markdown",
   "metadata": {
    "pycharm": {
     "name": "#%% md\n"
    }
   },
   "source": [
    "### Quantitativas\n",
    "\n",
    "- Variáveis quantitativas representam quantidades. Faz sentido fazer 'contas' com elas, extrair médias, somar seus valores e etc.\n",
    "- OBS: Se dividem em **Discretas** e **Contínuas**\n",
    "---\n",
    "- **Discretas**\n",
    "    - Variáveis quantitativas Discretas têm seu domínio (conjunto de possíveis valores) enumerável. Comunente são contagens de algo\n",
    "    - ex: \n",
    "        - Resultado de um dado\n",
    "        - Número de peixes pescado\n",
    "        - Nota em uma prova.\n",
    "---\n",
    "- **Contínuas**\n",
    "    - Variáveis quantitativas Contínuas têm seu domínio (conjunto de possíveis valores) **não** enumerável. Em geral são medidas de um atributo físico ou subproduto de outras variáveis (médias, somas etc.) \n",
    "    - ex: \n",
    "        - Peso\n",
    "        - Temperatura\n",
    "        - Salário.\n"
   ]
  },
  {
   "cell_type": "markdown",
   "metadata": {
    "pycharm": {
     "name": "#%% md\n"
    }
   },
   "source": [
    "### Qualitativas\n",
    "\n",
    "- São 'categorias', 'classificações' ou 'qualidades' de algo. Não faz sentido fazer contas com variáveis qualitativas que não sejam baseadas em contagens\n",
    "---\n",
    "- **Ordinais**\n",
    "    - Qualitativas ordinais possuem uma 'ordem' implícita, como:\n",
    "    - ex:\n",
    "        - Tamanho: P, M ou G\n",
    "        - Opinião: Concordo, Neutro, Discordo\n",
    "        - Classe social: A, B, C, D e E\n",
    "---\n",
    "- **Nominais**\n",
    "    - Qualitativas nominais são também categorias, mas sem ordem implícita.\n",
    "    - ex:\n",
    "        - Sabor: tamarindo, limão, groselha\n",
    "        - Estado civil: casado, solteiro, desquitado etc\n",
    "        - Tipo de jogo: plataforma, corrida, esporte etc\n"
   ]
  },
  {
   "cell_type": "markdown",
   "metadata": {
    "pycharm": {
     "name": "#%% md\n"
    }
   },
   "source": [
    "## 6.2 Matplotlib"
   ]
  },
  {
   "cell_type": "markdown",
   "metadata": {
    "pycharm": {
     "name": "#%% md\n"
    }
   },
   "source": [
    "### Introdução ao Matplotlib\n",
    "\n",
    "Além de o matplotlib ser o pacote mais popular para construção de gráficos no Python, ele é a base dos métodos gráficos do pandas e também dos gráficos feitos pelo seaborne - que é uma biblioteca que fornece procedimentos práticos para a construção de gráficos mais sofisticados."
   ]
  },
  {
   "cell_type": "code",
   "execution_count": 1,
   "metadata": {
    "pycharm": {
     "name": "#%%\n"
    }
   },
   "outputs": [],
   "source": [
    "import pandas as pd\n",
    "import matplotlib.pyplot as plt\n",
    "import numpy as np\n",
    "import seaborn as sns\n",
    "\n",
    "# %matplotlib inline\n",
    "# %matplotlib notebook"
   ]
  },
  {
   "cell_type": "code",
   "execution_count": null,
   "metadata": {
    "pycharm": {
     "name": "#%%\n"
    }
   },
   "outputs": [],
   "source": [
    "data = [1,2,3,3,2,3,4,5]\n",
    "\n",
    "plt.plot(data)"
   ]
  },
  {
   "cell_type": "code",
   "execution_count": null,
   "metadata": {
    "pycharm": {
     "name": "#%%\n"
    }
   },
   "outputs": [],
   "source": [
    "# base do matplotlib desenha uma figura em branco\n",
    "fig = plt.figure()"
   ]
  },
  {
   "cell_type": "code",
   "execution_count": null,
   "metadata": {
    "pycharm": {
     "name": "#%%\n"
    }
   },
   "outputs": [],
   "source": [
    "# adiciona subgraficos dentro de uma área de gráfico\n",
    "\n",
    "ax1 = fig.add_subplot(2,2,1)\n",
    "ax2 = fig.add_subplot(2,2,2)\n",
    "ax3 = fig.add_subplot(2,2,3)\n",
    "ax4 = fig.add_subplot(2,2,4)"
   ]
  },
  {
   "cell_type": "code",
   "execution_count": null,
   "metadata": {
    "pycharm": {
     "name": "#%%\n"
    }
   },
   "outputs": [],
   "source": [
    "# desenha uma grafico aleatório dentro de um gráfico\n",
    "\n",
    "plt.plot(np.random.randn(50).cumsum(), 'k--')"
   ]
  },
  {
   "cell_type": "code",
   "execution_count": null,
   "metadata": {
    "pycharm": {
     "name": "#%%\n"
    }
   },
   "outputs": [],
   "source": [
    "# desenha gráficos dentro dos subgráficos que foram criados anteriormente\n",
    "\n",
    "ax1.hist(np.random.randn(100), bins=20, color='k', alpha=0.3)\n",
    "_ = ax2.scatter(np.arange(30), np.arange(30) + 3 * np.random.randn(30))"
   ]
  },
  {
   "cell_type": "code",
   "execution_count": null,
   "metadata": {
    "pycharm": {
     "name": "#%%\n"
    }
   },
   "outputs": [],
   "source": [
    "# fecha todos os gráficos\n",
    "\n",
    "plt.close('all')"
   ]
  },
  {
   "cell_type": "code",
   "execution_count": null,
   "metadata": {
    "pycharm": {
     "name": "#%%\n"
    }
   },
   "outputs": [],
   "source": [
    "# inserindo uma matriz de gráficos dentro da figura que foi definida\n",
    "\n",
    "fig, axes = plt.subplots(2,3)"
   ]
  },
  {
   "cell_type": "code",
   "execution_count": null,
   "metadata": {
    "pycharm": {
     "name": "#%%\n"
    }
   },
   "outputs": [],
   "source": [
    "axes.shape"
   ]
  },
  {
   "cell_type": "code",
   "execution_count": null,
   "metadata": {
    "pycharm": {
     "name": "#%%\n"
    }
   },
   "outputs": [],
   "source": [
    "axes[0,0]"
   ]
  },
  {
   "cell_type": "code",
   "execution_count": null,
   "metadata": {
    "pycharm": {
     "name": "#%%\n"
    }
   },
   "outputs": [],
   "source": [
    "fig, axes = plt.subplots(2, 2, sharex=True, sharey=True)\n",
    "\n",
    "for i in range(2):\n",
    "    for j in range(2):\n",
    "        axes[i, j].hist(np.random.randn(500), bins=50, color='b', alpha=0.8)\n",
    "\n",
    "# o método subplots_adjust ajusta o espaçamento entre os eixos\n",
    "plt.subplots_adjust(wspace=0.01, hspace=0.01)"
   ]
  },
  {
   "cell_type": "code",
   "execution_count": null,
   "metadata": {
    "pycharm": {
     "name": "#%%\n"
    },
    "slideshow": {
     "slide_type": "subslide"
    }
   },
   "outputs": [],
   "source": [
    "from numpy.random import randn\n",
    "\n",
    "plt.plot(randn(30).cumsum(), 'go--')"
   ]
  },
  {
   "cell_type": "code",
   "execution_count": null,
   "metadata": {
    "pycharm": {
     "name": "#%%\n"
    }
   },
   "outputs": [],
   "source": [
    "plt.close('all')"
   ]
  },
  {
   "cell_type": "code",
   "execution_count": null,
   "metadata": {
    "pycharm": {
     "name": "#%%\n"
    }
   },
   "outputs": [],
   "source": [
    "# Docstring de um método \n",
    "\n",
    "plt.plot?"
   ]
  },
  {
   "cell_type": "code",
   "execution_count": null,
   "metadata": {
    "pycharm": {
     "name": "#%%\n"
    }
   },
   "outputs": [],
   "source": [
    "# definindo outro gráfico com a lib\n",
    "\n",
    "data = np.random.randn(30).cumsum()\n",
    "plt.plot(data, 'k--', label='Default')\n",
    "plt.plot(data, 'b-', drawstyle='steps-post', label='steps-post')\n",
    "plt.legend(loc='best')"
   ]
  },
  {
   "cell_type": "markdown",
   "metadata": {
    "pycharm": {
     "name": "#%% md\n"
    }
   },
   "source": [
    "### Tiques, rótulos e legendas"
   ]
  },
  {
   "cell_type": "markdown",
   "metadata": {
    "pycharm": {
     "name": "#%% md\n"
    }
   },
   "source": []
  },
  {
   "cell_type": "code",
   "execution_count": null,
   "metadata": {
    "pycharm": {
     "name": "#%%\n"
    }
   },
   "outputs": [],
   "source": [
    "# definindo uma figura com um gráfico\n",
    "\n",
    "fig = plt.figure()\n",
    "ax = fig.add_subplot(1, 1, 1)\n",
    "ax.plot(np.random.randn(1000).cumsum())"
   ]
  },
  {
   "cell_type": "code",
   "execution_count": null,
   "metadata": {
    "pycharm": {
     "name": "#%%\n"
    }
   },
   "outputs": [],
   "source": [
    "# adicionando legendas no eixo x\n",
    "\n",
    "ticks = ax.set_xticks([0, 250, 500, 750, 1000])\n",
    "labels = ax.set_xticklabels(\n",
    "    ['ano 1', 'ano 2', 'ano 3', 'ano 4', 'ano 5'],\n",
    "    rotation=30,\n",
    "    fontsize='small'\n",
    ")"
   ]
  },
  {
   "cell_type": "code",
   "execution_count": null,
   "metadata": {
    "pycharm": {
     "name": "#%%\n"
    }
   },
   "outputs": [],
   "source": [
    "# adicionando titulo ao gráfico e um titulo ao eixo x\n",
    "\n",
    "ax.set_title('Título do gráfico')\n",
    "ax.set_xlabel('Período')"
   ]
  },
  {
   "cell_type": "code",
   "execution_count": null,
   "metadata": {
    "pycharm": {
     "name": "#%%\n"
    }
   },
   "outputs": [],
   "source": [
    "plt.close('all')\n",
    "\n",
    "# outro gráfico\n",
    "from numpy.random import rand\n",
    "\n",
    "fig = plt.figure(); ax = fig.add_subplot(1, 1, 1)\n",
    "ax.plot(randn(1000).cumsum(), 'k--', label='two')\n",
    "ax.plot(randn(1000).cumsum(), 'k', label='three')"
   ]
  },
  {
   "cell_type": "code",
   "execution_count": null,
   "metadata": {
    "pycharm": {
     "name": "#%%\n"
    }
   },
   "outputs": [],
   "source": [
    "# adicionando legenda as linhas automaticamente\n",
    "\n",
    "ax.legend(loc='best')"
   ]
  },
  {
   "cell_type": "markdown",
   "metadata": {
    "pycharm": {
     "name": "#%% md\n"
    }
   },
   "source": [
    "### Salvando em Arquivos"
   ]
  },
  {
   "cell_type": "markdown",
   "metadata": {
    "pycharm": {
     "name": "#%% md\n"
    }
   },
   "source": [
    "plt.savefig('figpath.svg')\n",
    "plt.savefig('figpath.svg', dpi=400, bbox_inches='tight')"
   ]
  },
  {
   "cell_type": "markdown",
   "metadata": {
    "pycharm": {
     "name": "#%% md\n"
    }
   },
   "source": [
    "### Configuração do Matplotlib"
   ]
  },
  {
   "cell_type": "markdown",
   "metadata": {
    "pycharm": {
     "name": "#%% md\n"
    }
   },
   "source": [
    "plt.rc('figure', figsize(10, 10))\n",
    "\n",
    "font_options = {'family': 'monospace', 'weight': 'bold', 'size': 'small'}\n",
    "plt.rc('font', **font_options)"
   ]
  },
  {
   "cell_type": "markdown",
   "metadata": {
    "pycharm": {
     "name": "#%% md\n"
    }
   },
   "source": [
    "## 6.3 Gráficos básicos"
   ]
  },
  {
   "cell_type": "markdown",
   "metadata": {},
   "source": [
    "### Base de dados (Preparando o ambiente)"
   ]
  },
  {
   "cell_type": "code",
   "execution_count": 3,
   "metadata": {},
   "outputs": [
    {
     "data": {
      "text/html": [
       "<div>\n",
       "<style scoped>\n",
       "    .dataframe tbody tr th:only-of-type {\n",
       "        vertical-align: middle;\n",
       "    }\n",
       "\n",
       "    .dataframe tbody tr th {\n",
       "        vertical-align: top;\n",
       "    }\n",
       "\n",
       "    .dataframe thead th {\n",
       "        text-align: right;\n",
       "    }\n",
       "</style>\n",
       "<table border=\"1\" class=\"dataframe\">\n",
       "  <thead>\n",
       "    <tr style=\"text-align: right;\">\n",
       "      <th></th>\n",
       "      <th>total_bill</th>\n",
       "      <th>tip</th>\n",
       "      <th>sex</th>\n",
       "      <th>smoker</th>\n",
       "      <th>day</th>\n",
       "      <th>time</th>\n",
       "      <th>size</th>\n",
       "      <th>tip_pct</th>\n",
       "    </tr>\n",
       "  </thead>\n",
       "  <tbody>\n",
       "    <tr>\n",
       "      <th>0</th>\n",
       "      <td>16.99</td>\n",
       "      <td>1.01</td>\n",
       "      <td>Female</td>\n",
       "      <td>No</td>\n",
       "      <td>Sun</td>\n",
       "      <td>Dinner</td>\n",
       "      <td>2</td>\n",
       "      <td>0.063204</td>\n",
       "    </tr>\n",
       "    <tr>\n",
       "      <th>1</th>\n",
       "      <td>10.34</td>\n",
       "      <td>1.66</td>\n",
       "      <td>Male</td>\n",
       "      <td>No</td>\n",
       "      <td>Sun</td>\n",
       "      <td>Dinner</td>\n",
       "      <td>3</td>\n",
       "      <td>0.191244</td>\n",
       "    </tr>\n",
       "    <tr>\n",
       "      <th>2</th>\n",
       "      <td>21.01</td>\n",
       "      <td>3.50</td>\n",
       "      <td>Male</td>\n",
       "      <td>No</td>\n",
       "      <td>Sun</td>\n",
       "      <td>Dinner</td>\n",
       "      <td>3</td>\n",
       "      <td>0.199886</td>\n",
       "    </tr>\n",
       "    <tr>\n",
       "      <th>3</th>\n",
       "      <td>23.68</td>\n",
       "      <td>3.31</td>\n",
       "      <td>Male</td>\n",
       "      <td>No</td>\n",
       "      <td>Sun</td>\n",
       "      <td>Dinner</td>\n",
       "      <td>2</td>\n",
       "      <td>0.162494</td>\n",
       "    </tr>\n",
       "    <tr>\n",
       "      <th>4</th>\n",
       "      <td>24.59</td>\n",
       "      <td>3.61</td>\n",
       "      <td>Female</td>\n",
       "      <td>No</td>\n",
       "      <td>Sun</td>\n",
       "      <td>Dinner</td>\n",
       "      <td>4</td>\n",
       "      <td>0.172069</td>\n",
       "    </tr>\n",
       "  </tbody>\n",
       "</table>\n",
       "</div>"
      ],
      "text/plain": [
       "   total_bill   tip     sex smoker  day    time  size   tip_pct\n",
       "0       16.99  1.01  Female     No  Sun  Dinner     2  0.063204\n",
       "1       10.34  1.66    Male     No  Sun  Dinner     3  0.191244\n",
       "2       21.01  3.50    Male     No  Sun  Dinner     3  0.199886\n",
       "3       23.68  3.31    Male     No  Sun  Dinner     2  0.162494\n",
       "4       24.59  3.61  Female     No  Sun  Dinner     4  0.172069"
      ]
     },
     "execution_count": 3,
     "metadata": {},
     "output_type": "execute_result"
    }
   ],
   "source": [
    "tips = sns.load_dataset('tips')\n",
    "tips['tip_pct'] = tips['tip'] / (tips['total_bill'] - tips['tip'])\n",
    "tips.head()"
   ]
  },
  {
   "cell_type": "markdown",
   "metadata": {},
   "source": [
    "### Plotagem com o Pandas"
   ]
  },
  {
   "cell_type": "code",
   "execution_count": null,
   "metadata": {},
   "outputs": [],
   "source": [
    "df = pd.DataFrame({'col1': [10, 20, 30]}, index = [1, 2, 3])\n",
    "df"
   ]
  },
  {
   "cell_type": "code",
   "execution_count": null,
   "metadata": {},
   "outputs": [],
   "source": [
    "df.plot.bar()"
   ]
  },
  {
   "cell_type": "code",
   "execution_count": null,
   "metadata": {},
   "outputs": [],
   "source": [
    "df = pd.DataFrame({'A': [10, 15], 'B': [20, 25], 'C': [30, 35]}, index = [1, 2])\n",
    "df"
   ]
  },
  {
   "cell_type": "code",
   "execution_count": null,
   "metadata": {},
   "outputs": [],
   "source": [
    "df.plot.bar()"
   ]
  },
  {
   "cell_type": "code",
   "execution_count": null,
   "metadata": {},
   "outputs": [],
   "source": [
    "tips['day'].value_counts()"
   ]
  },
  {
   "cell_type": "code",
   "execution_count": null,
   "metadata": {},
   "outputs": [],
   "source": [
    "tips['day'].value_counts().sort_index().plot.bar()"
   ]
  },
  {
   "cell_type": "markdown",
   "metadata": {},
   "source": [
    "### Plotagem com Seaborn"
   ]
  },
  {
   "cell_type": "code",
   "execution_count": null,
   "metadata": {},
   "outputs": [],
   "source": [
    "sns.countplot(x='day', data=tips)"
   ]
  },
  {
   "cell_type": "code",
   "execution_count": 4,
   "metadata": {},
   "outputs": [
    {
     "data": {
      "text/plain": [
       "<AxesSubplot:xlabel='time', ylabel='count'>"
      ]
     },
     "execution_count": 4,
     "metadata": {},
     "output_type": "execute_result"
    },
    {
     "data": {
      "image/png": "[encoded data removed]",
      "text/plain": [
       "<Figure size 900x600 with 4 Axes>"
      ]
     },
     "metadata": {},
     "output_type": "display_data"
    }
   ],
   "source": [
    "# Os gráficos funcionam dentro da lógica do matplotlib\n",
    "plt.close('all')\n",
    "plt.rc('figure', figsize=(9, 6))\n",
    "fig, axes = plt.subplots(2, 2)\n",
    "\n",
    "sns.countplot(ax=axes[0, 0], x='day', data=tips)\n",
    "sns.countplot(ax=axes[0, 1], x='sex', data=tips)\n",
    "sns.countplot(ax=axes[1, 0], x='smoker', data=tips)\n",
    "sns.countplot(ax=axes[1, 1], x='time', data=tips)\n",
    "\n",
    "# ajustar o espaçamento\n",
    "# plt.subplots_adjust(wspace=0, hspace=0)"
   ]
  },
  {
   "cell_type": "code",
   "execution_count": 5,
   "metadata": {},
   "outputs": [
    {
     "data": {
      "text/plain": [
       "<AxesSubplot:xlabel='day', ylabel='tip'>"
      ]
     },
     "execution_count": 5,
     "metadata": {},
     "output_type": "execute_result"
    },
    {
     "data": {
      "image/png": "[encoded data removed]",
      "text/plain": [
       "<Figure size 900x600 with 4 Axes>"
      ]
     },
     "metadata": {},
     "output_type": "display_data"
    }
   ],
   "source": [
    "# Os gráficos funcionam dentro da lógica do matplotlib\n",
    "plt.close('all')\n",
    "plt.rc('figure', figsize=(9, 6)) # define o tamanho da figura\n",
    "fig, axes = plt.subplots(2, 2) # define quantos gráficos vão ter dentro da área da figura\n",
    "\n",
    "sns.countplot(ax=axes[0, 0], x='day', data=tips) # grafico de contagem\n",
    "sns.barplot(ax=axes[0, 1], x='day', y='tip_pct', data=tips) # graficos de barra\n",
    "sns.barplot(ax=axes[1, 0], x='day', y='tip', data=tips)\n",
    "sns.barplot(ax=axes[1, 1], x='day', y='tip', data=tips, estimator=sum, ci=None)\n",
    "\n",
    "# ajustar o espaçamento\n",
    "# plt.subplots_adjust(wspace=0, hspace=0)"
   ]
  },
  {
   "cell_type": "code",
   "execution_count": 6,
   "metadata": {},
   "outputs": [
    {
     "data": {
      "text/plain": [
       "<AxesSubplot:ylabel='day'>"
      ]
     },
     "execution_count": 6,
     "metadata": {},
     "output_type": "execute_result"
    },
    {
     "data": {
      "image/png": "[encoded data removed]",
      "text/plain": [
       "<Figure size 900x600 with 1 Axes>"
      ]
     },
     "metadata": {},
     "output_type": "display_data"
    }
   ],
   "source": [
    "# Se você quiser fazer um gráfico de pizza, pode usar o método .plot.pie do Pandas\n",
    "tips['day'].value_counts().plot.pie()"
   ]
  },
  {
   "cell_type": "code",
   "execution_count": 7,
   "metadata": {},
   "outputs": [
    {
     "data": {
      "text/html": [
       "<div>\n",
       "<style scoped>\n",
       "    .dataframe tbody tr th:only-of-type {\n",
       "        vertical-align: middle;\n",
       "    }\n",
       "\n",
       "    .dataframe tbody tr th {\n",
       "        vertical-align: top;\n",
       "    }\n",
       "\n",
       "    .dataframe thead th {\n",
       "        text-align: right;\n",
       "    }\n",
       "</style>\n",
       "<table border=\"1\" class=\"dataframe\">\n",
       "  <thead>\n",
       "    <tr style=\"text-align: right;\">\n",
       "      <th></th>\n",
       "      <th>contagem</th>\n",
       "      <th>pctacum</th>\n",
       "    </tr>\n",
       "  </thead>\n",
       "  <tbody>\n",
       "    <tr>\n",
       "      <th>Tempo de entrega</th>\n",
       "      <td>174</td>\n",
       "      <td>70.731707</td>\n",
       "    </tr>\n",
       "    <tr>\n",
       "      <th>Produto com defeito</th>\n",
       "      <td>43</td>\n",
       "      <td>88.211382</td>\n",
       "    </tr>\n",
       "    <tr>\n",
       "      <th>Produto errado</th>\n",
       "      <td>20</td>\n",
       "      <td>96.341463</td>\n",
       "    </tr>\n",
       "    <tr>\n",
       "      <th>Horário de entrega</th>\n",
       "      <td>5</td>\n",
       "      <td>98.373984</td>\n",
       "    </tr>\n",
       "    <tr>\n",
       "      <th>Mau atendimento</th>\n",
       "      <td>2</td>\n",
       "      <td>99.186992</td>\n",
       "    </tr>\n",
       "    <tr>\n",
       "      <th>Valor errado</th>\n",
       "      <td>1</td>\n",
       "      <td>99.593496</td>\n",
       "    </tr>\n",
       "    <tr>\n",
       "      <th>Não serve</th>\n",
       "      <td>1</td>\n",
       "      <td>100.000000</td>\n",
       "    </tr>\n",
       "    <tr>\n",
       "      <th>Desistência</th>\n",
       "      <td>0</td>\n",
       "      <td>100.000000</td>\n",
       "    </tr>\n",
       "  </tbody>\n",
       "</table>\n",
       "</div>"
      ],
      "text/plain": [
       "                     contagem     pctacum\n",
       "Tempo de entrega          174   70.731707\n",
       "Produto com defeito        43   88.211382\n",
       "Produto errado             20   96.341463\n",
       "Horário de entrega          5   98.373984\n",
       "Mau atendimento             2   99.186992\n",
       "Valor errado                1   99.593496\n",
       "Não serve                   1  100.000000\n",
       "Desistência                 0  100.000000"
      ]
     },
     "execution_count": 7,
     "metadata": {},
     "output_type": "execute_result"
    }
   ],
   "source": [
    "# Gráfico de Pareto\n",
    "from matplotlib.ticker import PercentFormatter\n",
    "\n",
    "df = pd.DataFrame({'contagem': [43, 20, 174, 5, 2, 1, 1, 0]})\n",
    "\n",
    "# tipo de reclamação por categoria\n",
    "df.index = ['Produto com defeito', 'Produto errado', 'Tempo de entrega', \n",
    "            'Horário de entrega', 'Mau atendimento', 'Valor errado', 'Não serve', 'Desistência']\n",
    "\n",
    "df = df.sort_values(by='contagem', ascending=False)\n",
    "df['pctacum'] = df['contagem'].cumsum() / df['contagem'].sum() * 100\n",
    "\n",
    "df"
   ]
  },
  {
   "cell_type": "code",
   "execution_count": 37,
   "metadata": {},
   "outputs": [
    {
     "data": {
      "image/png": "[encoded data removed]",
      "text/plain": [
       "<Figure size 900x600 with 2 Axes>"
      ]
     },
     "metadata": {},
     "output_type": "display_data"
    }
   ],
   "source": [
    "plt.close('all')\n",
    "plt.rc('figure', figsize=(9, 6))\n",
    "\n",
    "fig, ax = plt.subplots()\n",
    "\n",
    "ax.bar(df.index, df['contagem']) # define o gráfico de barra no eixo x\n",
    "ax2 = ax.twinx() # cria a linha de acumulo de porcentagem no eixo x\n",
    "ax2.plot(df.index, df[\"pctacum\"], color=\"r\", marker=\"o\") # define o segundo gráfico no eixo x\n",
    "ax2.yaxis.set_major_formatter(PercentFormatter()) # formata o eixo y em porcentagem\n",
    "\n",
    "ax.tick_params(axis='x', rotation=45) # rotação das labels do eixo x\n",
    "ax2.tick_params(axis='y', colors='r') # cor da porcentagem do eixo y\n",
    "plt.title(label='Reclamações por Categoria') # título do gráfico\n",
    "plt.grid(linestyle='--', linewidth=0.7) # muda o formato da linha de grade e define uma transparência\n",
    "\n",
    "plt.show() # plota o gráfico"
   ]
  },
  {
   "cell_type": "code",
   "execution_count": null,
   "metadata": {},
   "outputs": [],
   "source": []
  }
 ],
 "metadata": {
  "kernelspec": {
   "display_name": "Python 3",
   "language": "python",
   "name": "python3"
  },
  "language_info": {
   "codemirror_mode": {
    "name": "ipython",
    "version": 3
   },
   "file_extension": ".py",
   "mimetype": "text/x-python",
   "name": "python",
   "nbconvert_exporter": "python",
   "pygments_lexer": "ipython3",
   "version": "3.9.15 (main, Oct 11 2022, 22:27:25) \n[Clang 14.0.0 (clang-1400.0.29.102)]"
  },
  "vscode": {
   "interpreter": {
    "hash": "397704579725e15f5c7cb49fe5f0341eb7531c82d19f2c29d197e8b64ab5776b"
   }
  },
  "widgets": {
   "application/vnd.jupyter.widget-state+json": {
    "state": {},
    "version_major": 2,
    "version_minor": 0
   }
  }
 },
 "nbformat": 4,
 "nbformat_minor": 4
}
