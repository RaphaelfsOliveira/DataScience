{
 "cells": [
  {
   "cell_type": "markdown",
   "metadata": {},
   "source": [
    "# Module 6 - Descritiva I"
   ]
  },
  {
   "cell_type": "markdown",
   "metadata": {},
   "source": [
    "## 6.1 Tipos de variáveis e análise univariada e bivariada"
   ]
  },
  {
   "cell_type": "markdown",
   "metadata": {},
   "source": [
    "### Tipos de variáveis\n",
    "\n",
    "- Quantitativas discretas\n",
    "- Quantitativas contínuas\n",
    "- Qualitativas nominais\n",
    "- Qualitativas ordinais"
   ]
  },
  {
   "cell_type": "markdown",
   "metadata": {},
   "source": [
    "### Quantitativas\n",
    "\n",
    "- Variáveis quantitativas representam quantidades. Faz sentido fazer 'contas' com elas, extrair médias, somar seus valores e etc.\n",
    "- OBS: Se dividem em **Discretas** e **Contínuas**\n",
    "#\n",
    "- **Discretas**\n",
    "    - Variáveis quantitativas Discretas têm seu domínio (conjunto de possíveis valores) enumerável. Comunente são contagens de algo\n",
    "    - ex: \n",
    "        - Resultado de um dado\n",
    "        - Número de peixes pescado\n",
    "        - Nota em uma prova.\n",
    "#\n",
    "- **Contínuas**\n",
    "    - Variáveis quantitativas Contínuas têm seu domínio (conjunto de possíveis valores) **não** enumerável. Em geral são medidas de um atributo físico ou subproduto de outras variáveis (médias, somas etc.) \n",
    "    - ex: \n",
    "        - Peso\n",
    "        - Temperatura\n",
    "        - Salário.\n"
   ]
  },
  {
   "cell_type": "markdown",
   "metadata": {},
   "source": [
    "### Qualitativas\n",
    "\n",
    "- São 'categorias', 'classificações' ou 'qualidades' de algo. Não faz sentido fazer contas com variáveis qualitativas que não sejam baseadas em contagens\n",
    "#\n",
    "- **Ordinais**\n",
    "    - Qualitativas ordinais possuem uma 'ordem' implícita, como:\n",
    "    - ex:\n",
    "        - Tamanho: P, M ou G\n",
    "        - Opinião: Concordo, Neutro, Discordo\n",
    "        - Classe social: A, B, C, D e E\n",
    "#\n",
    "- **Nominais**\n",
    "    - Qualitativas nominais são também categorias, mas sem ordem implícita.\n",
    "    - ex:\n",
    "        - Sabor: tamarindo, limão, groselha\n",
    "        - Estado civil: casado, solteiro, desquitado etc\n",
    "        - Tipo de jogo: plataforma, corrida, esporte etc\n"
   ]
  },
  {
   "cell_type": "markdown",
   "metadata": {},
   "source": [
    "## 6\\.2 Matplotlib"
   ]
  },
  {
   "cell_type": "markdown",
   "metadata": {},
   "source": [
    "## Introdução ao Matplotlib\n",
    "\n",
    "Além de o matplotlib ser o pacote mais popular para construção de gráficos no Python, ele é a base dos métodos gráficos do pandas e também dos gráficos feitos pelo seaborne - que é uma biblioteca que fornece procedimentos práticos para a construção de gráficos mais sofisticados."
   ]
  },
  {
   "cell_type": "code",
   "execution_count": 10,
   "metadata": {},
   "outputs": [
    {
     "name": "stdout",
     "output_type": "stream",
     "text": [
      "Warning: Cannot change to a different GUI toolkit: notebook. Using widget instead.\n"
     ]
    }
   ],
   "source": [
    "import pandas as pd\n",
    "import matplotlib.pyplot as plt\n",
    "import numpy as np\n",
    "\n",
    "# %matplotlib inline\n",
    "%matplotlib notebook"
   ]
  },
  {
   "cell_type": "code",
   "execution_count": 16,
   "metadata": {},
   "outputs": [
    {
     "data": {
      "text/plain": [
       "[<matplotlib.lines.Line2D at 0x11aa76fe0>]"
      ]
     },
     "execution_count": 16,
     "metadata": {},
     "output_type": "execute_result"
    }
   ],
   "source": [
    "data = [1,2,3,3,2,3,4,5]\n",
    "\n",
    "plt.plot(data)"
   ]
  },
  {
   "cell_type": "code",
   "execution_count": null,
   "metadata": {},
   "outputs": [],
   "source": []
  },
  {
   "cell_type": "code",
   "execution_count": null,
   "metadata": {},
   "outputs": [],
   "source": []
  }
 ],
 "metadata": {
  "kernelspec": {
   "display_name": "Python 3.10.5 64-bit",
   "language": "python",
   "name": "python3"
  },
  "language_info": {
   "codemirror_mode": {
    "name": "ipython",
    "version": 3
   },
   "file_extension": ".py",
   "mimetype": "text/x-python",
   "name": "python",
   "nbconvert_exporter": "python",
   "pygments_lexer": "ipython3",
   "version": "3.10.5"
  },
  "orig_nbformat": 4,
  "vscode": {
   "interpreter": {
    "hash": "aee8b7b246df8f9039afb4144a1f6fd8d2ca17a180786b69acc140d282b71a49"
   }
  }
 },
 "nbformat": 4,
 "nbformat_minor": 2
}
