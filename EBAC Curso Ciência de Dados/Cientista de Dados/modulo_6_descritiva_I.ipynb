{
 "cells": [
  {
   "cell_type": "markdown",
   "metadata": {},
   "source": [
    "# Module 6 - Descritiva I"
   ]
  },
  {
   "cell_type": "markdown",
   "metadata": {},
   "source": [
    "## 6.1 Tipos de variáveis e análise univariada e bivariada"
   ]
  },
  {
   "cell_type": "markdown",
   "metadata": {},
   "source": [
    "### Tipos de variáveis\n",
    "\n",
    "- Quantitativas discretas\n",
    "- Quantitativas contínuas\n",
    "- Qualitativas nominais\n",
    "- Qualitativas ordinais"
   ]
  },
  {
   "cell_type": "markdown",
   "metadata": {},
   "source": [
    "### Quantitativas\n",
    "\n",
    "- Variáveis quantitativas representam quantidades. Faz sentido fazer 'contas' com elas, extrair médias, somar seus valores e etc.\n",
    "- OBS: Se dividem em **Discretas** e **Contínuas**\n",
    "#\n",
    "- **Discretas**\n",
    "    - Variáveis quantitativas Discretas têm seu domínio (conjunto de possíveis valores) enumerável. Comunente são contagens de algo\n",
    "    - ex: Resultado de um dado, número de peixes pescado, nota em uma prova.\n",
    "#\n",
    "- **Contínuas**\n",
    "    - Variáveis quantitativas Contínuas têm seu domínio (conjunto de possíveis valores) **não** enumerável. Em geral são medidas de um atributo físico ou subproduto de outras variáveis (médias, somas etc.) \n",
    "    - ex: Peso, temperatura e salário.\n"
   ]
  },
  {
   "cell_type": "markdown",
   "metadata": {},
   "source": [
    "### Qualitativas\n",
    "\n",
    "- São 'categorias', 'classificações' ou 'qualidades' de algo. Não faz sentido fazer contas com variáveis qualitativas que não sejam baseadas em contagens\n",
    "#\n",
    "- **Ordinais**\n",
    "    - Qualitativas ordinais possuem uma 'ordem' implícita, como:\n",
    "    - ex:\n",
    "        - Tamanho: P, M ou G\n",
    "        - Opinião: Concordo, Neutro, Discordo\n",
    "        - Classe social: A, B, C, D e E\n",
    "#\n",
    "- **Nominais**\n",
    "    - Qualitativas nominais \n",
    "    - ex: Peso, temperatura e salário.\n"
   ]
  },
  {
   "cell_type": "markdown",
   "metadata": {},
   "source": [
    "### Associação entre variáveis"
   ]
  },
  {
   "cell_type": "code",
   "execution_count": null,
   "metadata": {},
   "outputs": [],
   "source": []
  }
 ],
 "metadata": {
  "kernelspec": {
   "display_name": "Python 3.10.5 64-bit",
   "language": "python",
   "name": "python3"
  },
  "language_info": {
   "name": "python",
   "version": "3.10.5"
  },
  "orig_nbformat": 4,
  "vscode": {
   "interpreter": {
    "hash": "aee8b7b246df8f9039afb4144a1f6fd8d2ca17a180786b69acc140d282b71a49"
   }
  }
 },
 "nbformat": 4,
 "nbformat_minor": 2
}
