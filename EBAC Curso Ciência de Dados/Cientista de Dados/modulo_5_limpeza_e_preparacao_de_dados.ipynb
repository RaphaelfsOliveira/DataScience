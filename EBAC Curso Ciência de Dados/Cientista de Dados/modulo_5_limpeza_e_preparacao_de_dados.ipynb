{
 "cells": [
  {
   "cell_type": "markdown",
   "metadata": {},
   "source": [
    "# Module 5 - Limpeza e preparação de dados"
   ]
  },
  {
   "cell_type": "markdown",
   "metadata": {},
   "source": [
    "## 5.1 Identificando e tratando dados ausentes"
   ]
  },
  {
   "cell_type": "markdown",
   "metadata": {},
   "source": [
    "### Identificando dados ausentes"
   ]
  },
  {
   "cell_type": "code",
   "execution_count": 70,
   "metadata": {},
   "outputs": [],
   "source": [
    "import pandas as pd\n",
    "import numpy as np"
   ]
  },
  {
   "cell_type": "code",
   "execution_count": 71,
   "metadata": {},
   "outputs": [
    {
     "data": {
      "text/html": [
       "<div>\n",
       "<style scoped>\n",
       "    .dataframe tbody tr th:only-of-type {\n",
       "        vertical-align: middle;\n",
       "    }\n",
       "\n",
       "    .dataframe tbody tr th {\n",
       "        vertical-align: top;\n",
       "    }\n",
       "\n",
       "    .dataframe thead th {\n",
       "        text-align: right;\n",
       "    }\n",
       "</style>\n",
       "<table border=\"1\" class=\"dataframe\">\n",
       "  <thead>\n",
       "    <tr style=\"text-align: right;\">\n",
       "      <th></th>\n",
       "      <th>coluna1</th>\n",
       "      <th>coluna2</th>\n",
       "      <th>coluna3</th>\n",
       "      <th>coluna4</th>\n",
       "    </tr>\n",
       "  </thead>\n",
       "  <tbody>\n",
       "    <tr>\n",
       "      <th>A</th>\n",
       "      <td>99.179672</td>\n",
       "      <td>14.672962</td>\n",
       "      <td>57.490352</td>\n",
       "      <td>15.806837</td>\n",
       "    </tr>\n",
       "    <tr>\n",
       "      <th>B</th>\n",
       "      <td>14.213093</td>\n",
       "      <td>52.069113</td>\n",
       "      <td>37.434942</td>\n",
       "      <td>55.685979</td>\n",
       "    </tr>\n",
       "    <tr>\n",
       "      <th>C</th>\n",
       "      <td>73.565413</td>\n",
       "      <td>61.725587</td>\n",
       "      <td>86.465914</td>\n",
       "      <td>15.099232</td>\n",
       "    </tr>\n",
       "    <tr>\n",
       "      <th>D</th>\n",
       "      <td>25.293236</td>\n",
       "      <td>62.272979</td>\n",
       "      <td>33.775578</td>\n",
       "      <td>14.414189</td>\n",
       "    </tr>\n",
       "    <tr>\n",
       "      <th>E</th>\n",
       "      <td>17.667669</td>\n",
       "      <td>44.665960</td>\n",
       "      <td>22.983736</td>\n",
       "      <td>56.998505</td>\n",
       "    </tr>\n",
       "    <tr>\n",
       "      <th>F</th>\n",
       "      <td>15.206993</td>\n",
       "      <td>98.756317</td>\n",
       "      <td>2.321883</td>\n",
       "      <td>48.221539</td>\n",
       "    </tr>\n",
       "    <tr>\n",
       "      <th>G</th>\n",
       "      <td>81.134411</td>\n",
       "      <td>97.625692</td>\n",
       "      <td>27.721562</td>\n",
       "      <td>19.154007</td>\n",
       "    </tr>\n",
       "    <tr>\n",
       "      <th>H</th>\n",
       "      <td>80.141295</td>\n",
       "      <td>27.992726</td>\n",
       "      <td>51.985793</td>\n",
       "      <td>57.619315</td>\n",
       "    </tr>\n",
       "    <tr>\n",
       "      <th>I</th>\n",
       "      <td>69.618650</td>\n",
       "      <td>81.051657</td>\n",
       "      <td>29.704625</td>\n",
       "      <td>92.310521</td>\n",
       "    </tr>\n",
       "  </tbody>\n",
       "</table>\n",
       "</div>"
      ],
      "text/plain": [
       "     coluna1    coluna2    coluna3    coluna4\n",
       "A  99.179672  14.672962  57.490352  15.806837\n",
       "B  14.213093  52.069113  37.434942  55.685979\n",
       "C  73.565413  61.725587  86.465914  15.099232\n",
       "D  25.293236  62.272979  33.775578  14.414189\n",
       "E  17.667669  44.665960  22.983736  56.998505\n",
       "F  15.206993  98.756317   2.321883  48.221539\n",
       "G  81.134411  97.625692  27.721562  19.154007\n",
       "H  80.141295  27.992726  51.985793  57.619315\n",
       "I  69.618650  81.051657  29.704625  92.310521"
      ]
     },
     "execution_count": 71,
     "metadata": {},
     "output_type": "execute_result"
    }
   ],
   "source": [
    "# construindo um dataframe\n",
    "df = pd.DataFrame(\n",
    "    np.random.rand(9, 4) * 100,\n",
    "    index=[chr(i) for i in range(ord(\"A\"), ord(\"J\"))],\n",
    "    columns=[\"coluna%s\" %i for i in range(1, 5)]\n",
    ")\n",
    "df_2 = df.copy()\n",
    "df"
   ]
  },
  {
   "cell_type": "code",
   "execution_count": 72,
   "metadata": {},
   "outputs": [
    {
     "data": {
      "text/plain": [
       "coluna1    float64\n",
       "coluna2    float64\n",
       "coluna3    float64\n",
       "coluna4    float64\n",
       "dtype: object"
      ]
     },
     "execution_count": 72,
     "metadata": {},
     "output_type": "execute_result"
    }
   ],
   "source": [
    "# tipos das colunas\n",
    "df.dtypes"
   ]
  },
  {
   "cell_type": "code",
   "execution_count": 73,
   "metadata": {},
   "outputs": [
    {
     "data": {
      "text/plain": [
       "coluna1      int64\n",
       "coluna2    float64\n",
       "coluna3    float64\n",
       "coluna4    float64\n",
       "dtype: object"
      ]
     },
     "execution_count": 73,
     "metadata": {},
     "output_type": "execute_result"
    }
   ],
   "source": [
    "df['coluna1'] = df['coluna1'].astype(int)\n",
    "df.dtypes"
   ]
  },
  {
   "cell_type": "code",
   "execution_count": 74,
   "metadata": {},
   "outputs": [
    {
     "data": {
      "text/plain": [
       "coluna1      int64\n",
       "coluna2    float64\n",
       "coluna3     object\n",
       "coluna4    float64\n",
       "dtype: object"
      ]
     },
     "execution_count": 74,
     "metadata": {},
     "output_type": "execute_result"
    }
   ],
   "source": [
    "df['coluna3'] = df['coluna3'].astype(str)\n",
    "df.dtypes"
   ]
  },
  {
   "cell_type": "code",
   "execution_count": 75,
   "metadata": {},
   "outputs": [
    {
     "data": {
      "text/html": [
       "<div>\n",
       "<style scoped>\n",
       "    .dataframe tbody tr th:only-of-type {\n",
       "        vertical-align: middle;\n",
       "    }\n",
       "\n",
       "    .dataframe tbody tr th {\n",
       "        vertical-align: top;\n",
       "    }\n",
       "\n",
       "    .dataframe thead th {\n",
       "        text-align: right;\n",
       "    }\n",
       "</style>\n",
       "<table border=\"1\" class=\"dataframe\">\n",
       "  <thead>\n",
       "    <tr style=\"text-align: right;\">\n",
       "      <th></th>\n",
       "      <th>coluna1</th>\n",
       "      <th>coluna2</th>\n",
       "      <th>coluna3</th>\n",
       "      <th>coluna4</th>\n",
       "    </tr>\n",
       "  </thead>\n",
       "  <tbody>\n",
       "    <tr>\n",
       "      <th>A</th>\n",
       "      <td>99</td>\n",
       "      <td>14.672962</td>\n",
       "      <td>57.49035237811946</td>\n",
       "      <td>15.806837</td>\n",
       "    </tr>\n",
       "    <tr>\n",
       "      <th>B</th>\n",
       "      <td>14</td>\n",
       "      <td>52.069113</td>\n",
       "      <td>37.434941823001324</td>\n",
       "      <td>55.685979</td>\n",
       "    </tr>\n",
       "    <tr>\n",
       "      <th>C</th>\n",
       "      <td>73</td>\n",
       "      <td>61.725587</td>\n",
       "      <td>86.46591445211101</td>\n",
       "      <td>15.099232</td>\n",
       "    </tr>\n",
       "    <tr>\n",
       "      <th>D</th>\n",
       "      <td>25</td>\n",
       "      <td>62.272979</td>\n",
       "      <td>33.77557806831292</td>\n",
       "      <td>14.414189</td>\n",
       "    </tr>\n",
       "    <tr>\n",
       "      <th>E</th>\n",
       "      <td>17</td>\n",
       "      <td>44.665960</td>\n",
       "      <td>22.983735705888154</td>\n",
       "      <td>56.998505</td>\n",
       "    </tr>\n",
       "    <tr>\n",
       "      <th>F</th>\n",
       "      <td>15</td>\n",
       "      <td>98.756317</td>\n",
       "      <td>2.321882855099622</td>\n",
       "      <td>48.221539</td>\n",
       "    </tr>\n",
       "    <tr>\n",
       "      <th>G</th>\n",
       "      <td>81</td>\n",
       "      <td>97.625692</td>\n",
       "      <td>27.721561978687724</td>\n",
       "      <td>19.154007</td>\n",
       "    </tr>\n",
       "    <tr>\n",
       "      <th>H</th>\n",
       "      <td>80</td>\n",
       "      <td>27.992726</td>\n",
       "      <td>51.98579348728204</td>\n",
       "      <td>57.619315</td>\n",
       "    </tr>\n",
       "    <tr>\n",
       "      <th>I</th>\n",
       "      <td>69</td>\n",
       "      <td>81.051657</td>\n",
       "      <td>29.704625238172255</td>\n",
       "      <td>92.310521</td>\n",
       "    </tr>\n",
       "  </tbody>\n",
       "</table>\n",
       "</div>"
      ],
      "text/plain": [
       "   coluna1    coluna2             coluna3    coluna4\n",
       "A       99  14.672962   57.49035237811946  15.806837\n",
       "B       14  52.069113  37.434941823001324  55.685979\n",
       "C       73  61.725587   86.46591445211101  15.099232\n",
       "D       25  62.272979   33.77557806831292  14.414189\n",
       "E       17  44.665960  22.983735705888154  56.998505\n",
       "F       15  98.756317   2.321882855099622  48.221539\n",
       "G       81  97.625692  27.721561978687724  19.154007\n",
       "H       80  27.992726   51.98579348728204  57.619315\n",
       "I       69  81.051657  29.704625238172255  92.310521"
      ]
     },
     "execution_count": 75,
     "metadata": {},
     "output_type": "execute_result"
    }
   ],
   "source": [
    "df"
   ]
  },
  {
   "cell_type": "code",
   "execution_count": 76,
   "metadata": {},
   "outputs": [
    {
     "data": {
      "text/plain": [
       "'22.983735705888154'"
      ]
     },
     "execution_count": 76,
     "metadata": {},
     "output_type": "execute_result"
    }
   ],
   "source": [
    "# acessando valor por linha e coluna\n",
    "df.iloc[4, 2]"
   ]
  },
  {
   "cell_type": "code",
   "execution_count": 77,
   "metadata": {},
   "outputs": [],
   "source": [
    "# inserindo um dado faltante no dataframe\n",
    "df.iloc[1, 0] = np.nan\n",
    "df.iloc[4, 0] = np.nan\n",
    "df.iloc[3, 0] = np.nan\n",
    "df.iloc[8, 0] = np.nan\n",
    "df.iloc[6, 3] = np.nan\n",
    "df.iloc[4, 3] = np.nan"
   ]
  },
  {
   "cell_type": "code",
   "execution_count": 78,
   "metadata": {},
   "outputs": [
    {
     "data": {
      "text/html": [
       "<div>\n",
       "<style scoped>\n",
       "    .dataframe tbody tr th:only-of-type {\n",
       "        vertical-align: middle;\n",
       "    }\n",
       "\n",
       "    .dataframe tbody tr th {\n",
       "        vertical-align: top;\n",
       "    }\n",
       "\n",
       "    .dataframe thead th {\n",
       "        text-align: right;\n",
       "    }\n",
       "</style>\n",
       "<table border=\"1\" class=\"dataframe\">\n",
       "  <thead>\n",
       "    <tr style=\"text-align: right;\">\n",
       "      <th></th>\n",
       "      <th>coluna1</th>\n",
       "      <th>coluna2</th>\n",
       "      <th>coluna3</th>\n",
       "      <th>coluna4</th>\n",
       "    </tr>\n",
       "  </thead>\n",
       "  <tbody>\n",
       "    <tr>\n",
       "      <th>A</th>\n",
       "      <td>99.0</td>\n",
       "      <td>14.672962</td>\n",
       "      <td>57.49035237811946</td>\n",
       "      <td>15.806837</td>\n",
       "    </tr>\n",
       "    <tr>\n",
       "      <th>B</th>\n",
       "      <td>NaN</td>\n",
       "      <td>52.069113</td>\n",
       "      <td>37.434941823001324</td>\n",
       "      <td>55.685979</td>\n",
       "    </tr>\n",
       "    <tr>\n",
       "      <th>C</th>\n",
       "      <td>73.0</td>\n",
       "      <td>61.725587</td>\n",
       "      <td>86.46591445211101</td>\n",
       "      <td>15.099232</td>\n",
       "    </tr>\n",
       "    <tr>\n",
       "      <th>D</th>\n",
       "      <td>NaN</td>\n",
       "      <td>62.272979</td>\n",
       "      <td>33.77557806831292</td>\n",
       "      <td>14.414189</td>\n",
       "    </tr>\n",
       "    <tr>\n",
       "      <th>E</th>\n",
       "      <td>NaN</td>\n",
       "      <td>44.665960</td>\n",
       "      <td>22.983735705888154</td>\n",
       "      <td>NaN</td>\n",
       "    </tr>\n",
       "    <tr>\n",
       "      <th>F</th>\n",
       "      <td>15.0</td>\n",
       "      <td>98.756317</td>\n",
       "      <td>2.321882855099622</td>\n",
       "      <td>48.221539</td>\n",
       "    </tr>\n",
       "    <tr>\n",
       "      <th>G</th>\n",
       "      <td>81.0</td>\n",
       "      <td>97.625692</td>\n",
       "      <td>27.721561978687724</td>\n",
       "      <td>NaN</td>\n",
       "    </tr>\n",
       "    <tr>\n",
       "      <th>H</th>\n",
       "      <td>80.0</td>\n",
       "      <td>27.992726</td>\n",
       "      <td>51.98579348728204</td>\n",
       "      <td>57.619315</td>\n",
       "    </tr>\n",
       "    <tr>\n",
       "      <th>I</th>\n",
       "      <td>NaN</td>\n",
       "      <td>81.051657</td>\n",
       "      <td>29.704625238172255</td>\n",
       "      <td>92.310521</td>\n",
       "    </tr>\n",
       "  </tbody>\n",
       "</table>\n",
       "</div>"
      ],
      "text/plain": [
       "   coluna1    coluna2             coluna3    coluna4\n",
       "A     99.0  14.672962   57.49035237811946  15.806837\n",
       "B      NaN  52.069113  37.434941823001324  55.685979\n",
       "C     73.0  61.725587   86.46591445211101  15.099232\n",
       "D      NaN  62.272979   33.77557806831292  14.414189\n",
       "E      NaN  44.665960  22.983735705888154        NaN\n",
       "F     15.0  98.756317   2.321882855099622  48.221539\n",
       "G     81.0  97.625692  27.721561978687724        NaN\n",
       "H     80.0  27.992726   51.98579348728204  57.619315\n",
       "I      NaN  81.051657  29.704625238172255  92.310521"
      ]
     },
     "execution_count": 78,
     "metadata": {},
     "output_type": "execute_result"
    }
   ],
   "source": [
    "# NaN = Not a Number\n",
    "df"
   ]
  },
  {
   "cell_type": "code",
   "execution_count": 79,
   "metadata": {},
   "outputs": [
    {
     "data": {
      "text/html": [
       "<div>\n",
       "<style scoped>\n",
       "    .dataframe tbody tr th:only-of-type {\n",
       "        vertical-align: middle;\n",
       "    }\n",
       "\n",
       "    .dataframe tbody tr th {\n",
       "        vertical-align: top;\n",
       "    }\n",
       "\n",
       "    .dataframe thead th {\n",
       "        text-align: right;\n",
       "    }\n",
       "</style>\n",
       "<table border=\"1\" class=\"dataframe\">\n",
       "  <thead>\n",
       "    <tr style=\"text-align: right;\">\n",
       "      <th></th>\n",
       "      <th>coluna1</th>\n",
       "      <th>coluna2</th>\n",
       "      <th>coluna3</th>\n",
       "      <th>coluna4</th>\n",
       "    </tr>\n",
       "  </thead>\n",
       "  <tbody>\n",
       "    <tr>\n",
       "      <th>A</th>\n",
       "      <td>False</td>\n",
       "      <td>False</td>\n",
       "      <td>False</td>\n",
       "      <td>False</td>\n",
       "    </tr>\n",
       "    <tr>\n",
       "      <th>B</th>\n",
       "      <td>True</td>\n",
       "      <td>False</td>\n",
       "      <td>False</td>\n",
       "      <td>False</td>\n",
       "    </tr>\n",
       "    <tr>\n",
       "      <th>C</th>\n",
       "      <td>False</td>\n",
       "      <td>False</td>\n",
       "      <td>False</td>\n",
       "      <td>False</td>\n",
       "    </tr>\n",
       "    <tr>\n",
       "      <th>D</th>\n",
       "      <td>True</td>\n",
       "      <td>False</td>\n",
       "      <td>False</td>\n",
       "      <td>False</td>\n",
       "    </tr>\n",
       "    <tr>\n",
       "      <th>E</th>\n",
       "      <td>True</td>\n",
       "      <td>False</td>\n",
       "      <td>False</td>\n",
       "      <td>True</td>\n",
       "    </tr>\n",
       "    <tr>\n",
       "      <th>F</th>\n",
       "      <td>False</td>\n",
       "      <td>False</td>\n",
       "      <td>False</td>\n",
       "      <td>False</td>\n",
       "    </tr>\n",
       "    <tr>\n",
       "      <th>G</th>\n",
       "      <td>False</td>\n",
       "      <td>False</td>\n",
       "      <td>False</td>\n",
       "      <td>True</td>\n",
       "    </tr>\n",
       "    <tr>\n",
       "      <th>H</th>\n",
       "      <td>False</td>\n",
       "      <td>False</td>\n",
       "      <td>False</td>\n",
       "      <td>False</td>\n",
       "    </tr>\n",
       "    <tr>\n",
       "      <th>I</th>\n",
       "      <td>True</td>\n",
       "      <td>False</td>\n",
       "      <td>False</td>\n",
       "      <td>False</td>\n",
       "    </tr>\n",
       "  </tbody>\n",
       "</table>\n",
       "</div>"
      ],
      "text/plain": [
       "   coluna1  coluna2  coluna3  coluna4\n",
       "A    False    False    False    False\n",
       "B     True    False    False    False\n",
       "C    False    False    False    False\n",
       "D     True    False    False    False\n",
       "E     True    False    False     True\n",
       "F    False    False    False    False\n",
       "G    False    False    False     True\n",
       "H    False    False    False    False\n",
       "I     True    False    False    False"
      ]
     },
     "execution_count": 79,
     "metadata": {},
     "output_type": "execute_result"
    }
   ],
   "source": [
    "# identificando valores faltantes\n",
    "df.isna()\n",
    "df.isnull()"
   ]
  },
  {
   "cell_type": "code",
   "execution_count": 80,
   "metadata": {},
   "outputs": [
    {
     "data": {
      "text/plain": [
       "A    False\n",
       "B     True\n",
       "C    False\n",
       "D     True\n",
       "E     True\n",
       "F    False\n",
       "G    False\n",
       "H    False\n",
       "I     True\n",
       "Name: coluna1, dtype: bool"
      ]
     },
     "execution_count": 80,
     "metadata": {},
     "output_type": "execute_result"
    }
   ],
   "source": [
    "# identificando apenas de uma coluna\n",
    "df.coluna1.isna()"
   ]
  },
  {
   "cell_type": "code",
   "execution_count": 81,
   "metadata": {},
   "outputs": [
    {
     "data": {
      "text/html": [
       "<div>\n",
       "<style scoped>\n",
       "    .dataframe tbody tr th:only-of-type {\n",
       "        vertical-align: middle;\n",
       "    }\n",
       "\n",
       "    .dataframe tbody tr th {\n",
       "        vertical-align: top;\n",
       "    }\n",
       "\n",
       "    .dataframe thead th {\n",
       "        text-align: right;\n",
       "    }\n",
       "</style>\n",
       "<table border=\"1\" class=\"dataframe\">\n",
       "  <thead>\n",
       "    <tr style=\"text-align: right;\">\n",
       "      <th></th>\n",
       "      <th>coluna1</th>\n",
       "      <th>coluna2</th>\n",
       "      <th>coluna3</th>\n",
       "      <th>coluna4</th>\n",
       "    </tr>\n",
       "  </thead>\n",
       "  <tbody>\n",
       "    <tr>\n",
       "      <th>B</th>\n",
       "      <td>NaN</td>\n",
       "      <td>52.069113</td>\n",
       "      <td>37.434941823001324</td>\n",
       "      <td>55.685979</td>\n",
       "    </tr>\n",
       "    <tr>\n",
       "      <th>D</th>\n",
       "      <td>NaN</td>\n",
       "      <td>62.272979</td>\n",
       "      <td>33.77557806831292</td>\n",
       "      <td>14.414189</td>\n",
       "    </tr>\n",
       "    <tr>\n",
       "      <th>E</th>\n",
       "      <td>NaN</td>\n",
       "      <td>44.665960</td>\n",
       "      <td>22.983735705888154</td>\n",
       "      <td>NaN</td>\n",
       "    </tr>\n",
       "    <tr>\n",
       "      <th>I</th>\n",
       "      <td>NaN</td>\n",
       "      <td>81.051657</td>\n",
       "      <td>29.704625238172255</td>\n",
       "      <td>92.310521</td>\n",
       "    </tr>\n",
       "  </tbody>\n",
       "</table>\n",
       "</div>"
      ],
      "text/plain": [
       "   coluna1    coluna2             coluna3    coluna4\n",
       "B      NaN  52.069113  37.434941823001324  55.685979\n",
       "D      NaN  62.272979   33.77557806831292  14.414189\n",
       "E      NaN  44.665960  22.983735705888154        NaN\n",
       "I      NaN  81.051657  29.704625238172255  92.310521"
      ]
     },
     "execution_count": 81,
     "metadata": {},
     "output_type": "execute_result"
    }
   ],
   "source": [
    "# trazer todas as linhas onde a coluna é NaN\n",
    "df[df.coluna1.isna()]"
   ]
  },
  {
   "cell_type": "code",
   "execution_count": 82,
   "metadata": {},
   "outputs": [
    {
     "data": {
      "text/html": [
       "<div>\n",
       "<style scoped>\n",
       "    .dataframe tbody tr th:only-of-type {\n",
       "        vertical-align: middle;\n",
       "    }\n",
       "\n",
       "    .dataframe tbody tr th {\n",
       "        vertical-align: top;\n",
       "    }\n",
       "\n",
       "    .dataframe thead th {\n",
       "        text-align: right;\n",
       "    }\n",
       "</style>\n",
       "<table border=\"1\" class=\"dataframe\">\n",
       "  <thead>\n",
       "    <tr style=\"text-align: right;\">\n",
       "      <th></th>\n",
       "      <th>coluna1</th>\n",
       "      <th>coluna2</th>\n",
       "      <th>coluna3</th>\n",
       "      <th>coluna4</th>\n",
       "    </tr>\n",
       "  </thead>\n",
       "  <tbody>\n",
       "    <tr>\n",
       "      <th>A</th>\n",
       "      <td>99.0</td>\n",
       "      <td>14.672962</td>\n",
       "      <td>57.49035237811946</td>\n",
       "      <td>15.806837</td>\n",
       "    </tr>\n",
       "    <tr>\n",
       "      <th>C</th>\n",
       "      <td>73.0</td>\n",
       "      <td>61.725587</td>\n",
       "      <td>86.46591445211101</td>\n",
       "      <td>15.099232</td>\n",
       "    </tr>\n",
       "    <tr>\n",
       "      <th>F</th>\n",
       "      <td>15.0</td>\n",
       "      <td>98.756317</td>\n",
       "      <td>2.321882855099622</td>\n",
       "      <td>48.221539</td>\n",
       "    </tr>\n",
       "    <tr>\n",
       "      <th>G</th>\n",
       "      <td>81.0</td>\n",
       "      <td>97.625692</td>\n",
       "      <td>27.721561978687724</td>\n",
       "      <td>NaN</td>\n",
       "    </tr>\n",
       "    <tr>\n",
       "      <th>H</th>\n",
       "      <td>80.0</td>\n",
       "      <td>27.992726</td>\n",
       "      <td>51.98579348728204</td>\n",
       "      <td>57.619315</td>\n",
       "    </tr>\n",
       "  </tbody>\n",
       "</table>\n",
       "</div>"
      ],
      "text/plain": [
       "   coluna1    coluna2             coluna3    coluna4\n",
       "A     99.0  14.672962   57.49035237811946  15.806837\n",
       "C     73.0  61.725587   86.46591445211101  15.099232\n",
       "F     15.0  98.756317   2.321882855099622  48.221539\n",
       "G     81.0  97.625692  27.721561978687724        NaN\n",
       "H     80.0  27.992726   51.98579348728204  57.619315"
      ]
     },
     "execution_count": 82,
     "metadata": {},
     "output_type": "execute_result"
    }
   ],
   "source": [
    "# trazer todas as linhas onde a coluna não é NaN\n",
    "df[~df.coluna1.isna()]"
   ]
  },
  {
   "cell_type": "code",
   "execution_count": 83,
   "metadata": {},
   "outputs": [
    {
     "data": {
      "text/plain": [
       "4"
      ]
     },
     "execution_count": 83,
     "metadata": {},
     "output_type": "execute_result"
    }
   ],
   "source": [
    "# identificando a quantidade de valores NaN em uma coluna\n",
    "df.coluna1.isna().sum()"
   ]
  },
  {
   "cell_type": "code",
   "execution_count": 84,
   "metadata": {},
   "outputs": [
    {
     "data": {
      "text/plain": [
       "coluna1    4\n",
       "coluna2    0\n",
       "coluna3    0\n",
       "coluna4    2\n",
       "dtype: int64"
      ]
     },
     "execution_count": 84,
     "metadata": {},
     "output_type": "execute_result"
    }
   ],
   "source": [
    "# identificando a quantidade de valores NaN no dataframe\n",
    "# true = 1\n",
    "# false = 0\n",
    "df.isna().sum()"
   ]
  },
  {
   "cell_type": "code",
   "execution_count": 85,
   "metadata": {},
   "outputs": [
    {
     "data": {
      "text/plain": [
       "coluna1    0.444444\n",
       "coluna2    0.000000\n",
       "coluna3    0.000000\n",
       "coluna4    0.222222\n",
       "dtype: float64"
      ]
     },
     "execution_count": 85,
     "metadata": {},
     "output_type": "execute_result"
    }
   ],
   "source": [
    "# len(df.index) -> quantidade de linhas de um dataframe\n",
    "# cáculo para saber a porcentagem de valores faltantes em cada coluna\n",
    "\n",
    "df.isna().sum() / len(df.index)"
   ]
  },
  {
   "cell_type": "markdown",
   "metadata": {},
   "source": [
    "### Tratando dados ausentes"
   ]
  },
  {
   "cell_type": "code",
   "execution_count": 86,
   "metadata": {},
   "outputs": [
    {
     "data": {
      "text/plain": [
       "A    99.0\n",
       "B     NaN\n",
       "C    73.0\n",
       "D     NaN\n",
       "E     NaN\n",
       "F    15.0\n",
       "G    81.0\n",
       "H    80.0\n",
       "I     NaN\n",
       "Name: coluna1, dtype: float64"
      ]
     },
     "execution_count": 86,
     "metadata": {},
     "output_type": "execute_result"
    }
   ],
   "source": [
    "df['coluna1']"
   ]
  },
  {
   "cell_type": "code",
   "execution_count": 87,
   "metadata": {},
   "outputs": [
    {
     "data": {
      "text/plain": [
       "A    99.0\n",
       "B     0.0\n",
       "C    73.0\n",
       "D     0.0\n",
       "E     0.0\n",
       "F    15.0\n",
       "G    81.0\n",
       "H    80.0\n",
       "I     0.0\n",
       "Name: coluna1, dtype: float64"
      ]
     },
     "execution_count": 87,
     "metadata": {},
     "output_type": "execute_result"
    }
   ],
   "source": [
    "# subistituindo por zero\n",
    "\n",
    "df['coluna1'].fillna(0)"
   ]
  },
  {
   "cell_type": "code",
   "execution_count": 88,
   "metadata": {},
   "outputs": [
    {
     "data": {
      "text/plain": [
       "A    99.0\n",
       "B    69.6\n",
       "C    73.0\n",
       "D    69.6\n",
       "E    69.6\n",
       "F    15.0\n",
       "G    81.0\n",
       "H    80.0\n",
       "I    69.6\n",
       "Name: coluna1, dtype: float64"
      ]
     },
     "execution_count": 88,
     "metadata": {},
     "output_type": "execute_result"
    }
   ],
   "source": [
    "# subistituindo pela media\n",
    "mean = df['coluna1'].mean() # média\n",
    "\n",
    "df['coluna1'].fillna(mean)"
   ]
  },
  {
   "cell_type": "code",
   "execution_count": 89,
   "metadata": {},
   "outputs": [
    {
     "data": {
      "text/plain": [
       "A    99.0\n",
       "B    80.0\n",
       "C    73.0\n",
       "D    80.0\n",
       "E    80.0\n",
       "F    15.0\n",
       "G    81.0\n",
       "H    80.0\n",
       "I    80.0\n",
       "Name: coluna1, dtype: float64"
      ]
     },
     "execution_count": 89,
     "metadata": {},
     "output_type": "execute_result"
    }
   ],
   "source": [
    "# subistituindo pela mediana\n",
    "\n",
    "median = df['coluna1'].sort_values().median()\n",
    "\n",
    "df['coluna1'].fillna(median)"
   ]
  },
  {
   "cell_type": "markdown",
   "metadata": {},
   "source": [
    "### Subistituindo usando ffill e o bfill"
   ]
  },
  {
   "cell_type": "code",
   "execution_count": 90,
   "metadata": {},
   "outputs": [
    {
     "data": {
      "text/plain": [
       "A    99.0\n",
       "B     NaN\n",
       "C    73.0\n",
       "D     NaN\n",
       "E     NaN\n",
       "F    15.0\n",
       "G    81.0\n",
       "H    80.0\n",
       "I     NaN\n",
       "Name: coluna1, dtype: float64"
      ]
     },
     "execution_count": 90,
     "metadata": {},
     "output_type": "execute_result"
    }
   ],
   "source": [
    "df['coluna1']"
   ]
  },
  {
   "cell_type": "code",
   "execution_count": 91,
   "metadata": {},
   "outputs": [
    {
     "data": {
      "text/plain": [
       "A    99.0\n",
       "B    99.0\n",
       "C    73.0\n",
       "D    73.0\n",
       "E    73.0\n",
       "F    15.0\n",
       "G    81.0\n",
       "H    80.0\n",
       "I    80.0\n",
       "Name: coluna1, dtype: float64"
      ]
     },
     "execution_count": 91,
     "metadata": {},
     "output_type": "execute_result"
    }
   ],
   "source": [
    "# pega o valor de cima e aplica para os de baixo\n",
    "df['coluna1'].fillna(method='ffill')"
   ]
  },
  {
   "cell_type": "code",
   "execution_count": 92,
   "metadata": {},
   "outputs": [
    {
     "data": {
      "text/plain": [
       "A    99.0\n",
       "B    73.0\n",
       "C    73.0\n",
       "D    15.0\n",
       "E    15.0\n",
       "F    15.0\n",
       "G    81.0\n",
       "H    80.0\n",
       "I     NaN\n",
       "Name: coluna1, dtype: float64"
      ]
     },
     "execution_count": 92,
     "metadata": {},
     "output_type": "execute_result"
    }
   ],
   "source": [
    "# pega o valor de baixo e aplica para os de cima\n",
    "df['coluna1'].fillna(method='bfill')"
   ]
  },
  {
   "cell_type": "markdown",
   "metadata": {},
   "source": [
    "### Dropando as linhas com missing"
   ]
  },
  {
   "cell_type": "code",
   "execution_count": 93,
   "metadata": {},
   "outputs": [
    {
     "data": {
      "text/html": [
       "<div>\n",
       "<style scoped>\n",
       "    .dataframe tbody tr th:only-of-type {\n",
       "        vertical-align: middle;\n",
       "    }\n",
       "\n",
       "    .dataframe tbody tr th {\n",
       "        vertical-align: top;\n",
       "    }\n",
       "\n",
       "    .dataframe thead th {\n",
       "        text-align: right;\n",
       "    }\n",
       "</style>\n",
       "<table border=\"1\" class=\"dataframe\">\n",
       "  <thead>\n",
       "    <tr style=\"text-align: right;\">\n",
       "      <th></th>\n",
       "      <th>coluna1</th>\n",
       "      <th>coluna2</th>\n",
       "      <th>coluna3</th>\n",
       "      <th>coluna4</th>\n",
       "    </tr>\n",
       "  </thead>\n",
       "  <tbody>\n",
       "    <tr>\n",
       "      <th>A</th>\n",
       "      <td>99.0</td>\n",
       "      <td>14.672962</td>\n",
       "      <td>57.49035237811946</td>\n",
       "      <td>15.806837</td>\n",
       "    </tr>\n",
       "    <tr>\n",
       "      <th>C</th>\n",
       "      <td>73.0</td>\n",
       "      <td>61.725587</td>\n",
       "      <td>86.46591445211101</td>\n",
       "      <td>15.099232</td>\n",
       "    </tr>\n",
       "    <tr>\n",
       "      <th>F</th>\n",
       "      <td>15.0</td>\n",
       "      <td>98.756317</td>\n",
       "      <td>2.321882855099622</td>\n",
       "      <td>48.221539</td>\n",
       "    </tr>\n",
       "    <tr>\n",
       "      <th>H</th>\n",
       "      <td>80.0</td>\n",
       "      <td>27.992726</td>\n",
       "      <td>51.98579348728204</td>\n",
       "      <td>57.619315</td>\n",
       "    </tr>\n",
       "  </tbody>\n",
       "</table>\n",
       "</div>"
      ],
      "text/plain": [
       "   coluna1    coluna2            coluna3    coluna4\n",
       "A     99.0  14.672962  57.49035237811946  15.806837\n",
       "C     73.0  61.725587  86.46591445211101  15.099232\n",
       "F     15.0  98.756317  2.321882855099622  48.221539\n",
       "H     80.0  27.992726  51.98579348728204  57.619315"
      ]
     },
     "execution_count": 93,
     "metadata": {},
     "output_type": "execute_result"
    }
   ],
   "source": [
    "# dropando todas as linhas que contem valores NaN\n",
    "df.dropna()"
   ]
  },
  {
   "cell_type": "markdown",
   "metadata": {},
   "source": [
    "### Dados Duplicados"
   ]
  },
  {
   "cell_type": "code",
   "execution_count": 94,
   "metadata": {},
   "outputs": [
    {
     "name": "stderr",
     "output_type": "stream",
     "text": [
      "/var/folders/wh/_2xtz5kd2knd10y0m8tmqhrc0000gp/T/ipykernel_55094/400415149.py:3: FutureWarning: The frame.append method is deprecated and will be removed from pandas in a future version. Use pandas.concat instead.\n",
      "  df_dup = df.append(df.loc['D': 'H',:]).sort_index()\n"
     ]
    },
    {
     "data": {
      "text/html": [
       "<div>\n",
       "<style scoped>\n",
       "    .dataframe tbody tr th:only-of-type {\n",
       "        vertical-align: middle;\n",
       "    }\n",
       "\n",
       "    .dataframe tbody tr th {\n",
       "        vertical-align: top;\n",
       "    }\n",
       "\n",
       "    .dataframe thead th {\n",
       "        text-align: right;\n",
       "    }\n",
       "</style>\n",
       "<table border=\"1\" class=\"dataframe\">\n",
       "  <thead>\n",
       "    <tr style=\"text-align: right;\">\n",
       "      <th></th>\n",
       "      <th>coluna1</th>\n",
       "      <th>coluna2</th>\n",
       "      <th>coluna3</th>\n",
       "      <th>coluna4</th>\n",
       "    </tr>\n",
       "  </thead>\n",
       "  <tbody>\n",
       "    <tr>\n",
       "      <th>A</th>\n",
       "      <td>99.0</td>\n",
       "      <td>14.672962</td>\n",
       "      <td>57.49035237811946</td>\n",
       "      <td>15.806837</td>\n",
       "    </tr>\n",
       "    <tr>\n",
       "      <th>B</th>\n",
       "      <td>NaN</td>\n",
       "      <td>52.069113</td>\n",
       "      <td>37.434941823001324</td>\n",
       "      <td>55.685979</td>\n",
       "    </tr>\n",
       "    <tr>\n",
       "      <th>C</th>\n",
       "      <td>73.0</td>\n",
       "      <td>61.725587</td>\n",
       "      <td>86.46591445211101</td>\n",
       "      <td>15.099232</td>\n",
       "    </tr>\n",
       "    <tr>\n",
       "      <th>D</th>\n",
       "      <td>NaN</td>\n",
       "      <td>62.272979</td>\n",
       "      <td>33.77557806831292</td>\n",
       "      <td>14.414189</td>\n",
       "    </tr>\n",
       "    <tr>\n",
       "      <th>D</th>\n",
       "      <td>NaN</td>\n",
       "      <td>62.272979</td>\n",
       "      <td>33.77557806831292</td>\n",
       "      <td>14.414189</td>\n",
       "    </tr>\n",
       "    <tr>\n",
       "      <th>E</th>\n",
       "      <td>NaN</td>\n",
       "      <td>44.665960</td>\n",
       "      <td>22.983735705888154</td>\n",
       "      <td>NaN</td>\n",
       "    </tr>\n",
       "    <tr>\n",
       "      <th>E</th>\n",
       "      <td>NaN</td>\n",
       "      <td>44.665960</td>\n",
       "      <td>22.983735705888154</td>\n",
       "      <td>NaN</td>\n",
       "    </tr>\n",
       "    <tr>\n",
       "      <th>F</th>\n",
       "      <td>15.0</td>\n",
       "      <td>98.756317</td>\n",
       "      <td>2.321882855099622</td>\n",
       "      <td>48.221539</td>\n",
       "    </tr>\n",
       "    <tr>\n",
       "      <th>F</th>\n",
       "      <td>15.0</td>\n",
       "      <td>98.756317</td>\n",
       "      <td>2.321882855099622</td>\n",
       "      <td>48.221539</td>\n",
       "    </tr>\n",
       "    <tr>\n",
       "      <th>G</th>\n",
       "      <td>81.0</td>\n",
       "      <td>97.625692</td>\n",
       "      <td>27.721561978687724</td>\n",
       "      <td>NaN</td>\n",
       "    </tr>\n",
       "    <tr>\n",
       "      <th>G</th>\n",
       "      <td>81.0</td>\n",
       "      <td>97.625692</td>\n",
       "      <td>27.721561978687724</td>\n",
       "      <td>NaN</td>\n",
       "    </tr>\n",
       "    <tr>\n",
       "      <th>H</th>\n",
       "      <td>80.0</td>\n",
       "      <td>27.992726</td>\n",
       "      <td>51.98579348728204</td>\n",
       "      <td>57.619315</td>\n",
       "    </tr>\n",
       "    <tr>\n",
       "      <th>H</th>\n",
       "      <td>80.0</td>\n",
       "      <td>27.992726</td>\n",
       "      <td>51.98579348728204</td>\n",
       "      <td>57.619315</td>\n",
       "    </tr>\n",
       "    <tr>\n",
       "      <th>I</th>\n",
       "      <td>NaN</td>\n",
       "      <td>81.051657</td>\n",
       "      <td>29.704625238172255</td>\n",
       "      <td>92.310521</td>\n",
       "    </tr>\n",
       "  </tbody>\n",
       "</table>\n",
       "</div>"
      ],
      "text/plain": [
       "   coluna1    coluna2             coluna3    coluna4\n",
       "A     99.0  14.672962   57.49035237811946  15.806837\n",
       "B      NaN  52.069113  37.434941823001324  55.685979\n",
       "C     73.0  61.725587   86.46591445211101  15.099232\n",
       "D      NaN  62.272979   33.77557806831292  14.414189\n",
       "D      NaN  62.272979   33.77557806831292  14.414189\n",
       "E      NaN  44.665960  22.983735705888154        NaN\n",
       "E      NaN  44.665960  22.983735705888154        NaN\n",
       "F     15.0  98.756317   2.321882855099622  48.221539\n",
       "F     15.0  98.756317   2.321882855099622  48.221539\n",
       "G     81.0  97.625692  27.721561978687724        NaN\n",
       "G     81.0  97.625692  27.721561978687724        NaN\n",
       "H     80.0  27.992726   51.98579348728204  57.619315\n",
       "H     80.0  27.992726   51.98579348728204  57.619315\n",
       "I      NaN  81.051657  29.704625238172255  92.310521"
      ]
     },
     "execution_count": 94,
     "metadata": {},
     "output_type": "execute_result"
    }
   ],
   "source": [
    "# criando um dataframe com dados duplicados\n",
    "\n",
    "df_dup = df.append(df.loc['D': 'H',:]).sort_index()\n",
    "df_dup"
   ]
  },
  {
   "cell_type": "code",
   "execution_count": 95,
   "metadata": {},
   "outputs": [
    {
     "data": {
      "text/html": [
       "<div>\n",
       "<style scoped>\n",
       "    .dataframe tbody tr th:only-of-type {\n",
       "        vertical-align: middle;\n",
       "    }\n",
       "\n",
       "    .dataframe tbody tr th {\n",
       "        vertical-align: top;\n",
       "    }\n",
       "\n",
       "    .dataframe thead th {\n",
       "        text-align: right;\n",
       "    }\n",
       "</style>\n",
       "<table border=\"1\" class=\"dataframe\">\n",
       "  <thead>\n",
       "    <tr style=\"text-align: right;\">\n",
       "      <th></th>\n",
       "      <th>coluna1</th>\n",
       "      <th>coluna2</th>\n",
       "      <th>coluna3</th>\n",
       "      <th>coluna4</th>\n",
       "    </tr>\n",
       "  </thead>\n",
       "  <tbody>\n",
       "    <tr>\n",
       "      <th>A</th>\n",
       "      <td>99.0</td>\n",
       "      <td>14.672962</td>\n",
       "      <td>57.49035237811946</td>\n",
       "      <td>15.806837</td>\n",
       "    </tr>\n",
       "    <tr>\n",
       "      <th>B</th>\n",
       "      <td>NaN</td>\n",
       "      <td>52.069113</td>\n",
       "      <td>37.434941823001324</td>\n",
       "      <td>55.685979</td>\n",
       "    </tr>\n",
       "    <tr>\n",
       "      <th>C</th>\n",
       "      <td>73.0</td>\n",
       "      <td>61.725587</td>\n",
       "      <td>86.46591445211101</td>\n",
       "      <td>15.099232</td>\n",
       "    </tr>\n",
       "    <tr>\n",
       "      <th>D</th>\n",
       "      <td>NaN</td>\n",
       "      <td>62.272979</td>\n",
       "      <td>33.77557806831292</td>\n",
       "      <td>14.414189</td>\n",
       "    </tr>\n",
       "    <tr>\n",
       "      <th>E</th>\n",
       "      <td>NaN</td>\n",
       "      <td>44.665960</td>\n",
       "      <td>22.983735705888154</td>\n",
       "      <td>NaN</td>\n",
       "    </tr>\n",
       "    <tr>\n",
       "      <th>F</th>\n",
       "      <td>15.0</td>\n",
       "      <td>98.756317</td>\n",
       "      <td>2.321882855099622</td>\n",
       "      <td>48.221539</td>\n",
       "    </tr>\n",
       "    <tr>\n",
       "      <th>G</th>\n",
       "      <td>81.0</td>\n",
       "      <td>97.625692</td>\n",
       "      <td>27.721561978687724</td>\n",
       "      <td>NaN</td>\n",
       "    </tr>\n",
       "    <tr>\n",
       "      <th>H</th>\n",
       "      <td>80.0</td>\n",
       "      <td>27.992726</td>\n",
       "      <td>51.98579348728204</td>\n",
       "      <td>57.619315</td>\n",
       "    </tr>\n",
       "    <tr>\n",
       "      <th>I</th>\n",
       "      <td>NaN</td>\n",
       "      <td>81.051657</td>\n",
       "      <td>29.704625238172255</td>\n",
       "      <td>92.310521</td>\n",
       "    </tr>\n",
       "  </tbody>\n",
       "</table>\n",
       "</div>"
      ],
      "text/plain": [
       "   coluna1    coluna2             coluna3    coluna4\n",
       "A     99.0  14.672962   57.49035237811946  15.806837\n",
       "B      NaN  52.069113  37.434941823001324  55.685979\n",
       "C     73.0  61.725587   86.46591445211101  15.099232\n",
       "D      NaN  62.272979   33.77557806831292  14.414189\n",
       "E      NaN  44.665960  22.983735705888154        NaN\n",
       "F     15.0  98.756317   2.321882855099622  48.221539\n",
       "G     81.0  97.625692  27.721561978687724        NaN\n",
       "H     80.0  27.992726   51.98579348728204  57.619315\n",
       "I      NaN  81.051657  29.704625238172255  92.310521"
      ]
     },
     "execution_count": 95,
     "metadata": {},
     "output_type": "execute_result"
    }
   ],
   "source": [
    "# dropando todas as linhas duplicadas\n",
    "df_dup.drop_duplicates()"
   ]
  },
  {
   "cell_type": "code",
   "execution_count": 96,
   "metadata": {},
   "outputs": [
    {
     "data": {
      "text/html": [
       "<div>\n",
       "<style scoped>\n",
       "    .dataframe tbody tr th:only-of-type {\n",
       "        vertical-align: middle;\n",
       "    }\n",
       "\n",
       "    .dataframe tbody tr th {\n",
       "        vertical-align: top;\n",
       "    }\n",
       "\n",
       "    .dataframe thead th {\n",
       "        text-align: right;\n",
       "    }\n",
       "</style>\n",
       "<table border=\"1\" class=\"dataframe\">\n",
       "  <thead>\n",
       "    <tr style=\"text-align: right;\">\n",
       "      <th></th>\n",
       "      <th>coluna1</th>\n",
       "      <th>coluna2</th>\n",
       "      <th>coluna3</th>\n",
       "      <th>coluna4</th>\n",
       "    </tr>\n",
       "  </thead>\n",
       "  <tbody>\n",
       "    <tr>\n",
       "      <th>A</th>\n",
       "      <td>99.0</td>\n",
       "      <td>14.672962</td>\n",
       "      <td>57.49035237811946</td>\n",
       "      <td>15.806837</td>\n",
       "    </tr>\n",
       "    <tr>\n",
       "      <th>B</th>\n",
       "      <td>NaN</td>\n",
       "      <td>52.069113</td>\n",
       "      <td>37.434941823001324</td>\n",
       "      <td>55.685979</td>\n",
       "    </tr>\n",
       "    <tr>\n",
       "      <th>C</th>\n",
       "      <td>73.0</td>\n",
       "      <td>61.725587</td>\n",
       "      <td>86.46591445211101</td>\n",
       "      <td>15.099232</td>\n",
       "    </tr>\n",
       "    <tr>\n",
       "      <th>F</th>\n",
       "      <td>15.0</td>\n",
       "      <td>98.756317</td>\n",
       "      <td>2.321882855099622</td>\n",
       "      <td>48.221539</td>\n",
       "    </tr>\n",
       "    <tr>\n",
       "      <th>G</th>\n",
       "      <td>81.0</td>\n",
       "      <td>97.625692</td>\n",
       "      <td>27.721561978687724</td>\n",
       "      <td>NaN</td>\n",
       "    </tr>\n",
       "    <tr>\n",
       "      <th>H</th>\n",
       "      <td>80.0</td>\n",
       "      <td>27.992726</td>\n",
       "      <td>51.98579348728204</td>\n",
       "      <td>57.619315</td>\n",
       "    </tr>\n",
       "  </tbody>\n",
       "</table>\n",
       "</div>"
      ],
      "text/plain": [
       "   coluna1    coluna2             coluna3    coluna4\n",
       "A     99.0  14.672962   57.49035237811946  15.806837\n",
       "B      NaN  52.069113  37.434941823001324  55.685979\n",
       "C     73.0  61.725587   86.46591445211101  15.099232\n",
       "F     15.0  98.756317   2.321882855099622  48.221539\n",
       "G     81.0  97.625692  27.721561978687724        NaN\n",
       "H     80.0  27.992726   51.98579348728204  57.619315"
      ]
     },
     "execution_count": 96,
     "metadata": {},
     "output_type": "execute_result"
    }
   ],
   "source": [
    "# dropando valores duplicados por analisando uma coluna\n",
    "df_dup.drop_duplicates(subset=['coluna1'])"
   ]
  },
  {
   "cell_type": "markdown",
   "metadata": {},
   "source": [
    "### Mapeamentos (map)"
   ]
  },
  {
   "cell_type": "code",
   "execution_count": 97,
   "metadata": {},
   "outputs": [],
   "source": [
    "# lista randomica de 0 ou 1 de quinze digitos\n",
    "\n",
    "rand_list = [np.random.randint(0, 2) for i in range(0, 15)]"
   ]
  },
  {
   "cell_type": "code",
   "execution_count": 98,
   "metadata": {},
   "outputs": [
    {
     "data": {
      "text/plain": [
       "0     1\n",
       "1     0\n",
       "2     1\n",
       "3     1\n",
       "4     0\n",
       "5     0\n",
       "6     0\n",
       "7     0\n",
       "8     0\n",
       "9     1\n",
       "10    0\n",
       "11    0\n",
       "12    0\n",
       "13    1\n",
       "14    1\n",
       "dtype: int64"
      ]
     },
     "execution_count": 98,
     "metadata": {},
     "output_type": "execute_result"
    }
   ],
   "source": [
    "genero = pd.Series(rand_list)\n",
    "genero"
   ]
  },
  {
   "cell_type": "code",
   "execution_count": 99,
   "metadata": {},
   "outputs": [
    {
     "data": {
      "text/plain": [
       "0      Feminino\n",
       "1     Masculino\n",
       "2      Feminino\n",
       "3      Feminino\n",
       "4     Masculino\n",
       "5     Masculino\n",
       "6     Masculino\n",
       "7     Masculino\n",
       "8     Masculino\n",
       "9      Feminino\n",
       "10    Masculino\n",
       "11    Masculino\n",
       "12    Masculino\n",
       "13     Feminino\n",
       "14     Feminino\n",
       "dtype: object"
      ]
     },
     "execution_count": 99,
     "metadata": {},
     "output_type": "execute_result"
    }
   ],
   "source": [
    "# passa um dicionario para a série e troca os valores mapeados para o valor escolhido\n",
    "genero.map({1: 'Feminino', 0: 'Masculino'})"
   ]
  },
  {
   "cell_type": "markdown",
   "metadata": {},
   "source": [
    "## 5.2 Renomeando indices e colunas"
   ]
  },
  {
   "cell_type": "markdown",
   "metadata": {},
   "source": [
    "### Renomeando colunas"
   ]
  },
  {
   "cell_type": "code",
   "execution_count": 102,
   "metadata": {},
   "outputs": [
    {
     "data": {
      "text/plain": [
       "Index(['coluna1', 'coluna2', 'coluna3', 'coluna4'], dtype='object')"
      ]
     },
     "execution_count": 102,
     "metadata": {},
     "output_type": "execute_result"
    }
   ],
   "source": [
    "# lista de colunas\n",
    "df_2.columns"
   ]
  },
  {
   "cell_type": "code",
   "execution_count": 104,
   "metadata": {},
   "outputs": [
    {
     "data": {
      "text/html": [
       "<div>\n",
       "<style scoped>\n",
       "    .dataframe tbody tr th:only-of-type {\n",
       "        vertical-align: middle;\n",
       "    }\n",
       "\n",
       "    .dataframe tbody tr th {\n",
       "        vertical-align: top;\n",
       "    }\n",
       "\n",
       "    .dataframe thead th {\n",
       "        text-align: right;\n",
       "    }\n",
       "</style>\n",
       "<table border=\"1\" class=\"dataframe\">\n",
       "  <thead>\n",
       "    <tr style=\"text-align: right;\">\n",
       "      <th></th>\n",
       "      <th>segunda</th>\n",
       "      <th>terca</th>\n",
       "      <th>quarta</th>\n",
       "      <th>quinta</th>\n",
       "    </tr>\n",
       "  </thead>\n",
       "  <tbody>\n",
       "    <tr>\n",
       "      <th>A</th>\n",
       "      <td>99.179672</td>\n",
       "      <td>14.672962</td>\n",
       "      <td>57.490352</td>\n",
       "      <td>15.806837</td>\n",
       "    </tr>\n",
       "    <tr>\n",
       "      <th>B</th>\n",
       "      <td>14.213093</td>\n",
       "      <td>52.069113</td>\n",
       "      <td>37.434942</td>\n",
       "      <td>55.685979</td>\n",
       "    </tr>\n",
       "    <tr>\n",
       "      <th>C</th>\n",
       "      <td>73.565413</td>\n",
       "      <td>61.725587</td>\n",
       "      <td>86.465914</td>\n",
       "      <td>15.099232</td>\n",
       "    </tr>\n",
       "    <tr>\n",
       "      <th>D</th>\n",
       "      <td>25.293236</td>\n",
       "      <td>62.272979</td>\n",
       "      <td>33.775578</td>\n",
       "      <td>14.414189</td>\n",
       "    </tr>\n",
       "    <tr>\n",
       "      <th>E</th>\n",
       "      <td>17.667669</td>\n",
       "      <td>44.665960</td>\n",
       "      <td>22.983736</td>\n",
       "      <td>56.998505</td>\n",
       "    </tr>\n",
       "    <tr>\n",
       "      <th>F</th>\n",
       "      <td>15.206993</td>\n",
       "      <td>98.756317</td>\n",
       "      <td>2.321883</td>\n",
       "      <td>48.221539</td>\n",
       "    </tr>\n",
       "    <tr>\n",
       "      <th>G</th>\n",
       "      <td>81.134411</td>\n",
       "      <td>97.625692</td>\n",
       "      <td>27.721562</td>\n",
       "      <td>19.154007</td>\n",
       "    </tr>\n",
       "    <tr>\n",
       "      <th>H</th>\n",
       "      <td>80.141295</td>\n",
       "      <td>27.992726</td>\n",
       "      <td>51.985793</td>\n",
       "      <td>57.619315</td>\n",
       "    </tr>\n",
       "    <tr>\n",
       "      <th>I</th>\n",
       "      <td>69.618650</td>\n",
       "      <td>81.051657</td>\n",
       "      <td>29.704625</td>\n",
       "      <td>92.310521</td>\n",
       "    </tr>\n",
       "  </tbody>\n",
       "</table>\n",
       "</div>"
      ],
      "text/plain": [
       "     segunda      terca     quarta     quinta\n",
       "A  99.179672  14.672962  57.490352  15.806837\n",
       "B  14.213093  52.069113  37.434942  55.685979\n",
       "C  73.565413  61.725587  86.465914  15.099232\n",
       "D  25.293236  62.272979  33.775578  14.414189\n",
       "E  17.667669  44.665960  22.983736  56.998505\n",
       "F  15.206993  98.756317   2.321883  48.221539\n",
       "G  81.134411  97.625692  27.721562  19.154007\n",
       "H  80.141295  27.992726  51.985793  57.619315\n",
       "I  69.618650  81.051657  29.704625  92.310521"
      ]
     },
     "execution_count": 104,
     "metadata": {},
     "output_type": "execute_result"
    }
   ],
   "source": [
    "df_2.columns = ['segunda', 'terca', 'quarta', 'quinta']\n",
    "df_2"
   ]
  },
  {
   "cell_type": "markdown",
   "metadata": {},
   "source": [
    "### Renomeando indices"
   ]
  },
  {
   "cell_type": "code",
   "execution_count": 109,
   "metadata": {},
   "outputs": [
    {
     "data": {
      "text/html": [
       "<div>\n",
       "<style scoped>\n",
       "    .dataframe tbody tr th:only-of-type {\n",
       "        vertical-align: middle;\n",
       "    }\n",
       "\n",
       "    .dataframe tbody tr th {\n",
       "        vertical-align: top;\n",
       "    }\n",
       "\n",
       "    .dataframe thead th {\n",
       "        text-align: right;\n",
       "    }\n",
       "</style>\n",
       "<table border=\"1\" class=\"dataframe\">\n",
       "  <thead>\n",
       "    <tr style=\"text-align: right;\">\n",
       "      <th></th>\n",
       "      <th>segunda</th>\n",
       "      <th>terca</th>\n",
       "      <th>quarta</th>\n",
       "      <th>quinta</th>\n",
       "      <th>coluna_index</th>\n",
       "    </tr>\n",
       "  </thead>\n",
       "  <tbody>\n",
       "    <tr>\n",
       "      <th>A</th>\n",
       "      <td>99.179672</td>\n",
       "      <td>14.672962</td>\n",
       "      <td>57.490352</td>\n",
       "      <td>15.806837</td>\n",
       "      <td>LETRA_A</td>\n",
       "    </tr>\n",
       "    <tr>\n",
       "      <th>B</th>\n",
       "      <td>14.213093</td>\n",
       "      <td>52.069113</td>\n",
       "      <td>37.434942</td>\n",
       "      <td>55.685979</td>\n",
       "      <td>LETRA_B</td>\n",
       "    </tr>\n",
       "    <tr>\n",
       "      <th>C</th>\n",
       "      <td>73.565413</td>\n",
       "      <td>61.725587</td>\n",
       "      <td>86.465914</td>\n",
       "      <td>15.099232</td>\n",
       "      <td>LETRA_C</td>\n",
       "    </tr>\n",
       "    <tr>\n",
       "      <th>D</th>\n",
       "      <td>25.293236</td>\n",
       "      <td>62.272979</td>\n",
       "      <td>33.775578</td>\n",
       "      <td>14.414189</td>\n",
       "      <td>LETRA_D</td>\n",
       "    </tr>\n",
       "    <tr>\n",
       "      <th>E</th>\n",
       "      <td>17.667669</td>\n",
       "      <td>44.665960</td>\n",
       "      <td>22.983736</td>\n",
       "      <td>56.998505</td>\n",
       "      <td>LETRA_E</td>\n",
       "    </tr>\n",
       "    <tr>\n",
       "      <th>F</th>\n",
       "      <td>15.206993</td>\n",
       "      <td>98.756317</td>\n",
       "      <td>2.321883</td>\n",
       "      <td>48.221539</td>\n",
       "      <td>LETRA_F</td>\n",
       "    </tr>\n",
       "    <tr>\n",
       "      <th>G</th>\n",
       "      <td>81.134411</td>\n",
       "      <td>97.625692</td>\n",
       "      <td>27.721562</td>\n",
       "      <td>19.154007</td>\n",
       "      <td>LETRA_G</td>\n",
       "    </tr>\n",
       "    <tr>\n",
       "      <th>H</th>\n",
       "      <td>80.141295</td>\n",
       "      <td>27.992726</td>\n",
       "      <td>51.985793</td>\n",
       "      <td>57.619315</td>\n",
       "      <td>LETRA_H</td>\n",
       "    </tr>\n",
       "    <tr>\n",
       "      <th>I</th>\n",
       "      <td>69.618650</td>\n",
       "      <td>81.051657</td>\n",
       "      <td>29.704625</td>\n",
       "      <td>92.310521</td>\n",
       "      <td>LETRA_I</td>\n",
       "    </tr>\n",
       "  </tbody>\n",
       "</table>\n",
       "</div>"
      ],
      "text/plain": [
       "     segunda      terca     quarta     quinta coluna_index\n",
       "A  99.179672  14.672962  57.490352  15.806837      LETRA_A\n",
       "B  14.213093  52.069113  37.434942  55.685979      LETRA_B\n",
       "C  73.565413  61.725587  86.465914  15.099232      LETRA_C\n",
       "D  25.293236  62.272979  33.775578  14.414189      LETRA_D\n",
       "E  17.667669  44.665960  22.983736  56.998505      LETRA_E\n",
       "F  15.206993  98.756317   2.321883  48.221539      LETRA_F\n",
       "G  81.134411  97.625692  27.721562  19.154007      LETRA_G\n",
       "H  80.141295  27.992726  51.985793  57.619315      LETRA_H\n",
       "I  69.618650  81.051657  29.704625  92.310521      LETRA_I"
      ]
     },
     "execution_count": 109,
     "metadata": {},
     "output_type": "execute_result"
    }
   ],
   "source": [
    "# criando a coluna com os novos indices\n",
    "list_index = [\"LETRA_\" + chr(i) for i in range(ord(\"A\"), ord(\"J\"))]\n",
    "\n",
    "df_2['coluna_index'] = list_index\n",
    "df_2"
   ]
  },
  {
   "cell_type": "code",
   "execution_count": 113,
   "metadata": {},
   "outputs": [
    {
     "data": {
      "text/html": [
       "<div>\n",
       "<style scoped>\n",
       "    .dataframe tbody tr th:only-of-type {\n",
       "        vertical-align: middle;\n",
       "    }\n",
       "\n",
       "    .dataframe tbody tr th {\n",
       "        vertical-align: top;\n",
       "    }\n",
       "\n",
       "    .dataframe thead th {\n",
       "        text-align: right;\n",
       "    }\n",
       "</style>\n",
       "<table border=\"1\" class=\"dataframe\">\n",
       "  <thead>\n",
       "    <tr style=\"text-align: right;\">\n",
       "      <th></th>\n",
       "      <th>segunda</th>\n",
       "      <th>terca</th>\n",
       "      <th>quarta</th>\n",
       "      <th>quinta</th>\n",
       "    </tr>\n",
       "    <tr>\n",
       "      <th>coluna_index</th>\n",
       "      <th></th>\n",
       "      <th></th>\n",
       "      <th></th>\n",
       "      <th></th>\n",
       "    </tr>\n",
       "  </thead>\n",
       "  <tbody>\n",
       "    <tr>\n",
       "      <th>LETRA_A</th>\n",
       "      <td>99.179672</td>\n",
       "      <td>14.672962</td>\n",
       "      <td>57.490352</td>\n",
       "      <td>15.806837</td>\n",
       "    </tr>\n",
       "    <tr>\n",
       "      <th>LETRA_B</th>\n",
       "      <td>14.213093</td>\n",
       "      <td>52.069113</td>\n",
       "      <td>37.434942</td>\n",
       "      <td>55.685979</td>\n",
       "    </tr>\n",
       "    <tr>\n",
       "      <th>LETRA_C</th>\n",
       "      <td>73.565413</td>\n",
       "      <td>61.725587</td>\n",
       "      <td>86.465914</td>\n",
       "      <td>15.099232</td>\n",
       "    </tr>\n",
       "    <tr>\n",
       "      <th>LETRA_D</th>\n",
       "      <td>25.293236</td>\n",
       "      <td>62.272979</td>\n",
       "      <td>33.775578</td>\n",
       "      <td>14.414189</td>\n",
       "    </tr>\n",
       "    <tr>\n",
       "      <th>LETRA_E</th>\n",
       "      <td>17.667669</td>\n",
       "      <td>44.665960</td>\n",
       "      <td>22.983736</td>\n",
       "      <td>56.998505</td>\n",
       "    </tr>\n",
       "    <tr>\n",
       "      <th>LETRA_F</th>\n",
       "      <td>15.206993</td>\n",
       "      <td>98.756317</td>\n",
       "      <td>2.321883</td>\n",
       "      <td>48.221539</td>\n",
       "    </tr>\n",
       "    <tr>\n",
       "      <th>LETRA_G</th>\n",
       "      <td>81.134411</td>\n",
       "      <td>97.625692</td>\n",
       "      <td>27.721562</td>\n",
       "      <td>19.154007</td>\n",
       "    </tr>\n",
       "    <tr>\n",
       "      <th>LETRA_H</th>\n",
       "      <td>80.141295</td>\n",
       "      <td>27.992726</td>\n",
       "      <td>51.985793</td>\n",
       "      <td>57.619315</td>\n",
       "    </tr>\n",
       "    <tr>\n",
       "      <th>LETRA_I</th>\n",
       "      <td>69.618650</td>\n",
       "      <td>81.051657</td>\n",
       "      <td>29.704625</td>\n",
       "      <td>92.310521</td>\n",
       "    </tr>\n",
       "  </tbody>\n",
       "</table>\n",
       "</div>"
      ],
      "text/plain": [
       "                segunda      terca     quarta     quinta\n",
       "coluna_index                                            \n",
       "LETRA_A       99.179672  14.672962  57.490352  15.806837\n",
       "LETRA_B       14.213093  52.069113  37.434942  55.685979\n",
       "LETRA_C       73.565413  61.725587  86.465914  15.099232\n",
       "LETRA_D       25.293236  62.272979  33.775578  14.414189\n",
       "LETRA_E       17.667669  44.665960  22.983736  56.998505\n",
       "LETRA_F       15.206993  98.756317   2.321883  48.221539\n",
       "LETRA_G       81.134411  97.625692  27.721562  19.154007\n",
       "LETRA_H       80.141295  27.992726  51.985793  57.619315\n",
       "LETRA_I       69.618650  81.051657  29.704625  92.310521"
      ]
     },
     "execution_count": 113,
     "metadata": {},
     "output_type": "execute_result"
    }
   ],
   "source": [
    "# setando a coluna criada como a coluna index\n",
    "df_2.set_index('coluna_index')"
   ]
  },
  {
   "cell_type": "code",
   "execution_count": 117,
   "metadata": {},
   "outputs": [
    {
     "data": {
      "text/html": [
       "<div>\n",
       "<style scoped>\n",
       "    .dataframe tbody tr th:only-of-type {\n",
       "        vertical-align: middle;\n",
       "    }\n",
       "\n",
       "    .dataframe tbody tr th {\n",
       "        vertical-align: top;\n",
       "    }\n",
       "\n",
       "    .dataframe thead th {\n",
       "        text-align: right;\n",
       "    }\n",
       "</style>\n",
       "<table border=\"1\" class=\"dataframe\">\n",
       "  <thead>\n",
       "    <tr style=\"text-align: right;\">\n",
       "      <th></th>\n",
       "      <th>segunda</th>\n",
       "      <th>terca</th>\n",
       "      <th>quarta</th>\n",
       "      <th>quinta</th>\n",
       "      <th>coluna_index</th>\n",
       "    </tr>\n",
       "  </thead>\n",
       "  <tbody>\n",
       "    <tr>\n",
       "      <th>0</th>\n",
       "      <td>99.179672</td>\n",
       "      <td>14.672962</td>\n",
       "      <td>57.490352</td>\n",
       "      <td>15.806837</td>\n",
       "      <td>LETRA_A</td>\n",
       "    </tr>\n",
       "    <tr>\n",
       "      <th>1</th>\n",
       "      <td>14.213093</td>\n",
       "      <td>52.069113</td>\n",
       "      <td>37.434942</td>\n",
       "      <td>55.685979</td>\n",
       "      <td>LETRA_B</td>\n",
       "    </tr>\n",
       "    <tr>\n",
       "      <th>2</th>\n",
       "      <td>73.565413</td>\n",
       "      <td>61.725587</td>\n",
       "      <td>86.465914</td>\n",
       "      <td>15.099232</td>\n",
       "      <td>LETRA_C</td>\n",
       "    </tr>\n",
       "    <tr>\n",
       "      <th>3</th>\n",
       "      <td>25.293236</td>\n",
       "      <td>62.272979</td>\n",
       "      <td>33.775578</td>\n",
       "      <td>14.414189</td>\n",
       "      <td>LETRA_D</td>\n",
       "    </tr>\n",
       "    <tr>\n",
       "      <th>4</th>\n",
       "      <td>17.667669</td>\n",
       "      <td>44.665960</td>\n",
       "      <td>22.983736</td>\n",
       "      <td>56.998505</td>\n",
       "      <td>LETRA_E</td>\n",
       "    </tr>\n",
       "    <tr>\n",
       "      <th>5</th>\n",
       "      <td>15.206993</td>\n",
       "      <td>98.756317</td>\n",
       "      <td>2.321883</td>\n",
       "      <td>48.221539</td>\n",
       "      <td>LETRA_F</td>\n",
       "    </tr>\n",
       "    <tr>\n",
       "      <th>6</th>\n",
       "      <td>81.134411</td>\n",
       "      <td>97.625692</td>\n",
       "      <td>27.721562</td>\n",
       "      <td>19.154007</td>\n",
       "      <td>LETRA_G</td>\n",
       "    </tr>\n",
       "    <tr>\n",
       "      <th>7</th>\n",
       "      <td>80.141295</td>\n",
       "      <td>27.992726</td>\n",
       "      <td>51.985793</td>\n",
       "      <td>57.619315</td>\n",
       "      <td>LETRA_H</td>\n",
       "    </tr>\n",
       "    <tr>\n",
       "      <th>8</th>\n",
       "      <td>69.618650</td>\n",
       "      <td>81.051657</td>\n",
       "      <td>29.704625</td>\n",
       "      <td>92.310521</td>\n",
       "      <td>LETRA_I</td>\n",
       "    </tr>\n",
       "  </tbody>\n",
       "</table>\n",
       "</div>"
      ],
      "text/plain": [
       "     segunda      terca     quarta     quinta coluna_index\n",
       "0  99.179672  14.672962  57.490352  15.806837      LETRA_A\n",
       "1  14.213093  52.069113  37.434942  55.685979      LETRA_B\n",
       "2  73.565413  61.725587  86.465914  15.099232      LETRA_C\n",
       "3  25.293236  62.272979  33.775578  14.414189      LETRA_D\n",
       "4  17.667669  44.665960  22.983736  56.998505      LETRA_E\n",
       "5  15.206993  98.756317   2.321883  48.221539      LETRA_F\n",
       "6  81.134411  97.625692  27.721562  19.154007      LETRA_G\n",
       "7  80.141295  27.992726  51.985793  57.619315      LETRA_H\n",
       "8  69.618650  81.051657  29.704625  92.310521      LETRA_I"
      ]
     },
     "execution_count": 117,
     "metadata": {},
     "output_type": "execute_result"
    }
   ],
   "source": [
    "# reseta o index e dropa a coluna que era index antes\n",
    "df_2.reset_index(drop=True)"
   ]
  },
  {
   "cell_type": "markdown",
   "metadata": {},
   "source": [
    "## 5.3 Categorização e dummies"
   ]
  },
  {
   "cell_type": "markdown",
   "metadata": {},
   "source": [
    "### Categorização"
   ]
  },
  {
   "cell_type": "code",
   "execution_count": null,
   "metadata": {},
   "outputs": [],
   "source": []
  }
 ],
 "metadata": {
  "kernelspec": {
   "display_name": "Python 3.10.5 64-bit",
   "language": "python",
   "name": "python3"
  },
  "language_info": {
   "codemirror_mode": {
    "name": "ipython",
    "version": 3
   },
   "file_extension": ".py",
   "mimetype": "text/x-python",
   "name": "python",
   "nbconvert_exporter": "python",
   "pygments_lexer": "ipython3",
   "version": "3.10.5"
  },
  "orig_nbformat": 4,
  "vscode": {
   "interpreter": {
    "hash": "aee8b7b246df8f9039afb4144a1f6fd8d2ca17a180786b69acc140d282b71a49"
   }
  }
 },
 "nbformat": 4,
 "nbformat_minor": 2
}
