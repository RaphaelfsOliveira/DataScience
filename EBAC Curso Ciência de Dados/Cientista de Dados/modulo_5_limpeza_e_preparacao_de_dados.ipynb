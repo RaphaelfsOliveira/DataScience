{
 "cells": [
  {
   "cell_type": "markdown",
   "metadata": {},
   "source": [
    "# Module 5 - Limpeza e preparação de dados"
   ]
  },
  {
   "cell_type": "markdown",
   "metadata": {},
   "source": [
    "## 5.1 Identificando e tratando dados ausentes"
   ]
  },
  {
   "cell_type": "markdown",
   "metadata": {},
   "source": [
    "### Identificando dados ausentes"
   ]
  },
  {
   "cell_type": "code",
   "execution_count": 1,
   "metadata": {},
   "outputs": [],
   "source": [
    "import pandas as pd\n",
    "import numpy as np"
   ]
  },
  {
   "cell_type": "code",
   "execution_count": 28,
   "metadata": {},
   "outputs": [
    {
     "data": {
      "text/html": [
       "<div>\n",
       "<style scoped>\n",
       "    .dataframe tbody tr th:only-of-type {\n",
       "        vertical-align: middle;\n",
       "    }\n",
       "\n",
       "    .dataframe tbody tr th {\n",
       "        vertical-align: top;\n",
       "    }\n",
       "\n",
       "    .dataframe thead th {\n",
       "        text-align: right;\n",
       "    }\n",
       "</style>\n",
       "<table border=\"1\" class=\"dataframe\">\n",
       "  <thead>\n",
       "    <tr style=\"text-align: right;\">\n",
       "      <th></th>\n",
       "      <th>coluna1</th>\n",
       "      <th>coluna2</th>\n",
       "      <th>coluna3</th>\n",
       "      <th>coluna4</th>\n",
       "    </tr>\n",
       "  </thead>\n",
       "  <tbody>\n",
       "    <tr>\n",
       "      <th>A</th>\n",
       "      <td>19.224568</td>\n",
       "      <td>5.334578</td>\n",
       "      <td>42.255191</td>\n",
       "      <td>17.274552</td>\n",
       "    </tr>\n",
       "    <tr>\n",
       "      <th>B</th>\n",
       "      <td>23.397801</td>\n",
       "      <td>75.997894</td>\n",
       "      <td>66.286743</td>\n",
       "      <td>50.555908</td>\n",
       "    </tr>\n",
       "    <tr>\n",
       "      <th>C</th>\n",
       "      <td>62.425611</td>\n",
       "      <td>14.712186</td>\n",
       "      <td>3.429024</td>\n",
       "      <td>97.323160</td>\n",
       "    </tr>\n",
       "    <tr>\n",
       "      <th>D</th>\n",
       "      <td>83.885714</td>\n",
       "      <td>71.149910</td>\n",
       "      <td>35.512545</td>\n",
       "      <td>28.286585</td>\n",
       "    </tr>\n",
       "    <tr>\n",
       "      <th>E</th>\n",
       "      <td>59.676419</td>\n",
       "      <td>56.793323</td>\n",
       "      <td>11.266395</td>\n",
       "      <td>4.236952</td>\n",
       "    </tr>\n",
       "    <tr>\n",
       "      <th>F</th>\n",
       "      <td>12.370253</td>\n",
       "      <td>83.181236</td>\n",
       "      <td>7.990770</td>\n",
       "      <td>17.765918</td>\n",
       "    </tr>\n",
       "    <tr>\n",
       "      <th>G</th>\n",
       "      <td>21.819332</td>\n",
       "      <td>77.891506</td>\n",
       "      <td>49.616287</td>\n",
       "      <td>62.071815</td>\n",
       "    </tr>\n",
       "    <tr>\n",
       "      <th>H</th>\n",
       "      <td>28.317081</td>\n",
       "      <td>14.235639</td>\n",
       "      <td>61.722760</td>\n",
       "      <td>36.772142</td>\n",
       "    </tr>\n",
       "    <tr>\n",
       "      <th>I</th>\n",
       "      <td>73.945177</td>\n",
       "      <td>1.565151</td>\n",
       "      <td>69.060792</td>\n",
       "      <td>89.420183</td>\n",
       "    </tr>\n",
       "  </tbody>\n",
       "</table>\n",
       "</div>"
      ],
      "text/plain": [
       "     coluna1    coluna2    coluna3    coluna4\n",
       "A  19.224568   5.334578  42.255191  17.274552\n",
       "B  23.397801  75.997894  66.286743  50.555908\n",
       "C  62.425611  14.712186   3.429024  97.323160\n",
       "D  83.885714  71.149910  35.512545  28.286585\n",
       "E  59.676419  56.793323  11.266395   4.236952\n",
       "F  12.370253  83.181236   7.990770  17.765918\n",
       "G  21.819332  77.891506  49.616287  62.071815\n",
       "H  28.317081  14.235639  61.722760  36.772142\n",
       "I  73.945177   1.565151  69.060792  89.420183"
      ]
     },
     "execution_count": 28,
     "metadata": {},
     "output_type": "execute_result"
    }
   ],
   "source": [
    "# construindo um dataframe\n",
    "df = pd.DataFrame(\n",
    "    np.random.rand(9, 4) * 100,\n",
    "    index=[chr(i) for i in range(ord(\"A\"), ord(\"J\"))],\n",
    "    columns=[\"coluna%s\" %i for i in range(1, 5)]\n",
    ")\n",
    "df\n"
   ]
  },
  {
   "cell_type": "code",
   "execution_count": 31,
   "metadata": {},
   "outputs": [
    {
     "data": {
      "text/plain": [
       "coluna1    float64\n",
       "coluna2    float64\n",
       "coluna3    float64\n",
       "coluna4    float64\n",
       "dtype: object"
      ]
     },
     "execution_count": 31,
     "metadata": {},
     "output_type": "execute_result"
    }
   ],
   "source": [
    "# tipos das colunas\n",
    "df.dtypes"
   ]
  },
  {
   "cell_type": "code",
   "execution_count": 39,
   "metadata": {},
   "outputs": [
    {
     "data": {
      "text/plain": [
       "coluna1      int64\n",
       "coluna2    float64\n",
       "coluna3     object\n",
       "coluna4    float64\n",
       "dtype: object"
      ]
     },
     "execution_count": 39,
     "metadata": {},
     "output_type": "execute_result"
    }
   ],
   "source": [
    "df['coluna1'] = df['coluna1'].astype(int)\n",
    "df.dtypes"
   ]
  },
  {
   "cell_type": "code",
   "execution_count": 40,
   "metadata": {},
   "outputs": [
    {
     "data": {
      "text/plain": [
       "coluna1      int64\n",
       "coluna2    float64\n",
       "coluna3     object\n",
       "coluna4    float64\n",
       "dtype: object"
      ]
     },
     "execution_count": 40,
     "metadata": {},
     "output_type": "execute_result"
    }
   ],
   "source": [
    "df['coluna3'] = df['coluna3'].astype(str)\n",
    "df.dtypes"
   ]
  },
  {
   "cell_type": "code",
   "execution_count": 42,
   "metadata": {},
   "outputs": [
    {
     "data": {
      "text/html": [
       "<div>\n",
       "<style scoped>\n",
       "    .dataframe tbody tr th:only-of-type {\n",
       "        vertical-align: middle;\n",
       "    }\n",
       "\n",
       "    .dataframe tbody tr th {\n",
       "        vertical-align: top;\n",
       "    }\n",
       "\n",
       "    .dataframe thead th {\n",
       "        text-align: right;\n",
       "    }\n",
       "</style>\n",
       "<table border=\"1\" class=\"dataframe\">\n",
       "  <thead>\n",
       "    <tr style=\"text-align: right;\">\n",
       "      <th></th>\n",
       "      <th>coluna1</th>\n",
       "      <th>coluna2</th>\n",
       "      <th>coluna3</th>\n",
       "      <th>coluna4</th>\n",
       "    </tr>\n",
       "  </thead>\n",
       "  <tbody>\n",
       "    <tr>\n",
       "      <th>A</th>\n",
       "      <td>19</td>\n",
       "      <td>5.334578</td>\n",
       "      <td>42.255190796214734</td>\n",
       "      <td>17.274552</td>\n",
       "    </tr>\n",
       "    <tr>\n",
       "      <th>B</th>\n",
       "      <td>23</td>\n",
       "      <td>75.997894</td>\n",
       "      <td>66.28674306770573</td>\n",
       "      <td>50.555908</td>\n",
       "    </tr>\n",
       "    <tr>\n",
       "      <th>C</th>\n",
       "      <td>62</td>\n",
       "      <td>14.712186</td>\n",
       "      <td>3.429024060428465</td>\n",
       "      <td>97.323160</td>\n",
       "    </tr>\n",
       "    <tr>\n",
       "      <th>D</th>\n",
       "      <td>83</td>\n",
       "      <td>71.149910</td>\n",
       "      <td>35.51254489778491</td>\n",
       "      <td>28.286585</td>\n",
       "    </tr>\n",
       "    <tr>\n",
       "      <th>E</th>\n",
       "      <td>59</td>\n",
       "      <td>56.793323</td>\n",
       "      <td>11.266395108539617</td>\n",
       "      <td>4.236952</td>\n",
       "    </tr>\n",
       "    <tr>\n",
       "      <th>F</th>\n",
       "      <td>12</td>\n",
       "      <td>83.181236</td>\n",
       "      <td>7.990770106266865</td>\n",
       "      <td>17.765918</td>\n",
       "    </tr>\n",
       "    <tr>\n",
       "      <th>G</th>\n",
       "      <td>21</td>\n",
       "      <td>77.891506</td>\n",
       "      <td>49.61628656373127</td>\n",
       "      <td>62.071815</td>\n",
       "    </tr>\n",
       "    <tr>\n",
       "      <th>H</th>\n",
       "      <td>28</td>\n",
       "      <td>14.235639</td>\n",
       "      <td>61.72276021602391</td>\n",
       "      <td>36.772142</td>\n",
       "    </tr>\n",
       "    <tr>\n",
       "      <th>I</th>\n",
       "      <td>73</td>\n",
       "      <td>1.565151</td>\n",
       "      <td>69.06079187224358</td>\n",
       "      <td>89.420183</td>\n",
       "    </tr>\n",
       "  </tbody>\n",
       "</table>\n",
       "</div>"
      ],
      "text/plain": [
       "   coluna1    coluna2             coluna3    coluna4\n",
       "A       19   5.334578  42.255190796214734  17.274552\n",
       "B       23  75.997894   66.28674306770573  50.555908\n",
       "C       62  14.712186   3.429024060428465  97.323160\n",
       "D       83  71.149910   35.51254489778491  28.286585\n",
       "E       59  56.793323  11.266395108539617   4.236952\n",
       "F       12  83.181236   7.990770106266865  17.765918\n",
       "G       21  77.891506   49.61628656373127  62.071815\n",
       "H       28  14.235639   61.72276021602391  36.772142\n",
       "I       73   1.565151   69.06079187224358  89.420183"
      ]
     },
     "execution_count": 42,
     "metadata": {},
     "output_type": "execute_result"
    }
   ],
   "source": [
    "df"
   ]
  },
  {
   "cell_type": "code",
   "execution_count": 45,
   "metadata": {},
   "outputs": [
    {
     "data": {
      "text/plain": [
       "'11.266395108539617'"
      ]
     },
     "execution_count": 45,
     "metadata": {},
     "output_type": "execute_result"
    }
   ],
   "source": [
    "# acessando valor por linha e coluna\n",
    "df.iloc[4, 2]"
   ]
  },
  {
   "cell_type": "code",
   "execution_count": 56,
   "metadata": {},
   "outputs": [],
   "source": [
    "# inserindo um dado faltante no dataframe\n",
    "df.iloc[1, 0] = np.nan\n",
    "df.iloc[4, 0] = np.nan\n",
    "df.iloc[3, 0] = np.nan\n",
    "df.iloc[8, 0] = np.nan\n",
    "df.iloc[6, 3] = np.nan\n",
    "df.iloc[4, 3] = np.nan"
   ]
  },
  {
   "cell_type": "code",
   "execution_count": 57,
   "metadata": {},
   "outputs": [
    {
     "data": {
      "text/html": [
       "<div>\n",
       "<style scoped>\n",
       "    .dataframe tbody tr th:only-of-type {\n",
       "        vertical-align: middle;\n",
       "    }\n",
       "\n",
       "    .dataframe tbody tr th {\n",
       "        vertical-align: top;\n",
       "    }\n",
       "\n",
       "    .dataframe thead th {\n",
       "        text-align: right;\n",
       "    }\n",
       "</style>\n",
       "<table border=\"1\" class=\"dataframe\">\n",
       "  <thead>\n",
       "    <tr style=\"text-align: right;\">\n",
       "      <th></th>\n",
       "      <th>coluna1</th>\n",
       "      <th>coluna2</th>\n",
       "      <th>coluna3</th>\n",
       "      <th>coluna4</th>\n",
       "    </tr>\n",
       "  </thead>\n",
       "  <tbody>\n",
       "    <tr>\n",
       "      <th>A</th>\n",
       "      <td>19.0</td>\n",
       "      <td>5.334578</td>\n",
       "      <td>42.255190796214734</td>\n",
       "      <td>17.274552</td>\n",
       "    </tr>\n",
       "    <tr>\n",
       "      <th>B</th>\n",
       "      <td>NaN</td>\n",
       "      <td>75.997894</td>\n",
       "      <td>66.28674306770573</td>\n",
       "      <td>50.555908</td>\n",
       "    </tr>\n",
       "    <tr>\n",
       "      <th>C</th>\n",
       "      <td>62.0</td>\n",
       "      <td>14.712186</td>\n",
       "      <td>3.429024060428465</td>\n",
       "      <td>97.323160</td>\n",
       "    </tr>\n",
       "    <tr>\n",
       "      <th>D</th>\n",
       "      <td>NaN</td>\n",
       "      <td>71.149910</td>\n",
       "      <td>35.51254489778491</td>\n",
       "      <td>28.286585</td>\n",
       "    </tr>\n",
       "    <tr>\n",
       "      <th>E</th>\n",
       "      <td>NaN</td>\n",
       "      <td>56.793323</td>\n",
       "      <td>NaN</td>\n",
       "      <td>NaN</td>\n",
       "    </tr>\n",
       "    <tr>\n",
       "      <th>F</th>\n",
       "      <td>12.0</td>\n",
       "      <td>83.181236</td>\n",
       "      <td>7.990770106266865</td>\n",
       "      <td>17.765918</td>\n",
       "    </tr>\n",
       "    <tr>\n",
       "      <th>G</th>\n",
       "      <td>21.0</td>\n",
       "      <td>77.891506</td>\n",
       "      <td>49.61628656373127</td>\n",
       "      <td>NaN</td>\n",
       "    </tr>\n",
       "    <tr>\n",
       "      <th>H</th>\n",
       "      <td>28.0</td>\n",
       "      <td>14.235639</td>\n",
       "      <td>61.72276021602391</td>\n",
       "      <td>36.772142</td>\n",
       "    </tr>\n",
       "    <tr>\n",
       "      <th>I</th>\n",
       "      <td>NaN</td>\n",
       "      <td>1.565151</td>\n",
       "      <td>69.06079187224358</td>\n",
       "      <td>NaN</td>\n",
       "    </tr>\n",
       "  </tbody>\n",
       "</table>\n",
       "</div>"
      ],
      "text/plain": [
       "   coluna1    coluna2             coluna3    coluna4\n",
       "A     19.0   5.334578  42.255190796214734  17.274552\n",
       "B      NaN  75.997894   66.28674306770573  50.555908\n",
       "C     62.0  14.712186   3.429024060428465  97.323160\n",
       "D      NaN  71.149910   35.51254489778491  28.286585\n",
       "E      NaN  56.793323                 NaN        NaN\n",
       "F     12.0  83.181236   7.990770106266865  17.765918\n",
       "G     21.0  77.891506   49.61628656373127        NaN\n",
       "H     28.0  14.235639   61.72276021602391  36.772142\n",
       "I      NaN   1.565151   69.06079187224358        NaN"
      ]
     },
     "execution_count": 57,
     "metadata": {},
     "output_type": "execute_result"
    }
   ],
   "source": [
    "# NaN = Not a Number\n",
    "df"
   ]
  },
  {
   "cell_type": "code",
   "execution_count": 64,
   "metadata": {},
   "outputs": [
    {
     "data": {
      "text/html": [
       "<div>\n",
       "<style scoped>\n",
       "    .dataframe tbody tr th:only-of-type {\n",
       "        vertical-align: middle;\n",
       "    }\n",
       "\n",
       "    .dataframe tbody tr th {\n",
       "        vertical-align: top;\n",
       "    }\n",
       "\n",
       "    .dataframe thead th {\n",
       "        text-align: right;\n",
       "    }\n",
       "</style>\n",
       "<table border=\"1\" class=\"dataframe\">\n",
       "  <thead>\n",
       "    <tr style=\"text-align: right;\">\n",
       "      <th></th>\n",
       "      <th>coluna1</th>\n",
       "      <th>coluna2</th>\n",
       "      <th>coluna3</th>\n",
       "      <th>coluna4</th>\n",
       "    </tr>\n",
       "  </thead>\n",
       "  <tbody>\n",
       "    <tr>\n",
       "      <th>A</th>\n",
       "      <td>False</td>\n",
       "      <td>False</td>\n",
       "      <td>False</td>\n",
       "      <td>False</td>\n",
       "    </tr>\n",
       "    <tr>\n",
       "      <th>B</th>\n",
       "      <td>True</td>\n",
       "      <td>False</td>\n",
       "      <td>False</td>\n",
       "      <td>False</td>\n",
       "    </tr>\n",
       "    <tr>\n",
       "      <th>C</th>\n",
       "      <td>False</td>\n",
       "      <td>False</td>\n",
       "      <td>False</td>\n",
       "      <td>False</td>\n",
       "    </tr>\n",
       "    <tr>\n",
       "      <th>D</th>\n",
       "      <td>True</td>\n",
       "      <td>False</td>\n",
       "      <td>False</td>\n",
       "      <td>False</td>\n",
       "    </tr>\n",
       "    <tr>\n",
       "      <th>E</th>\n",
       "      <td>True</td>\n",
       "      <td>False</td>\n",
       "      <td>True</td>\n",
       "      <td>True</td>\n",
       "    </tr>\n",
       "    <tr>\n",
       "      <th>F</th>\n",
       "      <td>False</td>\n",
       "      <td>False</td>\n",
       "      <td>False</td>\n",
       "      <td>False</td>\n",
       "    </tr>\n",
       "    <tr>\n",
       "      <th>G</th>\n",
       "      <td>False</td>\n",
       "      <td>False</td>\n",
       "      <td>False</td>\n",
       "      <td>True</td>\n",
       "    </tr>\n",
       "    <tr>\n",
       "      <th>H</th>\n",
       "      <td>False</td>\n",
       "      <td>False</td>\n",
       "      <td>False</td>\n",
       "      <td>False</td>\n",
       "    </tr>\n",
       "    <tr>\n",
       "      <th>I</th>\n",
       "      <td>True</td>\n",
       "      <td>False</td>\n",
       "      <td>False</td>\n",
       "      <td>True</td>\n",
       "    </tr>\n",
       "  </tbody>\n",
       "</table>\n",
       "</div>"
      ],
      "text/plain": [
       "   coluna1  coluna2  coluna3  coluna4\n",
       "A    False    False    False    False\n",
       "B     True    False    False    False\n",
       "C    False    False    False    False\n",
       "D     True    False    False    False\n",
       "E     True    False     True     True\n",
       "F    False    False    False    False\n",
       "G    False    False    False     True\n",
       "H    False    False    False    False\n",
       "I     True    False    False     True"
      ]
     },
     "execution_count": 64,
     "metadata": {},
     "output_type": "execute_result"
    }
   ],
   "source": [
    "# identificando valores faltantes\n",
    "df.isna()\n",
    "df.isnull()"
   ]
  },
  {
   "cell_type": "code",
   "execution_count": 66,
   "metadata": {},
   "outputs": [
    {
     "data": {
      "text/plain": [
       "A    False\n",
       "B     True\n",
       "C    False\n",
       "D     True\n",
       "E     True\n",
       "F    False\n",
       "G    False\n",
       "H    False\n",
       "I     True\n",
       "Name: coluna1, dtype: bool"
      ]
     },
     "execution_count": 66,
     "metadata": {},
     "output_type": "execute_result"
    }
   ],
   "source": [
    "# identificando apenas de uma coluna\n",
    "df.coluna1.isna()"
   ]
  },
  {
   "cell_type": "code",
   "execution_count": 71,
   "metadata": {},
   "outputs": [
    {
     "data": {
      "text/html": [
       "<div>\n",
       "<style scoped>\n",
       "    .dataframe tbody tr th:only-of-type {\n",
       "        vertical-align: middle;\n",
       "    }\n",
       "\n",
       "    .dataframe tbody tr th {\n",
       "        vertical-align: top;\n",
       "    }\n",
       "\n",
       "    .dataframe thead th {\n",
       "        text-align: right;\n",
       "    }\n",
       "</style>\n",
       "<table border=\"1\" class=\"dataframe\">\n",
       "  <thead>\n",
       "    <tr style=\"text-align: right;\">\n",
       "      <th></th>\n",
       "      <th>coluna1</th>\n",
       "      <th>coluna2</th>\n",
       "      <th>coluna3</th>\n",
       "      <th>coluna4</th>\n",
       "    </tr>\n",
       "  </thead>\n",
       "  <tbody>\n",
       "    <tr>\n",
       "      <th>B</th>\n",
       "      <td>NaN</td>\n",
       "      <td>75.997894</td>\n",
       "      <td>66.28674306770573</td>\n",
       "      <td>50.555908</td>\n",
       "    </tr>\n",
       "    <tr>\n",
       "      <th>D</th>\n",
       "      <td>NaN</td>\n",
       "      <td>71.149910</td>\n",
       "      <td>35.51254489778491</td>\n",
       "      <td>28.286585</td>\n",
       "    </tr>\n",
       "    <tr>\n",
       "      <th>E</th>\n",
       "      <td>NaN</td>\n",
       "      <td>56.793323</td>\n",
       "      <td>NaN</td>\n",
       "      <td>NaN</td>\n",
       "    </tr>\n",
       "    <tr>\n",
       "      <th>I</th>\n",
       "      <td>NaN</td>\n",
       "      <td>1.565151</td>\n",
       "      <td>69.06079187224358</td>\n",
       "      <td>NaN</td>\n",
       "    </tr>\n",
       "  </tbody>\n",
       "</table>\n",
       "</div>"
      ],
      "text/plain": [
       "   coluna1    coluna2            coluna3    coluna4\n",
       "B      NaN  75.997894  66.28674306770573  50.555908\n",
       "D      NaN  71.149910  35.51254489778491  28.286585\n",
       "E      NaN  56.793323                NaN        NaN\n",
       "I      NaN   1.565151  69.06079187224358        NaN"
      ]
     },
     "execution_count": 71,
     "metadata": {},
     "output_type": "execute_result"
    }
   ],
   "source": [
    "# trazer todas as linhas onde a coluna é NaN\n",
    "df[df.coluna1.isna()]"
   ]
  },
  {
   "cell_type": "code",
   "execution_count": 72,
   "metadata": {},
   "outputs": [
    {
     "data": {
      "text/html": [
       "<div>\n",
       "<style scoped>\n",
       "    .dataframe tbody tr th:only-of-type {\n",
       "        vertical-align: middle;\n",
       "    }\n",
       "\n",
       "    .dataframe tbody tr th {\n",
       "        vertical-align: top;\n",
       "    }\n",
       "\n",
       "    .dataframe thead th {\n",
       "        text-align: right;\n",
       "    }\n",
       "</style>\n",
       "<table border=\"1\" class=\"dataframe\">\n",
       "  <thead>\n",
       "    <tr style=\"text-align: right;\">\n",
       "      <th></th>\n",
       "      <th>coluna1</th>\n",
       "      <th>coluna2</th>\n",
       "      <th>coluna3</th>\n",
       "      <th>coluna4</th>\n",
       "    </tr>\n",
       "  </thead>\n",
       "  <tbody>\n",
       "    <tr>\n",
       "      <th>A</th>\n",
       "      <td>19.0</td>\n",
       "      <td>5.334578</td>\n",
       "      <td>42.255190796214734</td>\n",
       "      <td>17.274552</td>\n",
       "    </tr>\n",
       "    <tr>\n",
       "      <th>C</th>\n",
       "      <td>62.0</td>\n",
       "      <td>14.712186</td>\n",
       "      <td>3.429024060428465</td>\n",
       "      <td>97.323160</td>\n",
       "    </tr>\n",
       "    <tr>\n",
       "      <th>F</th>\n",
       "      <td>12.0</td>\n",
       "      <td>83.181236</td>\n",
       "      <td>7.990770106266865</td>\n",
       "      <td>17.765918</td>\n",
       "    </tr>\n",
       "    <tr>\n",
       "      <th>G</th>\n",
       "      <td>21.0</td>\n",
       "      <td>77.891506</td>\n",
       "      <td>49.61628656373127</td>\n",
       "      <td>NaN</td>\n",
       "    </tr>\n",
       "    <tr>\n",
       "      <th>H</th>\n",
       "      <td>28.0</td>\n",
       "      <td>14.235639</td>\n",
       "      <td>61.72276021602391</td>\n",
       "      <td>36.772142</td>\n",
       "    </tr>\n",
       "  </tbody>\n",
       "</table>\n",
       "</div>"
      ],
      "text/plain": [
       "   coluna1    coluna2             coluna3    coluna4\n",
       "A     19.0   5.334578  42.255190796214734  17.274552\n",
       "C     62.0  14.712186   3.429024060428465  97.323160\n",
       "F     12.0  83.181236   7.990770106266865  17.765918\n",
       "G     21.0  77.891506   49.61628656373127        NaN\n",
       "H     28.0  14.235639   61.72276021602391  36.772142"
      ]
     },
     "execution_count": 72,
     "metadata": {},
     "output_type": "execute_result"
    }
   ],
   "source": [
    "# trazer todas as linhas onde a coluna não é NaN\n",
    "df[~df.coluna1.isna()]"
   ]
  },
  {
   "cell_type": "code",
   "execution_count": 75,
   "metadata": {},
   "outputs": [
    {
     "data": {
      "text/plain": [
       "4"
      ]
     },
     "execution_count": 75,
     "metadata": {},
     "output_type": "execute_result"
    }
   ],
   "source": [
    "# identificando a quantidade de valores NaN em uma coluna\n",
    "df.coluna1.isna().sum()"
   ]
  },
  {
   "cell_type": "code",
   "execution_count": 77,
   "metadata": {},
   "outputs": [
    {
     "data": {
      "text/plain": [
       "coluna1    4\n",
       "coluna2    0\n",
       "coluna3    1\n",
       "coluna4    3\n",
       "dtype: int64"
      ]
     },
     "execution_count": 77,
     "metadata": {},
     "output_type": "execute_result"
    }
   ],
   "source": [
    "# identificando a quantidade de valores NaN no dataframe\n",
    "# true = 1\n",
    "# false = 0\n",
    "df.isna().sum()"
   ]
  },
  {
   "cell_type": "code",
   "execution_count": 88,
   "metadata": {},
   "outputs": [
    {
     "data": {
      "text/plain": [
       "coluna1    0.444444\n",
       "coluna2    0.000000\n",
       "coluna3    0.111111\n",
       "coluna4    0.333333\n",
       "dtype: float64"
      ]
     },
     "execution_count": 88,
     "metadata": {},
     "output_type": "execute_result"
    }
   ],
   "source": [
    "# len(df.index) -> quantidade de linhas de um dataframe\n",
    "# cáculo para saber a porcentagem de valores faltantes em cada coluna\n",
    "\n",
    "df.isna().sum() / len(df.index)"
   ]
  },
  {
   "cell_type": "markdown",
   "metadata": {},
   "source": [
    "### Tratando dados ausentes"
   ]
  },
  {
   "cell_type": "code",
   "execution_count": 90,
   "metadata": {},
   "outputs": [
    {
     "data": {
      "text/plain": [
       "A    19.0\n",
       "B     NaN\n",
       "C    62.0\n",
       "D     NaN\n",
       "E     NaN\n",
       "F    12.0\n",
       "G    21.0\n",
       "H    28.0\n",
       "I     NaN\n",
       "Name: coluna1, dtype: float64"
      ]
     },
     "execution_count": 90,
     "metadata": {},
     "output_type": "execute_result"
    }
   ],
   "source": [
    "df['coluna1']"
   ]
  },
  {
   "cell_type": "code",
   "execution_count": 95,
   "metadata": {},
   "outputs": [
    {
     "data": {
      "text/plain": [
       "A    19.0\n",
       "B     0.0\n",
       "C    62.0\n",
       "D     0.0\n",
       "E     0.0\n",
       "F    12.0\n",
       "G    21.0\n",
       "H    28.0\n",
       "I     0.0\n",
       "Name: coluna1, dtype: float64"
      ]
     },
     "execution_count": 95,
     "metadata": {},
     "output_type": "execute_result"
    }
   ],
   "source": [
    "# subistituindo por zero\n",
    "\n",
    "df['coluna1'].fillna(0)"
   ]
  },
  {
   "cell_type": "code",
   "execution_count": 100,
   "metadata": {},
   "outputs": [
    {
     "data": {
      "text/plain": [
       "A    19.0\n",
       "B    28.4\n",
       "C    62.0\n",
       "D    28.4\n",
       "E    28.4\n",
       "F    12.0\n",
       "G    21.0\n",
       "H    28.0\n",
       "I    28.4\n",
       "Name: coluna1, dtype: float64"
      ]
     },
     "execution_count": 100,
     "metadata": {},
     "output_type": "execute_result"
    }
   ],
   "source": [
    "# subistituindo pela media\n",
    "mean = df['coluna1'].mean() # média\n",
    "\n",
    "df['coluna1'].fillna(mean)"
   ]
  },
  {
   "cell_type": "code",
   "execution_count": 109,
   "metadata": {},
   "outputs": [
    {
     "data": {
      "text/plain": [
       "A    19.0\n",
       "B    21.0\n",
       "C    62.0\n",
       "D    21.0\n",
       "E    21.0\n",
       "F    12.0\n",
       "G    21.0\n",
       "H    28.0\n",
       "I    21.0\n",
       "Name: coluna1, dtype: float64"
      ]
     },
     "execution_count": 109,
     "metadata": {},
     "output_type": "execute_result"
    }
   ],
   "source": [
    "# subistituindo pela mediana\n",
    "\n",
    "median = df['coluna1'].sort_values().median()\n",
    "\n",
    "df['coluna1'].fillna(median)"
   ]
  },
  {
   "cell_type": "markdown",
   "metadata": {},
   "source": [
    "### Subistituindo usando ffill e o bfill"
   ]
  },
  {
   "cell_type": "code",
   "execution_count": 113,
   "metadata": {},
   "outputs": [
    {
     "data": {
      "text/plain": [
       "A    19.0\n",
       "B     NaN\n",
       "C    62.0\n",
       "D     NaN\n",
       "E     NaN\n",
       "F    12.0\n",
       "G    21.0\n",
       "H    28.0\n",
       "I     NaN\n",
       "Name: coluna1, dtype: float64"
      ]
     },
     "execution_count": 113,
     "metadata": {},
     "output_type": "execute_result"
    }
   ],
   "source": [
    "df['coluna1']"
   ]
  },
  {
   "cell_type": "code",
   "execution_count": 115,
   "metadata": {},
   "outputs": [
    {
     "data": {
      "text/plain": [
       "A    19.0\n",
       "B    19.0\n",
       "C    62.0\n",
       "D    62.0\n",
       "E    62.0\n",
       "F    12.0\n",
       "G    21.0\n",
       "H    28.0\n",
       "I    28.0\n",
       "Name: coluna1, dtype: float64"
      ]
     },
     "execution_count": 115,
     "metadata": {},
     "output_type": "execute_result"
    }
   ],
   "source": [
    "# pega o valor de cima e aplica para os de baixo\n",
    "df['coluna1'].fillna(method='ffill')"
   ]
  },
  {
   "cell_type": "code",
   "execution_count": 116,
   "metadata": {},
   "outputs": [
    {
     "data": {
      "text/plain": [
       "A    19.0\n",
       "B    62.0\n",
       "C    62.0\n",
       "D    12.0\n",
       "E    12.0\n",
       "F    12.0\n",
       "G    21.0\n",
       "H    28.0\n",
       "I     NaN\n",
       "Name: coluna1, dtype: float64"
      ]
     },
     "execution_count": 116,
     "metadata": {},
     "output_type": "execute_result"
    }
   ],
   "source": [
    "# pega o valor de baixo e aplica para os de cima\n",
    "df['coluna1'].fillna(method='bfill')"
   ]
  },
  {
   "cell_type": "markdown",
   "metadata": {},
   "source": [
    "### Dropando as linhas com missing"
   ]
  },
  {
   "cell_type": "code",
   "execution_count": 120,
   "metadata": {},
   "outputs": [
    {
     "data": {
      "text/html": [
       "<div>\n",
       "<style scoped>\n",
       "    .dataframe tbody tr th:only-of-type {\n",
       "        vertical-align: middle;\n",
       "    }\n",
       "\n",
       "    .dataframe tbody tr th {\n",
       "        vertical-align: top;\n",
       "    }\n",
       "\n",
       "    .dataframe thead th {\n",
       "        text-align: right;\n",
       "    }\n",
       "</style>\n",
       "<table border=\"1\" class=\"dataframe\">\n",
       "  <thead>\n",
       "    <tr style=\"text-align: right;\">\n",
       "      <th></th>\n",
       "      <th>coluna1</th>\n",
       "      <th>coluna2</th>\n",
       "      <th>coluna3</th>\n",
       "      <th>coluna4</th>\n",
       "    </tr>\n",
       "  </thead>\n",
       "  <tbody>\n",
       "    <tr>\n",
       "      <th>A</th>\n",
       "      <td>19.0</td>\n",
       "      <td>5.334578</td>\n",
       "      <td>42.255190796214734</td>\n",
       "      <td>17.274552</td>\n",
       "    </tr>\n",
       "    <tr>\n",
       "      <th>C</th>\n",
       "      <td>62.0</td>\n",
       "      <td>14.712186</td>\n",
       "      <td>3.429024060428465</td>\n",
       "      <td>97.323160</td>\n",
       "    </tr>\n",
       "    <tr>\n",
       "      <th>F</th>\n",
       "      <td>12.0</td>\n",
       "      <td>83.181236</td>\n",
       "      <td>7.990770106266865</td>\n",
       "      <td>17.765918</td>\n",
       "    </tr>\n",
       "    <tr>\n",
       "      <th>H</th>\n",
       "      <td>28.0</td>\n",
       "      <td>14.235639</td>\n",
       "      <td>61.72276021602391</td>\n",
       "      <td>36.772142</td>\n",
       "    </tr>\n",
       "  </tbody>\n",
       "</table>\n",
       "</div>"
      ],
      "text/plain": [
       "   coluna1    coluna2             coluna3    coluna4\n",
       "A     19.0   5.334578  42.255190796214734  17.274552\n",
       "C     62.0  14.712186   3.429024060428465  97.323160\n",
       "F     12.0  83.181236   7.990770106266865  17.765918\n",
       "H     28.0  14.235639   61.72276021602391  36.772142"
      ]
     },
     "execution_count": 120,
     "metadata": {},
     "output_type": "execute_result"
    }
   ],
   "source": [
    "# dropando todas as linhas que contem valores NaN\n",
    "df.dropna()"
   ]
  },
  {
   "cell_type": "markdown",
   "metadata": {},
   "source": [
    "### Dados Duplicados"
   ]
  },
  {
   "cell_type": "code",
   "execution_count": 125,
   "metadata": {},
   "outputs": [
    {
     "name": "stderr",
     "output_type": "stream",
     "text": [
      "/var/folders/wh/_2xtz5kd2knd10y0m8tmqhrc0000gp/T/ipykernel_53560/400415149.py:3: FutureWarning: The frame.append method is deprecated and will be removed from pandas in a future version. Use pandas.concat instead.\n",
      "  df_dup = df.append(df.loc['D': 'H',:]).sort_index()\n"
     ]
    },
    {
     "data": {
      "text/html": [
       "<div>\n",
       "<style scoped>\n",
       "    .dataframe tbody tr th:only-of-type {\n",
       "        vertical-align: middle;\n",
       "    }\n",
       "\n",
       "    .dataframe tbody tr th {\n",
       "        vertical-align: top;\n",
       "    }\n",
       "\n",
       "    .dataframe thead th {\n",
       "        text-align: right;\n",
       "    }\n",
       "</style>\n",
       "<table border=\"1\" class=\"dataframe\">\n",
       "  <thead>\n",
       "    <tr style=\"text-align: right;\">\n",
       "      <th></th>\n",
       "      <th>coluna1</th>\n",
       "      <th>coluna2</th>\n",
       "      <th>coluna3</th>\n",
       "      <th>coluna4</th>\n",
       "    </tr>\n",
       "  </thead>\n",
       "  <tbody>\n",
       "    <tr>\n",
       "      <th>A</th>\n",
       "      <td>19.0</td>\n",
       "      <td>5.334578</td>\n",
       "      <td>42.255190796214734</td>\n",
       "      <td>17.274552</td>\n",
       "    </tr>\n",
       "    <tr>\n",
       "      <th>B</th>\n",
       "      <td>NaN</td>\n",
       "      <td>75.997894</td>\n",
       "      <td>66.28674306770573</td>\n",
       "      <td>50.555908</td>\n",
       "    </tr>\n",
       "    <tr>\n",
       "      <th>C</th>\n",
       "      <td>62.0</td>\n",
       "      <td>14.712186</td>\n",
       "      <td>3.429024060428465</td>\n",
       "      <td>97.323160</td>\n",
       "    </tr>\n",
       "    <tr>\n",
       "      <th>D</th>\n",
       "      <td>NaN</td>\n",
       "      <td>71.149910</td>\n",
       "      <td>35.51254489778491</td>\n",
       "      <td>28.286585</td>\n",
       "    </tr>\n",
       "    <tr>\n",
       "      <th>D</th>\n",
       "      <td>NaN</td>\n",
       "      <td>71.149910</td>\n",
       "      <td>35.51254489778491</td>\n",
       "      <td>28.286585</td>\n",
       "    </tr>\n",
       "    <tr>\n",
       "      <th>E</th>\n",
       "      <td>NaN</td>\n",
       "      <td>56.793323</td>\n",
       "      <td>NaN</td>\n",
       "      <td>NaN</td>\n",
       "    </tr>\n",
       "    <tr>\n",
       "      <th>E</th>\n",
       "      <td>NaN</td>\n",
       "      <td>56.793323</td>\n",
       "      <td>NaN</td>\n",
       "      <td>NaN</td>\n",
       "    </tr>\n",
       "    <tr>\n",
       "      <th>F</th>\n",
       "      <td>12.0</td>\n",
       "      <td>83.181236</td>\n",
       "      <td>7.990770106266865</td>\n",
       "      <td>17.765918</td>\n",
       "    </tr>\n",
       "    <tr>\n",
       "      <th>F</th>\n",
       "      <td>12.0</td>\n",
       "      <td>83.181236</td>\n",
       "      <td>7.990770106266865</td>\n",
       "      <td>17.765918</td>\n",
       "    </tr>\n",
       "    <tr>\n",
       "      <th>G</th>\n",
       "      <td>21.0</td>\n",
       "      <td>77.891506</td>\n",
       "      <td>49.61628656373127</td>\n",
       "      <td>NaN</td>\n",
       "    </tr>\n",
       "    <tr>\n",
       "      <th>G</th>\n",
       "      <td>21.0</td>\n",
       "      <td>77.891506</td>\n",
       "      <td>49.61628656373127</td>\n",
       "      <td>NaN</td>\n",
       "    </tr>\n",
       "    <tr>\n",
       "      <th>H</th>\n",
       "      <td>28.0</td>\n",
       "      <td>14.235639</td>\n",
       "      <td>61.72276021602391</td>\n",
       "      <td>36.772142</td>\n",
       "    </tr>\n",
       "    <tr>\n",
       "      <th>H</th>\n",
       "      <td>28.0</td>\n",
       "      <td>14.235639</td>\n",
       "      <td>61.72276021602391</td>\n",
       "      <td>36.772142</td>\n",
       "    </tr>\n",
       "    <tr>\n",
       "      <th>I</th>\n",
       "      <td>NaN</td>\n",
       "      <td>1.565151</td>\n",
       "      <td>69.06079187224358</td>\n",
       "      <td>NaN</td>\n",
       "    </tr>\n",
       "  </tbody>\n",
       "</table>\n",
       "</div>"
      ],
      "text/plain": [
       "   coluna1    coluna2             coluna3    coluna4\n",
       "A     19.0   5.334578  42.255190796214734  17.274552\n",
       "B      NaN  75.997894   66.28674306770573  50.555908\n",
       "C     62.0  14.712186   3.429024060428465  97.323160\n",
       "D      NaN  71.149910   35.51254489778491  28.286585\n",
       "D      NaN  71.149910   35.51254489778491  28.286585\n",
       "E      NaN  56.793323                 NaN        NaN\n",
       "E      NaN  56.793323                 NaN        NaN\n",
       "F     12.0  83.181236   7.990770106266865  17.765918\n",
       "F     12.0  83.181236   7.990770106266865  17.765918\n",
       "G     21.0  77.891506   49.61628656373127        NaN\n",
       "G     21.0  77.891506   49.61628656373127        NaN\n",
       "H     28.0  14.235639   61.72276021602391  36.772142\n",
       "H     28.0  14.235639   61.72276021602391  36.772142\n",
       "I      NaN   1.565151   69.06079187224358        NaN"
      ]
     },
     "execution_count": 125,
     "metadata": {},
     "output_type": "execute_result"
    }
   ],
   "source": [
    "# criando um dataframe com dados duplicados\n",
    "\n",
    "df_dup = df.append(df.loc['D': 'H',:]).sort_index()\n",
    "df_dup"
   ]
  },
  {
   "cell_type": "code",
   "execution_count": 128,
   "metadata": {},
   "outputs": [
    {
     "data": {
      "text/html": [
       "<div>\n",
       "<style scoped>\n",
       "    .dataframe tbody tr th:only-of-type {\n",
       "        vertical-align: middle;\n",
       "    }\n",
       "\n",
       "    .dataframe tbody tr th {\n",
       "        vertical-align: top;\n",
       "    }\n",
       "\n",
       "    .dataframe thead th {\n",
       "        text-align: right;\n",
       "    }\n",
       "</style>\n",
       "<table border=\"1\" class=\"dataframe\">\n",
       "  <thead>\n",
       "    <tr style=\"text-align: right;\">\n",
       "      <th></th>\n",
       "      <th>coluna1</th>\n",
       "      <th>coluna2</th>\n",
       "      <th>coluna3</th>\n",
       "      <th>coluna4</th>\n",
       "    </tr>\n",
       "  </thead>\n",
       "  <tbody>\n",
       "    <tr>\n",
       "      <th>A</th>\n",
       "      <td>19.0</td>\n",
       "      <td>5.334578</td>\n",
       "      <td>42.255190796214734</td>\n",
       "      <td>17.274552</td>\n",
       "    </tr>\n",
       "    <tr>\n",
       "      <th>B</th>\n",
       "      <td>NaN</td>\n",
       "      <td>75.997894</td>\n",
       "      <td>66.28674306770573</td>\n",
       "      <td>50.555908</td>\n",
       "    </tr>\n",
       "    <tr>\n",
       "      <th>C</th>\n",
       "      <td>62.0</td>\n",
       "      <td>14.712186</td>\n",
       "      <td>3.429024060428465</td>\n",
       "      <td>97.323160</td>\n",
       "    </tr>\n",
       "    <tr>\n",
       "      <th>D</th>\n",
       "      <td>NaN</td>\n",
       "      <td>71.149910</td>\n",
       "      <td>35.51254489778491</td>\n",
       "      <td>28.286585</td>\n",
       "    </tr>\n",
       "    <tr>\n",
       "      <th>E</th>\n",
       "      <td>NaN</td>\n",
       "      <td>56.793323</td>\n",
       "      <td>NaN</td>\n",
       "      <td>NaN</td>\n",
       "    </tr>\n",
       "    <tr>\n",
       "      <th>F</th>\n",
       "      <td>12.0</td>\n",
       "      <td>83.181236</td>\n",
       "      <td>7.990770106266865</td>\n",
       "      <td>17.765918</td>\n",
       "    </tr>\n",
       "    <tr>\n",
       "      <th>G</th>\n",
       "      <td>21.0</td>\n",
       "      <td>77.891506</td>\n",
       "      <td>49.61628656373127</td>\n",
       "      <td>NaN</td>\n",
       "    </tr>\n",
       "    <tr>\n",
       "      <th>H</th>\n",
       "      <td>28.0</td>\n",
       "      <td>14.235639</td>\n",
       "      <td>61.72276021602391</td>\n",
       "      <td>36.772142</td>\n",
       "    </tr>\n",
       "    <tr>\n",
       "      <th>I</th>\n",
       "      <td>NaN</td>\n",
       "      <td>1.565151</td>\n",
       "      <td>69.06079187224358</td>\n",
       "      <td>NaN</td>\n",
       "    </tr>\n",
       "  </tbody>\n",
       "</table>\n",
       "</div>"
      ],
      "text/plain": [
       "   coluna1    coluna2             coluna3    coluna4\n",
       "A     19.0   5.334578  42.255190796214734  17.274552\n",
       "B      NaN  75.997894   66.28674306770573  50.555908\n",
       "C     62.0  14.712186   3.429024060428465  97.323160\n",
       "D      NaN  71.149910   35.51254489778491  28.286585\n",
       "E      NaN  56.793323                 NaN        NaN\n",
       "F     12.0  83.181236   7.990770106266865  17.765918\n",
       "G     21.0  77.891506   49.61628656373127        NaN\n",
       "H     28.0  14.235639   61.72276021602391  36.772142\n",
       "I      NaN   1.565151   69.06079187224358        NaN"
      ]
     },
     "execution_count": 128,
     "metadata": {},
     "output_type": "execute_result"
    }
   ],
   "source": [
    "# dropando todas as linhas duplicadas\n",
    "df_dup.drop_duplicates()"
   ]
  },
  {
   "cell_type": "code",
   "execution_count": 130,
   "metadata": {},
   "outputs": [
    {
     "data": {
      "text/html": [
       "<div>\n",
       "<style scoped>\n",
       "    .dataframe tbody tr th:only-of-type {\n",
       "        vertical-align: middle;\n",
       "    }\n",
       "\n",
       "    .dataframe tbody tr th {\n",
       "        vertical-align: top;\n",
       "    }\n",
       "\n",
       "    .dataframe thead th {\n",
       "        text-align: right;\n",
       "    }\n",
       "</style>\n",
       "<table border=\"1\" class=\"dataframe\">\n",
       "  <thead>\n",
       "    <tr style=\"text-align: right;\">\n",
       "      <th></th>\n",
       "      <th>coluna1</th>\n",
       "      <th>coluna2</th>\n",
       "      <th>coluna3</th>\n",
       "      <th>coluna4</th>\n",
       "    </tr>\n",
       "  </thead>\n",
       "  <tbody>\n",
       "    <tr>\n",
       "      <th>A</th>\n",
       "      <td>19.0</td>\n",
       "      <td>5.334578</td>\n",
       "      <td>42.255190796214734</td>\n",
       "      <td>17.274552</td>\n",
       "    </tr>\n",
       "    <tr>\n",
       "      <th>B</th>\n",
       "      <td>NaN</td>\n",
       "      <td>75.997894</td>\n",
       "      <td>66.28674306770573</td>\n",
       "      <td>50.555908</td>\n",
       "    </tr>\n",
       "    <tr>\n",
       "      <th>C</th>\n",
       "      <td>62.0</td>\n",
       "      <td>14.712186</td>\n",
       "      <td>3.429024060428465</td>\n",
       "      <td>97.323160</td>\n",
       "    </tr>\n",
       "    <tr>\n",
       "      <th>F</th>\n",
       "      <td>12.0</td>\n",
       "      <td>83.181236</td>\n",
       "      <td>7.990770106266865</td>\n",
       "      <td>17.765918</td>\n",
       "    </tr>\n",
       "    <tr>\n",
       "      <th>G</th>\n",
       "      <td>21.0</td>\n",
       "      <td>77.891506</td>\n",
       "      <td>49.61628656373127</td>\n",
       "      <td>NaN</td>\n",
       "    </tr>\n",
       "    <tr>\n",
       "      <th>H</th>\n",
       "      <td>28.0</td>\n",
       "      <td>14.235639</td>\n",
       "      <td>61.72276021602391</td>\n",
       "      <td>36.772142</td>\n",
       "    </tr>\n",
       "  </tbody>\n",
       "</table>\n",
       "</div>"
      ],
      "text/plain": [
       "   coluna1    coluna2             coluna3    coluna4\n",
       "A     19.0   5.334578  42.255190796214734  17.274552\n",
       "B      NaN  75.997894   66.28674306770573  50.555908\n",
       "C     62.0  14.712186   3.429024060428465  97.323160\n",
       "F     12.0  83.181236   7.990770106266865  17.765918\n",
       "G     21.0  77.891506   49.61628656373127        NaN\n",
       "H     28.0  14.235639   61.72276021602391  36.772142"
      ]
     },
     "execution_count": 130,
     "metadata": {},
     "output_type": "execute_result"
    }
   ],
   "source": [
    "# dropando valores duplicados por analisando uma coluna\n",
    "df_dup.drop_duplicates(subset=['coluna1'])"
   ]
  },
  {
   "cell_type": "markdown",
   "metadata": {},
   "source": [
    "### Mapeamentos (map)"
   ]
  },
  {
   "cell_type": "code",
   "execution_count": 144,
   "metadata": {},
   "outputs": [],
   "source": [
    "# lista randomica de 0 ou 1 de quinze digitos\n",
    "\n",
    "rand_list = [np.random.randint(0, 2) for i in range(0, 15)]"
   ]
  },
  {
   "cell_type": "code",
   "execution_count": 145,
   "metadata": {},
   "outputs": [
    {
     "data": {
      "text/plain": [
       "0     1\n",
       "1     1\n",
       "2     1\n",
       "3     1\n",
       "4     1\n",
       "5     0\n",
       "6     1\n",
       "7     1\n",
       "8     0\n",
       "9     0\n",
       "10    1\n",
       "11    0\n",
       "12    1\n",
       "13    0\n",
       "14    0\n",
       "dtype: int64"
      ]
     },
     "execution_count": 145,
     "metadata": {},
     "output_type": "execute_result"
    }
   ],
   "source": [
    "genero = pd.Series(rand_list)\n",
    "genero"
   ]
  },
  {
   "cell_type": "code",
   "execution_count": 146,
   "metadata": {},
   "outputs": [
    {
     "data": {
      "text/plain": [
       "0      Feminino\n",
       "1      Feminino\n",
       "2      Feminino\n",
       "3      Feminino\n",
       "4      Feminino\n",
       "5     Masculino\n",
       "6      Feminino\n",
       "7      Feminino\n",
       "8     Masculino\n",
       "9     Masculino\n",
       "10     Feminino\n",
       "11    Masculino\n",
       "12     Feminino\n",
       "13    Masculino\n",
       "14    Masculino\n",
       "dtype: object"
      ]
     },
     "execution_count": 146,
     "metadata": {},
     "output_type": "execute_result"
    }
   ],
   "source": [
    "# passa um dicionario para a série e troca os valores mapeados para o valor escolhido\n",
    "genero.map({1: 'Feminino', 0: 'Masculino'})"
   ]
  },
  {
   "cell_type": "markdown",
   "metadata": {},
   "source": [
    "## 5.2 Renomeando indices e colunas"
   ]
  },
  {
   "cell_type": "code",
   "execution_count": null,
   "metadata": {},
   "outputs": [],
   "source": []
  }
 ],
 "metadata": {
  "kernelspec": {
   "display_name": "Python 3.10.5 64-bit",
   "language": "python",
   "name": "python3"
  },
  "language_info": {
   "codemirror_mode": {
    "name": "ipython",
    "version": 3
   },
   "file_extension": ".py",
   "mimetype": "text/x-python",
   "name": "python",
   "nbconvert_exporter": "python",
   "pygments_lexer": "ipython3",
   "version": "3.10.5"
  },
  "orig_nbformat": 4,
  "vscode": {
   "interpreter": {
    "hash": "aee8b7b246df8f9039afb4144a1f6fd8d2ca17a180786b69acc140d282b71a49"
   }
  }
 },
 "nbformat": 4,
 "nbformat_minor": 2
}
