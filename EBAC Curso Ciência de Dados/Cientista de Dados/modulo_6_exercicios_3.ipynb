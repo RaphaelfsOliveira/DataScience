{
 "cells": [
  {
   "cell_type": "markdown",
   "metadata": {},
   "source": [
    "# Módulo 6 tarefa 3\n",
    "\n",
    "#### 1) A base 'sinasc_RO_2019.csv' contém dados do sistema de nascidos vivos do DataSUS, cujo dicionário de dados está no arquivo 'Estrutura_SINASC_para_CD.pdf'. Carregue esse arquivo."
   ]
  },
  {
   "cell_type": "code",
   "execution_count": 1,
   "metadata": {},
   "outputs": [],
   "source": [
    "import pandas as pd\n",
    "import matplotlib.pyplot as plt\n",
    "import numpy as np\n",
    "import seaborn as sns\n",
    "\n",
    "# %matplotlib inline\n",
    "# %matplotlib notebook"
   ]
  },
  {
   "cell_type": "code",
   "execution_count": 2,
   "metadata": {},
   "outputs": [
    {
     "name": "stderr",
     "output_type": "stream",
     "text": [
      "/var/folders/wh/_2xtz5kd2knd10y0m8tmqhrc0000gp/T/ipykernel_49480/3165088887.py:2: DtypeWarning: Columns (32) have mixed types. Specify dtype option on import or set low_memory=False.\n",
      "  df = pd.read_csv('./input/SINASC_2019.csv', sep=';')\n"
     ]
    }
   ],
   "source": [
    "# df = pd.read_csv('./SINASC_2019.csv', sep=';')\n",
    "df = pd.read_csv('./input/SINASC_2019.csv', sep=';')"
   ]
  },
  {
   "cell_type": "code",
   "execution_count": 5,
   "metadata": {},
   "outputs": [
    {
     "data": {
      "text/html": [
       "<div>\n",
       "<style scoped>\n",
       "    .dataframe tbody tr th:only-of-type {\n",
       "        vertical-align: middle;\n",
       "    }\n",
       "\n",
       "    .dataframe tbody tr th {\n",
       "        vertical-align: top;\n",
       "    }\n",
       "\n",
       "    .dataframe thead th {\n",
       "        text-align: right;\n",
       "    }\n",
       "</style>\n",
       "<table border=\"1\" class=\"dataframe\">\n",
       "  <thead>\n",
       "    <tr style=\"text-align: right;\">\n",
       "      <th></th>\n",
       "      <th>ORIGEM</th>\n",
       "      <th>CODESTAB</th>\n",
       "      <th>CODMUNNASC</th>\n",
       "      <th>LOCNASC</th>\n",
       "      <th>IDADEMAE</th>\n",
       "      <th>ESTCIVMAE</th>\n",
       "      <th>ESCMAE</th>\n",
       "      <th>CODOCUPMAE</th>\n",
       "      <th>QTDFILVIVO</th>\n",
       "      <th>QTDFILMORT</th>\n",
       "      <th>...</th>\n",
       "      <th>TPDOCRESP</th>\n",
       "      <th>DTDECLARAC</th>\n",
       "      <th>ESCMAEAGR1</th>\n",
       "      <th>STDNEPIDEM</th>\n",
       "      <th>STDNNOVA</th>\n",
       "      <th>CODPAISRES</th>\n",
       "      <th>TPROBSON</th>\n",
       "      <th>PARIDADE</th>\n",
       "      <th>KOTELCHUCK</th>\n",
       "      <th>CONTADOR</th>\n",
       "    </tr>\n",
       "  </thead>\n",
       "  <tbody>\n",
       "    <tr>\n",
       "      <th>0</th>\n",
       "      <td>1</td>\n",
       "      <td>2515504.0</td>\n",
       "      <td>110002</td>\n",
       "      <td>1</td>\n",
       "      <td>31.0</td>\n",
       "      <td>2.0</td>\n",
       "      <td>5.0</td>\n",
       "      <td>999992.0</td>\n",
       "      <td>1.0</td>\n",
       "      <td>0.0</td>\n",
       "      <td>...</td>\n",
       "      <td>0.0</td>\n",
       "      <td>NaN</td>\n",
       "      <td>8.0</td>\n",
       "      <td>0.0</td>\n",
       "      <td>1</td>\n",
       "      <td>1.0</td>\n",
       "      <td>5</td>\n",
       "      <td>1</td>\n",
       "      <td>5</td>\n",
       "      <td>1018</td>\n",
       "    </tr>\n",
       "    <tr>\n",
       "      <th>1</th>\n",
       "      <td>1</td>\n",
       "      <td>2516292.0</td>\n",
       "      <td>110015</td>\n",
       "      <td>1</td>\n",
       "      <td>34.0</td>\n",
       "      <td>4.0</td>\n",
       "      <td>4.0</td>\n",
       "      <td>621005.0</td>\n",
       "      <td>1.0</td>\n",
       "      <td>0.0</td>\n",
       "      <td>...</td>\n",
       "      <td>3.0</td>\n",
       "      <td>27042019.0</td>\n",
       "      <td>12.0</td>\n",
       "      <td>0.0</td>\n",
       "      <td>1</td>\n",
       "      <td>1.0</td>\n",
       "      <td>5</td>\n",
       "      <td>1</td>\n",
       "      <td>5</td>\n",
       "      <td>5430</td>\n",
       "    </tr>\n",
       "    <tr>\n",
       "      <th>2</th>\n",
       "      <td>1</td>\n",
       "      <td>5618347.0</td>\n",
       "      <td>110020</td>\n",
       "      <td>1</td>\n",
       "      <td>35.0</td>\n",
       "      <td>2.0</td>\n",
       "      <td>4.0</td>\n",
       "      <td>621005.0</td>\n",
       "      <td>1.0</td>\n",
       "      <td>0.0</td>\n",
       "      <td>...</td>\n",
       "      <td>3.0</td>\n",
       "      <td>26012019.0</td>\n",
       "      <td>12.0</td>\n",
       "      <td>0.0</td>\n",
       "      <td>1</td>\n",
       "      <td>1.0</td>\n",
       "      <td>4</td>\n",
       "      <td>1</td>\n",
       "      <td>5</td>\n",
       "      <td>6228</td>\n",
       "    </tr>\n",
       "    <tr>\n",
       "      <th>3</th>\n",
       "      <td>1</td>\n",
       "      <td>5618347.0</td>\n",
       "      <td>110020</td>\n",
       "      <td>1</td>\n",
       "      <td>26.0</td>\n",
       "      <td>5.0</td>\n",
       "      <td>5.0</td>\n",
       "      <td>NaN</td>\n",
       "      <td>1.0</td>\n",
       "      <td>NaN</td>\n",
       "      <td>...</td>\n",
       "      <td>3.0</td>\n",
       "      <td>2032019.0</td>\n",
       "      <td>7.0</td>\n",
       "      <td>0.0</td>\n",
       "      <td>1</td>\n",
       "      <td>1.0</td>\n",
       "      <td>5</td>\n",
       "      <td>1</td>\n",
       "      <td>4</td>\n",
       "      <td>7059</td>\n",
       "    </tr>\n",
       "    <tr>\n",
       "      <th>4</th>\n",
       "      <td>1</td>\n",
       "      <td>5618347.0</td>\n",
       "      <td>110020</td>\n",
       "      <td>1</td>\n",
       "      <td>23.0</td>\n",
       "      <td>5.0</td>\n",
       "      <td>3.0</td>\n",
       "      <td>999992.0</td>\n",
       "      <td>4.0</td>\n",
       "      <td>0.0</td>\n",
       "      <td>...</td>\n",
       "      <td>3.0</td>\n",
       "      <td>30032019.0</td>\n",
       "      <td>2.0</td>\n",
       "      <td>0.0</td>\n",
       "      <td>1</td>\n",
       "      <td>1.0</td>\n",
       "      <td>3</td>\n",
       "      <td>1</td>\n",
       "      <td>2</td>\n",
       "      <td>7284</td>\n",
       "    </tr>\n",
       "  </tbody>\n",
       "</table>\n",
       "<p>5 rows × 61 columns</p>\n",
       "</div>"
      ],
      "text/plain": [
       "   ORIGEM   CODESTAB  CODMUNNASC  LOCNASC  IDADEMAE  ESTCIVMAE  ESCMAE  \\\n",
       "0       1  2515504.0      110002        1      31.0        2.0     5.0   \n",
       "1       1  2516292.0      110015        1      34.0        4.0     4.0   \n",
       "2       1  5618347.0      110020        1      35.0        2.0     4.0   \n",
       "3       1  5618347.0      110020        1      26.0        5.0     5.0   \n",
       "4       1  5618347.0      110020        1      23.0        5.0     3.0   \n",
       "\n",
       "   CODOCUPMAE  QTDFILVIVO  QTDFILMORT  ...  TPDOCRESP  DTDECLARAC  ESCMAEAGR1  \\\n",
       "0    999992.0         1.0         0.0  ...        0.0         NaN         8.0   \n",
       "1    621005.0         1.0         0.0  ...        3.0  27042019.0        12.0   \n",
       "2    621005.0         1.0         0.0  ...        3.0  26012019.0        12.0   \n",
       "3         NaN         1.0         NaN  ...        3.0   2032019.0         7.0   \n",
       "4    999992.0         4.0         0.0  ...        3.0  30032019.0         2.0   \n",
       "\n",
       "   STDNEPIDEM  STDNNOVA  CODPAISRES  TPROBSON  PARIDADE  KOTELCHUCK  CONTADOR  \n",
       "0         0.0         1         1.0         5         1           5      1018  \n",
       "1         0.0         1         1.0         5         1           5      5430  \n",
       "2         0.0         1         1.0         4         1           5      6228  \n",
       "3         0.0         1         1.0         5         1           4      7059  \n",
       "4         0.0         1         1.0         3         1           2      7284  \n",
       "\n",
       "[5 rows x 61 columns]"
      ]
     },
     "execution_count": 5,
     "metadata": {},
     "output_type": "execute_result"
    }
   ],
   "source": [
    "df.head()\n",
    "# df.describe()"
   ]
  },
  {
   "cell_type": "markdown",
   "metadata": {},
   "source": [
    "#### 2) Categorize a variável APGAR5 conforme as seguintes quebras:\n",
    "\n",
    "- 0 a 3: 'asfixia grave'\n",
    "- 4 a 5: 'asfixia moderada'\n",
    "- 6 a 7: 'asfixia leve'\n",
    "- 8 a 10: 'normal'"
   ]
  },
  {
   "cell_type": "code",
   "execution_count": 51,
   "metadata": {},
   "outputs": [
    {
     "name": "stdout",
     "output_type": "stream",
     "text": [
      "0.015626436834054836\n"
     ]
    }
   ],
   "source": [
    "print(df['APGAR5'].isna().sum() / len(df))"
   ]
  },
  {
   "cell_type": "code",
   "execution_count": 61,
   "metadata": {},
   "outputs": [
    {
     "data": {
      "text/plain": [
       "array([1, 2, 0])"
      ]
     },
     "execution_count": 61,
     "metadata": {},
     "output_type": "execute_result"
    }
   ],
   "source": [
    "df['SEXO'].unique()"
   ]
  },
  {
   "cell_type": "code",
   "execution_count": 92,
   "metadata": {},
   "outputs": [
    {
     "data": {
      "text/plain": [
       "array([10.,  9.,  6.,  8.,  4.,  7.,  3.,  2.,  5.,  0.,  1.])"
      ]
     },
     "execution_count": 92,
     "metadata": {},
     "output_type": "execute_result"
    }
   ],
   "source": [
    "# limpando a base de dados\n",
    "df2 = df[(df['APGAR5'].isna() == False) & (df['APGAR5'] < 99.00) & (df['SEXO'] != 0) & (df['GESTACAO'] < 9)] \n",
    "\n",
    "# df2 = df[df['APGAR5'] < 99.00]\n",
    "# df2 = df[df['SEXO'] != 0]\n",
    "\n",
    "df2['APGAR5'].isna().sum()\n",
    "df2['APGAR5'].unique()"
   ]
  },
  {
   "cell_type": "code",
   "execution_count": 93,
   "metadata": {},
   "outputs": [
    {
     "name": "stderr",
     "output_type": "stream",
     "text": [
      "/var/folders/wh/_2xtz5kd2knd10y0m8tmqhrc0000gp/T/ipykernel_49480/4000941898.py:2: SettingWithCopyWarning: \n",
      "A value is trying to be set on a copy of a slice from a DataFrame.\n",
      "Try using .loc[row_indexer,col_indexer] = value instead\n",
      "\n",
      "See the caveats in the documentation: https://pandas.pydata.org/pandas-docs/stable/user_guide/indexing.html#returning-a-view-versus-a-copy\n",
      "  df2.loc[df2['APGAR5'] <= 3.0, 'APGAR5_CAT'] = 'asfixia grave'.upper()\n"
     ]
    }
   ],
   "source": [
    "# transformando o APGAR5 em uma variável categórica\n",
    "df2.loc[df2['APGAR5'] <= 3.0, 'APGAR5_CAT'] = 'asfixia grave'.upper()\n",
    "df2.loc[(df2['APGAR5'] >= 4.0) & (df2['APGAR5'] <= 5.0), 'APGAR5_CAT'] = 'asfixia moderada'.upper()\n",
    "df2.loc[(df2['APGAR5'] >= 6.0) & (df2['APGAR5'] <= 7.0), 'APGAR5_CAT'] = 'asfixia leve'.upper()\n",
    "df2.loc[(df2['APGAR5'] >= 8.0) & (df2['APGAR5'] <= 10.0), 'APGAR5_CAT'] = 'normal'.upper()"
   ]
  },
  {
   "cell_type": "code",
   "execution_count": 94,
   "metadata": {},
   "outputs": [
    {
     "name": "stderr",
     "output_type": "stream",
     "text": [
      "/var/folders/wh/_2xtz5kd2knd10y0m8tmqhrc0000gp/T/ipykernel_49480/1847730283.py:2: SettingWithCopyWarning: \n",
      "A value is trying to be set on a copy of a slice from a DataFrame.\n",
      "Try using .loc[row_indexer,col_indexer] = value instead\n",
      "\n",
      "See the caveats in the documentation: https://pandas.pydata.org/pandas-docs/stable/user_guide/indexing.html#returning-a-view-versus-a-copy\n",
      "  df2.loc[(df2['SEXO'] == 1), 'SEXO_CAT'] = 'M'\n"
     ]
    }
   ],
   "source": [
    "# transformando o sexo em uma variável categoria para facilidar a leitura no gráfico\n",
    "df2.loc[(df2['SEXO'] == 1), 'SEXO_CAT'] = 'M'\n",
    "df2.loc[(df2['SEXO'] == 2), 'SEXO_CAT'] = 'F'"
   ]
  },
  {
   "cell_type": "code",
   "execution_count": 95,
   "metadata": {},
   "outputs": [
    {
     "data": {
      "text/plain": [
       "NORMAL              2710394\n",
       "ASFIXIA LEVE          40191\n",
       "ASFIXIA GRAVE          9229\n",
       "ASFIXIA MODERADA       8612\n",
       "Name: APGAR5_CAT, dtype: int64"
      ]
     },
     "execution_count": 95,
     "metadata": {},
     "output_type": "execute_result"
    }
   ],
   "source": [
    "df2['APGAR5_CAT'].value_counts()"
   ]
  },
  {
   "cell_type": "code",
   "execution_count": 96,
   "metadata": {},
   "outputs": [
    {
     "data": {
      "text/plain": [
       "M    1416597\n",
       "F    1351829\n",
       "Name: SEXO_CAT, dtype: int64"
      ]
     },
     "execution_count": 96,
     "metadata": {},
     "output_type": "execute_result"
    }
   ],
   "source": [
    "df2['SEXO_CAT'].value_counts()"
   ]
  },
  {
   "cell_type": "markdown",
   "metadata": {},
   "source": [
    "#### 3) Monte um gráfico comparando a distribuição de APGAR5 por sexo para cada grupo de tempo de gestação (GESTACAO)."
   ]
  },
  {
   "cell_type": "code",
   "execution_count": 97,
   "metadata": {},
   "outputs": [
    {
     "data": {
      "text/plain": [
       "<seaborn.axisgrid.FacetGrid at 0x7fe907a44f10>"
      ]
     },
     "execution_count": 97,
     "metadata": {},
     "output_type": "execute_result"
    },
    {
     "data": {
      "image/png": "[encoded data removed]",
      "text/plain": [
       "<Figure size 581.861x500 with 1 Axes>"
      ]
     },
     "metadata": {},
     "output_type": "display_data"
    }
   ],
   "source": [
    "sns.catplot(\n",
    "    data=df2,\n",
    "    x='GESTACAO',\n",
    "    y='APGAR5',\n",
    "    hue='SEXO_CAT',\n",
    "    kind='bar',\n",
    "    # ci=None\n",
    ")"
   ]
  },
  {
   "cell_type": "markdown",
   "metadata": {},
   "source": [
    "####  4) Monte uma tabela cruzada com APGAR5 nas colunas e GESTACAO nas linhas"
   ]
  },
  {
   "cell_type": "code",
   "execution_count": 98,
   "metadata": {},
   "outputs": [
    {
     "data": {
      "text/html": [
       "<div>\n",
       "<style scoped>\n",
       "    .dataframe tbody tr th:only-of-type {\n",
       "        vertical-align: middle;\n",
       "    }\n",
       "\n",
       "    .dataframe tbody tr th {\n",
       "        vertical-align: top;\n",
       "    }\n",
       "\n",
       "    .dataframe thead th {\n",
       "        text-align: right;\n",
       "    }\n",
       "</style>\n",
       "<table border=\"1\" class=\"dataframe\">\n",
       "  <thead>\n",
       "    <tr style=\"text-align: right;\">\n",
       "      <th>APGAR5</th>\n",
       "      <th>0.0</th>\n",
       "      <th>1.0</th>\n",
       "      <th>2.0</th>\n",
       "      <th>3.0</th>\n",
       "      <th>4.0</th>\n",
       "      <th>5.0</th>\n",
       "      <th>6.0</th>\n",
       "      <th>7.0</th>\n",
       "      <th>8.0</th>\n",
       "      <th>9.0</th>\n",
       "      <th>10.0</th>\n",
       "    </tr>\n",
       "    <tr>\n",
       "      <th>GESTACAO</th>\n",
       "      <th></th>\n",
       "      <th></th>\n",
       "      <th></th>\n",
       "      <th></th>\n",
       "      <th></th>\n",
       "      <th></th>\n",
       "      <th></th>\n",
       "      <th></th>\n",
       "      <th></th>\n",
       "      <th></th>\n",
       "      <th></th>\n",
       "    </tr>\n",
       "  </thead>\n",
       "  <tbody>\n",
       "    <tr>\n",
       "      <th>1.0</th>\n",
       "      <td>159</td>\n",
       "      <td>383</td>\n",
       "      <td>112</td>\n",
       "      <td>54</td>\n",
       "      <td>32</td>\n",
       "      <td>44</td>\n",
       "      <td>39</td>\n",
       "      <td>62</td>\n",
       "      <td>66</td>\n",
       "      <td>259</td>\n",
       "      <td>149</td>\n",
       "    </tr>\n",
       "    <tr>\n",
       "      <th>2.0</th>\n",
       "      <td>454</td>\n",
       "      <td>915</td>\n",
       "      <td>494</td>\n",
       "      <td>498</td>\n",
       "      <td>612</td>\n",
       "      <td>822</td>\n",
       "      <td>1127</td>\n",
       "      <td>1887</td>\n",
       "      <td>2886</td>\n",
       "      <td>3095</td>\n",
       "      <td>1098</td>\n",
       "    </tr>\n",
       "    <tr>\n",
       "      <th>3.0</th>\n",
       "      <td>132</td>\n",
       "      <td>212</td>\n",
       "      <td>161</td>\n",
       "      <td>227</td>\n",
       "      <td>287</td>\n",
       "      <td>579</td>\n",
       "      <td>997</td>\n",
       "      <td>2405</td>\n",
       "      <td>6609</td>\n",
       "      <td>11769</td>\n",
       "      <td>4571</td>\n",
       "    </tr>\n",
       "    <tr>\n",
       "      <th>4.0</th>\n",
       "      <td>318</td>\n",
       "      <td>417</td>\n",
       "      <td>299</td>\n",
       "      <td>350</td>\n",
       "      <td>566</td>\n",
       "      <td>1085</td>\n",
       "      <td>2062</td>\n",
       "      <td>6475</td>\n",
       "      <td>30915</td>\n",
       "      <td>132462</td>\n",
       "      <td>91010</td>\n",
       "    </tr>\n",
       "    <tr>\n",
       "      <th>5.0</th>\n",
       "      <td>915</td>\n",
       "      <td>1350</td>\n",
       "      <td>823</td>\n",
       "      <td>802</td>\n",
       "      <td>1405</td>\n",
       "      <td>3038</td>\n",
       "      <td>5660</td>\n",
       "      <td>18654</td>\n",
       "      <td>112672</td>\n",
       "      <td>1083272</td>\n",
       "      <td>1166466</td>\n",
       "    </tr>\n",
       "    <tr>\n",
       "      <th>6.0</th>\n",
       "      <td>32</td>\n",
       "      <td>50</td>\n",
       "      <td>40</td>\n",
       "      <td>32</td>\n",
       "      <td>39</td>\n",
       "      <td>103</td>\n",
       "      <td>194</td>\n",
       "      <td>629</td>\n",
       "      <td>3293</td>\n",
       "      <td>29730</td>\n",
       "      <td>30072</td>\n",
       "    </tr>\n",
       "  </tbody>\n",
       "</table>\n",
       "</div>"
      ],
      "text/plain": [
       "APGAR5    0.0   1.0   2.0   3.0   4.0   5.0   6.0    7.0     8.0      9.0   \\\n",
       "GESTACAO                                                                     \n",
       "1.0        159   383   112    54    32    44    39     62      66      259   \n",
       "2.0        454   915   494   498   612   822  1127   1887    2886     3095   \n",
       "3.0        132   212   161   227   287   579   997   2405    6609    11769   \n",
       "4.0        318   417   299   350   566  1085  2062   6475   30915   132462   \n",
       "5.0        915  1350   823   802  1405  3038  5660  18654  112672  1083272   \n",
       "6.0         32    50    40    32    39   103   194    629    3293    29730   \n",
       "\n",
       "APGAR5       10.0  \n",
       "GESTACAO           \n",
       "1.0           149  \n",
       "2.0          1098  \n",
       "3.0          4571  \n",
       "4.0         91010  \n",
       "5.0       1166466  \n",
       "6.0         30072  "
      ]
     },
     "execution_count": 98,
     "metadata": {},
     "output_type": "execute_result"
    }
   ],
   "source": [
    "df2_ct = pd.crosstab(df2['GESTACAO'], df2['APGAR5'])\n",
    "df2_ct\n"
   ]
  },
  {
   "cell_type": "code",
   "execution_count": 99,
   "metadata": {},
   "outputs": [
    {
     "data": {
      "text/plain": [
       "GESTACAO\n",
       "1.0       1359\n",
       "2.0      13888\n",
       "3.0      27949\n",
       "4.0     265959\n",
       "5.0    2395057\n",
       "6.0      64214\n",
       "dtype: int64"
      ]
     },
     "execution_count": 99,
     "metadata": {},
     "output_type": "execute_result"
    }
   ],
   "source": [
    "df2_ct.sum(axis=1)"
   ]
  },
  {
   "cell_type": "code",
   "execution_count": 100,
   "metadata": {},
   "outputs": [
    {
     "data": {
      "text/html": [
       "<div>\n",
       "<style scoped>\n",
       "    .dataframe tbody tr th:only-of-type {\n",
       "        vertical-align: middle;\n",
       "    }\n",
       "\n",
       "    .dataframe tbody tr th {\n",
       "        vertical-align: top;\n",
       "    }\n",
       "\n",
       "    .dataframe thead th {\n",
       "        text-align: right;\n",
       "    }\n",
       "</style>\n",
       "<table border=\"1\" class=\"dataframe\">\n",
       "  <thead>\n",
       "    <tr style=\"text-align: right;\">\n",
       "      <th>APGAR5</th>\n",
       "      <th>0.0</th>\n",
       "      <th>1.0</th>\n",
       "      <th>2.0</th>\n",
       "      <th>3.0</th>\n",
       "      <th>4.0</th>\n",
       "      <th>5.0</th>\n",
       "      <th>6.0</th>\n",
       "      <th>7.0</th>\n",
       "      <th>8.0</th>\n",
       "      <th>9.0</th>\n",
       "      <th>10.0</th>\n",
       "    </tr>\n",
       "    <tr>\n",
       "      <th>GESTACAO</th>\n",
       "      <th></th>\n",
       "      <th></th>\n",
       "      <th></th>\n",
       "      <th></th>\n",
       "      <th></th>\n",
       "      <th></th>\n",
       "      <th></th>\n",
       "      <th></th>\n",
       "      <th></th>\n",
       "      <th></th>\n",
       "      <th></th>\n",
       "    </tr>\n",
       "  </thead>\n",
       "  <tbody>\n",
       "    <tr>\n",
       "      <th>1.0</th>\n",
       "      <td>159</td>\n",
       "      <td>383</td>\n",
       "      <td>112</td>\n",
       "      <td>54</td>\n",
       "      <td>32</td>\n",
       "      <td>44</td>\n",
       "      <td>39</td>\n",
       "      <td>62</td>\n",
       "      <td>66</td>\n",
       "      <td>259</td>\n",
       "      <td>149</td>\n",
       "    </tr>\n",
       "    <tr>\n",
       "      <th>2.0</th>\n",
       "      <td>454</td>\n",
       "      <td>915</td>\n",
       "      <td>494</td>\n",
       "      <td>498</td>\n",
       "      <td>612</td>\n",
       "      <td>822</td>\n",
       "      <td>1127</td>\n",
       "      <td>1887</td>\n",
       "      <td>2886</td>\n",
       "      <td>3095</td>\n",
       "      <td>1098</td>\n",
       "    </tr>\n",
       "    <tr>\n",
       "      <th>3.0</th>\n",
       "      <td>132</td>\n",
       "      <td>212</td>\n",
       "      <td>161</td>\n",
       "      <td>227</td>\n",
       "      <td>287</td>\n",
       "      <td>579</td>\n",
       "      <td>997</td>\n",
       "      <td>2405</td>\n",
       "      <td>6609</td>\n",
       "      <td>11769</td>\n",
       "      <td>4571</td>\n",
       "    </tr>\n",
       "    <tr>\n",
       "      <th>4.0</th>\n",
       "      <td>318</td>\n",
       "      <td>417</td>\n",
       "      <td>299</td>\n",
       "      <td>350</td>\n",
       "      <td>566</td>\n",
       "      <td>1085</td>\n",
       "      <td>2062</td>\n",
       "      <td>6475</td>\n",
       "      <td>30915</td>\n",
       "      <td>132462</td>\n",
       "      <td>91010</td>\n",
       "    </tr>\n",
       "    <tr>\n",
       "      <th>5.0</th>\n",
       "      <td>915</td>\n",
       "      <td>1350</td>\n",
       "      <td>823</td>\n",
       "      <td>802</td>\n",
       "      <td>1405</td>\n",
       "      <td>3038</td>\n",
       "      <td>5660</td>\n",
       "      <td>18654</td>\n",
       "      <td>112672</td>\n",
       "      <td>1083272</td>\n",
       "      <td>1166466</td>\n",
       "    </tr>\n",
       "    <tr>\n",
       "      <th>6.0</th>\n",
       "      <td>32</td>\n",
       "      <td>50</td>\n",
       "      <td>40</td>\n",
       "      <td>32</td>\n",
       "      <td>39</td>\n",
       "      <td>103</td>\n",
       "      <td>194</td>\n",
       "      <td>629</td>\n",
       "      <td>3293</td>\n",
       "      <td>29730</td>\n",
       "      <td>30072</td>\n",
       "    </tr>\n",
       "  </tbody>\n",
       "</table>\n",
       "</div>"
      ],
      "text/plain": [
       "APGAR5    0.0   1.0   2.0   3.0   4.0   5.0   6.0    7.0     8.0      9.0   \\\n",
       "GESTACAO                                                                     \n",
       "1.0        159   383   112    54    32    44    39     62      66      259   \n",
       "2.0        454   915   494   498   612   822  1127   1887    2886     3095   \n",
       "3.0        132   212   161   227   287   579   997   2405    6609    11769   \n",
       "4.0        318   417   299   350   566  1085  2062   6475   30915   132462   \n",
       "5.0        915  1350   823   802  1405  3038  5660  18654  112672  1083272   \n",
       "6.0         32    50    40    32    39   103   194    629    3293    29730   \n",
       "\n",
       "APGAR5       10.0  \n",
       "GESTACAO           \n",
       "1.0           149  \n",
       "2.0          1098  \n",
       "3.0          4571  \n",
       "4.0         91010  \n",
       "5.0       1166466  \n",
       "6.0         30072  "
      ]
     },
     "execution_count": 100,
     "metadata": {},
     "output_type": "execute_result"
    }
   ],
   "source": [
    "df2_ct"
   ]
  },
  {
   "cell_type": "markdown",
   "metadata": {},
   "source": [
    "####  5) Da tabela cruzada do intem anterior, calcule os percentuais de linha. Ou seja, a distribuição da variável APGAR5 para cada classe de GESTACAO dado."
   ]
  },
  {
   "cell_type": "code",
   "execution_count": 126,
   "metadata": {},
   "outputs": [
    {
     "data": {
      "text/html": [
       "<div>\n",
       "<style scoped>\n",
       "    .dataframe tbody tr th:only-of-type {\n",
       "        vertical-align: middle;\n",
       "    }\n",
       "\n",
       "    .dataframe tbody tr th {\n",
       "        vertical-align: top;\n",
       "    }\n",
       "\n",
       "    .dataframe thead th {\n",
       "        text-align: right;\n",
       "    }\n",
       "</style>\n",
       "<table border=\"1\" class=\"dataframe\">\n",
       "  <thead>\n",
       "    <tr style=\"text-align: right;\">\n",
       "      <th>APGAR5</th>\n",
       "      <th>0.0</th>\n",
       "      <th>1.0</th>\n",
       "      <th>2.0</th>\n",
       "      <th>3.0</th>\n",
       "      <th>4.0</th>\n",
       "      <th>5.0</th>\n",
       "      <th>6.0</th>\n",
       "      <th>7.0</th>\n",
       "      <th>8.0</th>\n",
       "      <th>9.0</th>\n",
       "      <th>10.0</th>\n",
       "    </tr>\n",
       "    <tr>\n",
       "      <th>GESTACAO</th>\n",
       "      <th></th>\n",
       "      <th></th>\n",
       "      <th></th>\n",
       "      <th></th>\n",
       "      <th></th>\n",
       "      <th></th>\n",
       "      <th></th>\n",
       "      <th></th>\n",
       "      <th></th>\n",
       "      <th></th>\n",
       "      <th></th>\n",
       "    </tr>\n",
       "  </thead>\n",
       "  <tbody>\n",
       "    <tr>\n",
       "      <th>1.0</th>\n",
       "      <td>0.116998</td>\n",
       "      <td>0.281825</td>\n",
       "      <td>0.082414</td>\n",
       "      <td>0.039735</td>\n",
       "      <td>0.023547</td>\n",
       "      <td>0.032377</td>\n",
       "      <td>0.028698</td>\n",
       "      <td>0.045622</td>\n",
       "      <td>0.048565</td>\n",
       "      <td>0.190581</td>\n",
       "      <td>0.109639</td>\n",
       "    </tr>\n",
       "    <tr>\n",
       "      <th>2.0</th>\n",
       "      <td>0.032690</td>\n",
       "      <td>0.065884</td>\n",
       "      <td>0.035570</td>\n",
       "      <td>0.035858</td>\n",
       "      <td>0.044067</td>\n",
       "      <td>0.059188</td>\n",
       "      <td>0.081149</td>\n",
       "      <td>0.135873</td>\n",
       "      <td>0.207805</td>\n",
       "      <td>0.222854</td>\n",
       "      <td>0.079061</td>\n",
       "    </tr>\n",
       "    <tr>\n",
       "      <th>3.0</th>\n",
       "      <td>0.004723</td>\n",
       "      <td>0.007585</td>\n",
       "      <td>0.005760</td>\n",
       "      <td>0.008122</td>\n",
       "      <td>0.010269</td>\n",
       "      <td>0.020716</td>\n",
       "      <td>0.035672</td>\n",
       "      <td>0.086050</td>\n",
       "      <td>0.236466</td>\n",
       "      <td>0.421088</td>\n",
       "      <td>0.163548</td>\n",
       "    </tr>\n",
       "    <tr>\n",
       "      <th>4.0</th>\n",
       "      <td>0.001196</td>\n",
       "      <td>0.001568</td>\n",
       "      <td>0.001124</td>\n",
       "      <td>0.001316</td>\n",
       "      <td>0.002128</td>\n",
       "      <td>0.004080</td>\n",
       "      <td>0.007753</td>\n",
       "      <td>0.024346</td>\n",
       "      <td>0.116240</td>\n",
       "      <td>0.498054</td>\n",
       "      <td>0.342196</td>\n",
       "    </tr>\n",
       "    <tr>\n",
       "      <th>5.0</th>\n",
       "      <td>0.000382</td>\n",
       "      <td>0.000564</td>\n",
       "      <td>0.000344</td>\n",
       "      <td>0.000335</td>\n",
       "      <td>0.000587</td>\n",
       "      <td>0.001268</td>\n",
       "      <td>0.002363</td>\n",
       "      <td>0.007789</td>\n",
       "      <td>0.047044</td>\n",
       "      <td>0.452295</td>\n",
       "      <td>0.487031</td>\n",
       "    </tr>\n",
       "    <tr>\n",
       "      <th>6.0</th>\n",
       "      <td>0.000498</td>\n",
       "      <td>0.000779</td>\n",
       "      <td>0.000623</td>\n",
       "      <td>0.000498</td>\n",
       "      <td>0.000607</td>\n",
       "      <td>0.001604</td>\n",
       "      <td>0.003021</td>\n",
       "      <td>0.009795</td>\n",
       "      <td>0.051282</td>\n",
       "      <td>0.462983</td>\n",
       "      <td>0.468309</td>\n",
       "    </tr>\n",
       "  </tbody>\n",
       "</table>\n",
       "</div>"
      ],
      "text/plain": [
       "APGAR5        0.0       1.0       2.0       3.0       4.0       5.0   \\\n",
       "GESTACAO                                                               \n",
       "1.0       0.116998  0.281825  0.082414  0.039735  0.023547  0.032377   \n",
       "2.0       0.032690  0.065884  0.035570  0.035858  0.044067  0.059188   \n",
       "3.0       0.004723  0.007585  0.005760  0.008122  0.010269  0.020716   \n",
       "4.0       0.001196  0.001568  0.001124  0.001316  0.002128  0.004080   \n",
       "5.0       0.000382  0.000564  0.000344  0.000335  0.000587  0.001268   \n",
       "6.0       0.000498  0.000779  0.000623  0.000498  0.000607  0.001604   \n",
       "\n",
       "APGAR5        6.0       7.0       8.0       9.0       10.0  \n",
       "GESTACAO                                                    \n",
       "1.0       0.028698  0.045622  0.048565  0.190581  0.109639  \n",
       "2.0       0.081149  0.135873  0.207805  0.222854  0.079061  \n",
       "3.0       0.035672  0.086050  0.236466  0.421088  0.163548  \n",
       "4.0       0.007753  0.024346  0.116240  0.498054  0.342196  \n",
       "5.0       0.002363  0.007789  0.047044  0.452295  0.487031  \n",
       "6.0       0.003021  0.009795  0.051282  0.462983  0.468309  "
      ]
     },
     "execution_count": 126,
     "metadata": {},
     "output_type": "execute_result"
    }
   ],
   "source": [
    "df2_ct_pct = df2_ct.div(df2_ct.sum(axis=1), axis=0)\n",
    "df2_ct_pct\n",
    "# df2_ct_pct.sum(0)"
   ]
  },
  {
   "cell_type": "code",
   "execution_count": 102,
   "metadata": {},
   "outputs": [
    {
     "data": {
      "text/plain": [
       "<AxesSubplot:xlabel='GESTACAO'>"
      ]
     },
     "execution_count": 102,
     "metadata": {},
     "output_type": "execute_result"
    },
    {
     "data": {
      "image/png": "[encoded data removed]",
      "text/plain": [
       "<Figure size 640x480 with 1 Axes>"
      ]
     },
     "metadata": {},
     "output_type": "display_data"
    }
   ],
   "source": [
    "# quis ver as porcentagens de apgar por tempo de gestacao\n",
    "# sns.catplot(\n",
    "#     data=df2_ct_pct,\n",
    "#     # x='GESTACAO',\n",
    "#     # y='APGAR5',\n",
    "#     kind='bar',\n",
    "#     ci=None,\n",
    "#     estimator=sum\n",
    "# )\n",
    "\n",
    "df2_ct_pct.plot.bar()"
   ]
  },
  {
   "cell_type": "markdown",
   "metadata": {},
   "source": [
    "####  6) Os médicos costumam classificar parto prematuro quando a gestação tem menos que 37 semanas. Faça um gráfico de barras da tabela cruzada acima e conclua se você acha que este conjunto de dados corrobora ou não com a afirmação dos médicos."
   ]
  },
  {
   "attachments": {},
   "cell_type": "markdown",
   "metadata": {},
   "source": [
    "Nesse cenário tenho que levar em conta duas coisas a maior parte dos partos acontecem na gestação a partir de 32 semanas sendo que a partir de 37 semanas os indices de APGAR5 são melhores mesmo que por pouca diferença na maioria dos partos, pode haver uma outra variável que contribua para uma análise mais profunda."
   ]
  },
  {
   "cell_type": "code",
   "execution_count": 122,
   "metadata": {},
   "outputs": [
    {
     "data": {
      "text/plain": [
       "<AxesSubplot:xlabel='GESTACAO'>"
      ]
     },
     "execution_count": 122,
     "metadata": {},
     "output_type": "execute_result"
    },
    {
     "data": {
      "image/png": "[encoded data removed]",
      "text/plain": [
       "<Figure size 900x600 with 1 Axes>"
      ]
     },
     "metadata": {},
     "output_type": "display_data"
    }
   ],
   "source": [
    "df2_ct_pct.plot.bar()"
   ]
  },
  {
   "cell_type": "markdown",
   "metadata": {},
   "source": [
    "#### 7) Veja se há relação entre APGAR5 e o peso do bebê. Isso pode ser feito de diversas formas. Fique à vontade para escolher a melhor maneira na sua opinião, ou até testar mais de um dos gráficos que vimos. Fique à vontade também para consultar a documentação e utilizar algum outro recurso se achar conveniente."
   ]
  },
  {
   "cell_type": "code",
   "execution_count": 129,
   "metadata": {},
   "outputs": [
    {
     "data": {
      "text/plain": [
       "<seaborn.axisgrid.FacetGrid at 0x7fe6db41b3d0>"
      ]
     },
     "execution_count": 129,
     "metadata": {},
     "output_type": "execute_result"
    },
    {
     "data": {
      "image/png": "[encoded data removed]",
      "text/plain": [
       "<Figure size 581x500 with 1 Axes>"
      ]
     },
     "metadata": {},
     "output_type": "display_data"
    }
   ],
   "source": [
    "sns.catplot(\n",
    "    data=df2,\n",
    "    x='GESTACAO',\n",
    "    y='PESO',\n",
    "    hue='APGAR5',\n",
    "    kind='bar',\n",
    "    ci=None,\n",
    ")"
   ]
  },
  {
   "attachments": {},
   "cell_type": "markdown",
   "metadata": {},
   "source": [
    "Pela análise desse gráfico o peso tem uma boa influência no APGAR5 no começo da gestacão até 31 semanas como foi observado acima quando citei que poderia ter uma outra variável, mas de 32 semanas de gestação em diante o peso não tem tanta influência assim no APGAR5."
   ]
  },
  {
   "cell_type": "code",
   "execution_count": 130,
   "metadata": {},
   "outputs": [],
   "source": [
    "sns.pairplot(df2, hue='GESTACAO')"
   ]
  }
 ],
 "metadata": {
  "kernelspec": {
   "display_name": "base",
   "language": "python",
   "name": "python3"
  },
  "language_info": {
   "codemirror_mode": {
    "name": "ipython",
    "version": 3
   },
   "file_extension": ".py",
   "mimetype": "text/x-python",
   "name": "python",
   "nbconvert_exporter": "python",
   "pygments_lexer": "ipython3",
   "version": "3.9.12"
  },
  "vscode": {
   "interpreter": {
    "hash": "52b7bb1e00b7e6fe31684b0b5bbf78cf5f147fecd4fff7207dfeb641ef9c416a"
   }
  }
 },
 "nbformat": 4,
 "nbformat_minor": 4
}
