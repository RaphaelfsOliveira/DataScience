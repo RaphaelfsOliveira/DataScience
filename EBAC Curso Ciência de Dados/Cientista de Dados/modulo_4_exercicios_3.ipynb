{
 "cells": [
  {
   "cell_type": "markdown",
   "metadata": {},
   "source": [
    "# Tarefa 03\n",
    "\n",
    "- Leia os enunciados com atenção\n",
    "- Saiba que pode haver mais de uma resposta correta\n",
    "- Insira novas células de código sempre que achar necessário\n",
    "- Em caso de dúvidas, procure os Tutores\n",
    "- Divirta-se :)"
   ]
  },
  {
   "cell_type": "code",
   "execution_count": 3,
   "metadata": {},
   "outputs": [],
   "source": [
    "import pandas as pd\n",
    "import requests"
   ]
  },
  {
   "cell_type": "markdown",
   "metadata": {},
   "source": [
    "####  1) Lendo de APIs\n",
    "Vimos em aula como carregar dados públicos do governo através de um API (*Application Programming Interface*). No exemplo de aula, baixamos os dados de pedidos de verificação de limites (PVL) realizados por estados, e selecionamos apenas aqueles referentes ao estado de São Paulo.\n",
    "\n",
    "1. Repita os mesmos passos feitos em aula, mas selecione os PVLs realizados por municípios no estado do Rio de Janeiro.\n",
    "2. Quais são os três *status* das solicitações mais frequentes na base? Quais são suas frequências?\n",
    "3. Construa uma nova variável que contenha o ano do **status**. Observe que ```data_status``` vem como tipo *object* no **DataFrame**. Dica: você pode usar o método ```.str``` para transformar o tipo da variável em string, em seguida um método como [**slice()**](https://pandas.pydata.org/docs/reference/api/pandas.Series.str.slice.html) ou [**split()**](https://pandas.pydata.org/pandas-docs/stable/reference/api/pandas.Series.str.split.html).\n",
    "4. Indique a frequência de cada ano do campo construído no item (3)."
   ]
  },
  {
   "cell_type": "code",
   "execution_count": 1,
   "metadata": {},
   "outputs": [],
   "source": [
    "# 1) Seu código aqui\n",
    "site = 'https://dados.gov.br/dataset/operacoes-copem'\n",
    "url_rj = 'https://apidatalake.tesouro.gov.br/ords/sadipem/tt/pvl?uf=RJ&tipo_interessado=Munic%C3%ADpio'"
   ]
  },
  {
   "cell_type": "code",
   "execution_count": 6,
   "metadata": {},
   "outputs": [],
   "source": [
    "# 2) Seu código aqui\n",
    "data_json = requests.get(url_rj).json()"
   ]
  },
  {
   "cell_type": "code",
   "execution_count": 24,
   "metadata": {},
   "outputs": [
    {
     "data": {
      "text/html": [
       "<div>\n",
       "<style scoped>\n",
       "    .dataframe tbody tr th:only-of-type {\n",
       "        vertical-align: middle;\n",
       "    }\n",
       "\n",
       "    .dataframe tbody tr th {\n",
       "        vertical-align: top;\n",
       "    }\n",
       "\n",
       "    .dataframe thead th {\n",
       "        text-align: right;\n",
       "    }\n",
       "</style>\n",
       "<table border=\"1\" class=\"dataframe\">\n",
       "  <thead>\n",
       "    <tr style=\"text-align: right;\">\n",
       "      <th></th>\n",
       "      <th>id_pleito</th>\n",
       "      <th>tipo_interessado</th>\n",
       "      <th>interessado</th>\n",
       "      <th>cod_ibge</th>\n",
       "      <th>uf</th>\n",
       "      <th>num_pvl</th>\n",
       "      <th>status</th>\n",
       "      <th>num_processo</th>\n",
       "      <th>data_protocolo</th>\n",
       "      <th>tipo_operacao</th>\n",
       "      <th>finalidade</th>\n",
       "      <th>tipo_credor</th>\n",
       "      <th>credor</th>\n",
       "      <th>moeda</th>\n",
       "      <th>valor</th>\n",
       "      <th>pvl_assoc_divida</th>\n",
       "      <th>pvl_contradado_credor</th>\n",
       "      <th>data_status</th>\n",
       "    </tr>\n",
       "  </thead>\n",
       "  <tbody>\n",
       "    <tr>\n",
       "      <th>0</th>\n",
       "      <td>10108</td>\n",
       "      <td>Município</td>\n",
       "      <td>São Pedro da Aldeia</td>\n",
       "      <td>3305208</td>\n",
       "      <td>RJ</td>\n",
       "      <td>None</td>\n",
       "      <td>Arquivado</td>\n",
       "      <td>17944.001122/2008-21</td>\n",
       "      <td>2009-03-06T03:00:00Z</td>\n",
       "      <td>Operação contratual interna</td>\n",
       "      <td>Caminho da Escola 2</td>\n",
       "      <td>Instituição Financeira Nacional</td>\n",
       "      <td>Banco do Brasil S/A</td>\n",
       "      <td>Real</td>\n",
       "      <td>598900.00</td>\n",
       "      <td>0</td>\n",
       "      <td>0</td>\n",
       "      <td>13/03/2009</td>\n",
       "    </tr>\n",
       "    <tr>\n",
       "      <th>1</th>\n",
       "      <td>5475</td>\n",
       "      <td>Município</td>\n",
       "      <td>Nova Iguaçu</td>\n",
       "      <td>3303500</td>\n",
       "      <td>RJ</td>\n",
       "      <td>None</td>\n",
       "      <td>Arquivado</td>\n",
       "      <td>17944.000122/2010-29</td>\n",
       "      <td>2010-12-03T02:00:00Z</td>\n",
       "      <td>Operação contratual interna</td>\n",
       "      <td>PAC - Pró-Moradia - 2009</td>\n",
       "      <td>Instituição Financeira Nacional</td>\n",
       "      <td>Caixa Econômica Federal</td>\n",
       "      <td>Real</td>\n",
       "      <td>48440939.24</td>\n",
       "      <td>0</td>\n",
       "      <td>0</td>\n",
       "      <td>14/12/2010</td>\n",
       "    </tr>\n",
       "    <tr>\n",
       "      <th>2</th>\n",
       "      <td>13574</td>\n",
       "      <td>Município</td>\n",
       "      <td>Rio de Janeiro</td>\n",
       "      <td>3304557</td>\n",
       "      <td>RJ</td>\n",
       "      <td>None</td>\n",
       "      <td>Deferido</td>\n",
       "      <td>19405.000028/2006-16</td>\n",
       "      <td>2007-04-30T03:00:00Z</td>\n",
       "      <td>Operação contratual interna</td>\n",
       "      <td>Saneamento básico</td>\n",
       "      <td>Instituição Financeira Nacional</td>\n",
       "      <td>Caixa Econômica Federal</td>\n",
       "      <td>Real</td>\n",
       "      <td>39528049.81</td>\n",
       "      <td>1</td>\n",
       "      <td>0</td>\n",
       "      <td>25/05/2007</td>\n",
       "    </tr>\n",
       "  </tbody>\n",
       "</table>\n",
       "</div>"
      ],
      "text/plain": [
       "   id_pleito tipo_interessado          interessado  cod_ibge  uf num_pvl  \\\n",
       "0      10108        Município  São Pedro da Aldeia   3305208  RJ    None   \n",
       "1       5475        Município          Nova Iguaçu   3303500  RJ    None   \n",
       "2      13574        Município       Rio de Janeiro   3304557  RJ    None   \n",
       "\n",
       "      status          num_processo        data_protocolo  \\\n",
       "0  Arquivado  17944.001122/2008-21  2009-03-06T03:00:00Z   \n",
       "1  Arquivado  17944.000122/2010-29  2010-12-03T02:00:00Z   \n",
       "2   Deferido  19405.000028/2006-16  2007-04-30T03:00:00Z   \n",
       "\n",
       "                 tipo_operacao                finalidade  \\\n",
       "0  Operação contratual interna       Caminho da Escola 2   \n",
       "1  Operação contratual interna  PAC - Pró-Moradia - 2009   \n",
       "2  Operação contratual interna         Saneamento básico   \n",
       "\n",
       "                       tipo_credor                   credor moeda  \\\n",
       "0  Instituição Financeira Nacional      Banco do Brasil S/A  Real   \n",
       "1  Instituição Financeira Nacional  Caixa Econômica Federal  Real   \n",
       "2  Instituição Financeira Nacional  Caixa Econômica Federal  Real   \n",
       "\n",
       "         valor  pvl_assoc_divida  pvl_contradado_credor data_status  \n",
       "0    598900.00                 0                      0  13/03/2009  \n",
       "1  48440939.24                 0                      0  14/12/2010  \n",
       "2  39528049.81                 1                      0  25/05/2007  "
      ]
     },
     "execution_count": 24,
     "metadata": {},
     "output_type": "execute_result"
    }
   ],
   "source": [
    "# 3) Seu código aqui\n",
    "df = pd.DataFrame(data_json['items'])\n",
    "df.head(3)"
   ]
  },
  {
   "cell_type": "code",
   "execution_count": 39,
   "metadata": {},
   "outputs": [
    {
     "data": {
      "text/plain": [
       "Deferido        90\n",
       "Arquivado       53\n",
       "Regularizado    25\n",
       "Name: status, dtype: int64"
      ]
     },
     "execution_count": 39,
     "metadata": {},
     "output_type": "execute_result"
    }
   ],
   "source": [
    "df['status'].value_counts().head(3)"
   ]
  },
  {
   "cell_type": "code",
   "execution_count": 269,
   "metadata": {},
   "outputs": [
    {
     "name": "stdout",
     "output_type": "stream",
     "text": [
      "freq_deferido\n"
     ]
    },
    {
     "data": {
      "text/plain": [
       "2014    14\n",
       "2007    13\n",
       "2011     8\n",
       "2008     8\n",
       "2012     6\n",
       "2013     6\n",
       "2002     5\n",
       "2010     5\n",
       "2020     4\n",
       "2019     3\n",
       "2016     3\n",
       "2018     3\n",
       "2006     2\n",
       "2021     2\n",
       "2017     2\n",
       "2022     2\n",
       "2015     2\n",
       "2004     1\n",
       "2009     1\n",
       "Name: data_protocolo, dtype: int64"
      ]
     },
     "execution_count": 269,
     "metadata": {},
     "output_type": "execute_result"
    }
   ],
   "source": [
    "format_dt = '%Y-%m-%dT%H:%M:%SZ'\n",
    "\n",
    "deferido = df['status'] == 'Deferido'\n",
    "arquivado = df['status'] == 'Arquivado'\n",
    "regularizado = df['status'] == 'Regularizado'\n",
    "\n",
    "freq_deferido = pd.to_datetime(df[deferido]['data_protocolo'], format=format_dt).dt.year.value_counts()\n",
    "freq_arquivado = pd.to_datetime(df[arquivado]['data_protocolo'], format=format_dt).dt.year.value_counts()\n",
    "freq_regularizado = pd.to_datetime(df[regularizado]['data_protocolo'], format=format_dt).dt.year.value_counts()\n",
    "\n",
    "print('freq_deferido')\n",
    "freq_deferido\n"
   ]
  },
  {
   "cell_type": "code",
   "execution_count": 268,
   "metadata": {},
   "outputs": [
    {
     "name": "stdout",
     "output_type": "stream",
     "text": [
      "freq_arquivado\n"
     ]
    },
    {
     "data": {
      "text/plain": [
       "2008    32\n",
       "2010     9\n",
       "2009     4\n",
       "2006     4\n",
       "2007     2\n",
       "2005     2\n",
       "Name: data_protocolo, dtype: int64"
      ]
     },
     "execution_count": 268,
     "metadata": {},
     "output_type": "execute_result"
    }
   ],
   "source": [
    "print('freq_arquivado')\n",
    "freq_arquivado"
   ]
  },
  {
   "cell_type": "code",
   "execution_count": 267,
   "metadata": {},
   "outputs": [
    {
     "name": "stdout",
     "output_type": "stream",
     "text": [
      "freq_regularizado\n"
     ]
    },
    {
     "data": {
      "text/plain": [
       "2007    9\n",
       "2014    3\n",
       "2011    2\n",
       "2009    2\n",
       "2020    2\n",
       "2012    2\n",
       "2013    2\n",
       "2018    1\n",
       "2006    1\n",
       "2010    1\n",
       "Name: data_protocolo, dtype: int64"
      ]
     },
     "execution_count": 267,
     "metadata": {},
     "output_type": "execute_result"
    }
   ],
   "source": [
    "print('freq_regularizado')\n",
    "freq_regularizado"
   ]
  },
  {
   "cell_type": "markdown",
   "metadata": {},
   "source": [
    "### Frequencia por ano dos protocolos Deferidos, Regularizados e Arquivados"
   ]
  },
  {
   "cell_type": "code",
   "execution_count": 273,
   "metadata": {},
   "outputs": [
    {
     "data": {
      "text/html": [
       "<div>\n",
       "<style scoped>\n",
       "    .dataframe tbody tr th:only-of-type {\n",
       "        vertical-align: middle;\n",
       "    }\n",
       "\n",
       "    .dataframe tbody tr th {\n",
       "        vertical-align: top;\n",
       "    }\n",
       "\n",
       "    .dataframe thead th {\n",
       "        text-align: right;\n",
       "    }\n",
       "</style>\n",
       "<table border=\"1\" class=\"dataframe\">\n",
       "  <thead>\n",
       "    <tr style=\"text-align: right;\">\n",
       "      <th></th>\n",
       "      <th>Deferido</th>\n",
       "      <th>Regularizado</th>\n",
       "      <th>Arquivado</th>\n",
       "    </tr>\n",
       "  </thead>\n",
       "  <tbody>\n",
       "    <tr>\n",
       "      <th>2002</th>\n",
       "      <td>5.0</td>\n",
       "      <td>NaN</td>\n",
       "      <td>NaN</td>\n",
       "    </tr>\n",
       "    <tr>\n",
       "      <th>2004</th>\n",
       "      <td>1.0</td>\n",
       "      <td>NaN</td>\n",
       "      <td>NaN</td>\n",
       "    </tr>\n",
       "    <tr>\n",
       "      <th>2005</th>\n",
       "      <td>NaN</td>\n",
       "      <td>NaN</td>\n",
       "      <td>2.0</td>\n",
       "    </tr>\n",
       "    <tr>\n",
       "      <th>2006</th>\n",
       "      <td>2.0</td>\n",
       "      <td>1.0</td>\n",
       "      <td>4.0</td>\n",
       "    </tr>\n",
       "    <tr>\n",
       "      <th>2007</th>\n",
       "      <td>13.0</td>\n",
       "      <td>9.0</td>\n",
       "      <td>2.0</td>\n",
       "    </tr>\n",
       "    <tr>\n",
       "      <th>2008</th>\n",
       "      <td>8.0</td>\n",
       "      <td>NaN</td>\n",
       "      <td>32.0</td>\n",
       "    </tr>\n",
       "    <tr>\n",
       "      <th>2009</th>\n",
       "      <td>1.0</td>\n",
       "      <td>2.0</td>\n",
       "      <td>4.0</td>\n",
       "    </tr>\n",
       "    <tr>\n",
       "      <th>2010</th>\n",
       "      <td>5.0</td>\n",
       "      <td>1.0</td>\n",
       "      <td>9.0</td>\n",
       "    </tr>\n",
       "    <tr>\n",
       "      <th>2011</th>\n",
       "      <td>8.0</td>\n",
       "      <td>2.0</td>\n",
       "      <td>NaN</td>\n",
       "    </tr>\n",
       "    <tr>\n",
       "      <th>2012</th>\n",
       "      <td>6.0</td>\n",
       "      <td>2.0</td>\n",
       "      <td>NaN</td>\n",
       "    </tr>\n",
       "    <tr>\n",
       "      <th>2013</th>\n",
       "      <td>6.0</td>\n",
       "      <td>2.0</td>\n",
       "      <td>NaN</td>\n",
       "    </tr>\n",
       "    <tr>\n",
       "      <th>2014</th>\n",
       "      <td>14.0</td>\n",
       "      <td>3.0</td>\n",
       "      <td>NaN</td>\n",
       "    </tr>\n",
       "    <tr>\n",
       "      <th>2015</th>\n",
       "      <td>2.0</td>\n",
       "      <td>NaN</td>\n",
       "      <td>NaN</td>\n",
       "    </tr>\n",
       "    <tr>\n",
       "      <th>2016</th>\n",
       "      <td>3.0</td>\n",
       "      <td>NaN</td>\n",
       "      <td>NaN</td>\n",
       "    </tr>\n",
       "    <tr>\n",
       "      <th>2017</th>\n",
       "      <td>2.0</td>\n",
       "      <td>NaN</td>\n",
       "      <td>NaN</td>\n",
       "    </tr>\n",
       "    <tr>\n",
       "      <th>2018</th>\n",
       "      <td>3.0</td>\n",
       "      <td>1.0</td>\n",
       "      <td>NaN</td>\n",
       "    </tr>\n",
       "    <tr>\n",
       "      <th>2019</th>\n",
       "      <td>3.0</td>\n",
       "      <td>NaN</td>\n",
       "      <td>NaN</td>\n",
       "    </tr>\n",
       "    <tr>\n",
       "      <th>2020</th>\n",
       "      <td>4.0</td>\n",
       "      <td>2.0</td>\n",
       "      <td>NaN</td>\n",
       "    </tr>\n",
       "    <tr>\n",
       "      <th>2021</th>\n",
       "      <td>2.0</td>\n",
       "      <td>NaN</td>\n",
       "      <td>NaN</td>\n",
       "    </tr>\n",
       "    <tr>\n",
       "      <th>2022</th>\n",
       "      <td>2.0</td>\n",
       "      <td>NaN</td>\n",
       "      <td>NaN</td>\n",
       "    </tr>\n",
       "  </tbody>\n",
       "</table>\n",
       "</div>"
      ],
      "text/plain": [
       "      Deferido  Regularizado  Arquivado\n",
       "2002       5.0           NaN        NaN\n",
       "2004       1.0           NaN        NaN\n",
       "2005       NaN           NaN        2.0\n",
       "2006       2.0           1.0        4.0\n",
       "2007      13.0           9.0        2.0\n",
       "2008       8.0           NaN       32.0\n",
       "2009       1.0           2.0        4.0\n",
       "2010       5.0           1.0        9.0\n",
       "2011       8.0           2.0        NaN\n",
       "2012       6.0           2.0        NaN\n",
       "2013       6.0           2.0        NaN\n",
       "2014      14.0           3.0        NaN\n",
       "2015       2.0           NaN        NaN\n",
       "2016       3.0           NaN        NaN\n",
       "2017       2.0           NaN        NaN\n",
       "2018       3.0           1.0        NaN\n",
       "2019       3.0           NaN        NaN\n",
       "2020       4.0           2.0        NaN\n",
       "2021       2.0           NaN        NaN\n",
       "2022       2.0           NaN        NaN"
      ]
     },
     "execution_count": 273,
     "metadata": {},
     "output_type": "execute_result"
    }
   ],
   "source": [
    "df_freq = pd.DataFrame({\n",
    "    'Deferido': freq_deferido,\n",
    "    'Regularizado': freq_regularizado,\n",
    "    'Arquivado': freq_arquivado,\n",
    "})\n",
    "df_freq"
   ]
  },
  {
   "cell_type": "markdown",
   "metadata": {},
   "source": [
    "### Frequencia por ano da coluna data_status"
   ]
  },
  {
   "cell_type": "code",
   "execution_count": 256,
   "metadata": {},
   "outputs": [
    {
     "data": {
      "text/plain": [
       "2008    37\n",
       "2007    29\n",
       "2014    20\n",
       "2010    19\n",
       "2019    17\n",
       "2013    15\n",
       "2020    15\n",
       "2012    13\n",
       "2011    10\n",
       "2009     9\n",
       "2015     9\n",
       "2022     7\n",
       "2021     5\n",
       "2017     5\n",
       "2002     4\n",
       "2016     4\n",
       "2018     4\n",
       "2006     4\n",
       "2003     1\n",
       "2004     1\n",
       "Name: ano_status, dtype: int64"
      ]
     },
     "execution_count": 256,
     "metadata": {},
     "output_type": "execute_result"
    }
   ],
   "source": [
    "df['ano_status'] = pd.to_datetime(df['data_status'], format='%d/%m/%Y').dt.year\n",
    "df['ano_status']\n",
    "\n",
    "df['ano_status'].value_counts()"
   ]
  },
  {
   "cell_type": "markdown",
   "metadata": {},
   "source": [
    "####  2) Melhorando a interação com o API\n",
    "Observe dois URLs de consultas diferentes, por exemplo o URL utilizado em aula, e o URL feito no exercício anterior. Compare-os e observe as diferenças.\n",
    "\n",
    "1. Faça uma função em Python que recebe como argumento o UF da consulta e o tipo de interessado (```'Estado'```ou ```Município```), e que devolve os dados da consulta no formato *DataFrame*.\n",
    "2. Quantas solicitações para o Estado podem ser consultadas para Minas Gerais com *status* em 'Arquivado por decurso de prazo' estão registradas?\n",
    "3. Qual é o município da Bahia com mais solicitações deferidas?\n",
    "4. Salve um arquivo .csv com os dados de solicitações da Bahia, com interessado = 'Estado'"
   ]
  },
  {
   "cell_type": "code",
   "execution_count": 332,
   "metadata": {},
   "outputs": [],
   "source": [
    "#1) Seu código aqui\n",
    "import pandas as pd\n",
    "import requests \n",
    "\n",
    "\n",
    "def make_df(uf, estado_or_municipio=True):\n",
    "    if estado_or_municipio == True:\n",
    "        tipo_interessado = 'Estado'\n",
    "    else:\n",
    "        tipo_interessado = 'Munic%C3%ADpio'\n",
    "\n",
    "    url = 'https://apidatalake.tesouro.gov.br/ords/sadipem/tt/pvl?uf={}&tipo_interessado={}'.format(uf, tipo_interessado)\n",
    "\n",
    "    try:\n",
    "        response = requests.get(url)\n",
    "        data_json = response.json()\n",
    "        df = pd.DataFrame(data_json['items'])\n",
    "        return df\n",
    "    except Exception as error:\n",
    "        print(str(error))\n",
    "        return pd.DataFrame.empty"
   ]
  },
  {
   "cell_type": "markdown",
   "metadata": {},
   "source": [
    "### Arquivado por decurso de prazo: Uma solicitação"
   ]
  },
  {
   "cell_type": "code",
   "execution_count": 345,
   "metadata": {},
   "outputs": [
    {
     "data": {
      "text/plain": [
       "Encaminhado à PGFN com manifestação técnica favorável    20\n",
       "Deferido                                                  7\n",
       "Arquivado a pedido                                        5\n",
       "Arquivado                                                 3\n",
       "Arquivado pela STN                                        3\n",
       "Arquivado por decurso de prazo                            1\n",
       "Indeferido                                                1\n",
       "Name: status, dtype: int64"
      ]
     },
     "execution_count": 345,
     "metadata": {},
     "output_type": "execute_result"
    }
   ],
   "source": [
    "# 2) Seu código aqui\n",
    "df_mg = make_df('MG', True)\n",
    "df_mg['status'].unique()\n",
    "\n",
    "df_mg['status'].value_counts()"
   ]
  },
  {
   "cell_type": "markdown",
   "metadata": {},
   "source": [
    "### Luís Eduardo Magalhães, com um total de 14\n"
   ]
  },
  {
   "cell_type": "code",
   "execution_count": 360,
   "metadata": {},
   "outputs": [
    {
     "data": {
      "text/plain": [
       "Luís Eduardo Magalhães    14\n",
       "Vitória da Conquista      11\n",
       "Camaçari                  10\n",
       "Lauro de Freitas          10\n",
       "Barreiras                  8\n",
       "                          ..\n",
       "Cardeal da Silva           1\n",
       "Ribeirão do Largo          1\n",
       "Encruzilhada               1\n",
       "Feira da Mata              1\n",
       "Taperoá                    1\n",
       "Name: interessado, Length: 173, dtype: int64"
      ]
     },
     "execution_count": 360,
     "metadata": {},
     "output_type": "execute_result"
    }
   ],
   "source": [
    "# 3) Seu código aqui\n",
    "df_ba = make_df('BA', False)\n",
    "\n",
    "deferido_ba = df_ba['status'] == 'Deferido'\n",
    "\n",
    "df_deferido_ba =  df_ba[deferido_ba]\n",
    "df_deferido_ba['interessado'].value_counts()"
   ]
  },
  {
   "cell_type": "code",
   "execution_count": 362,
   "metadata": {},
   "outputs": [],
   "source": [
    "# 4) Seu código aqui\n",
    "df_ba_2 = make_df('BA', True)\n",
    "df_ba_2.to_csv('pvl_ba_estado.csv')"
   ]
  }
 ],
 "metadata": {
  "kernelspec": {
   "display_name": "Python 3.10.5 64-bit",
   "language": "python",
   "name": "python3"
  },
  "language_info": {
   "codemirror_mode": {
    "name": "ipython",
    "version": 3
   },
   "file_extension": ".py",
   "mimetype": "text/x-python",
   "name": "python",
   "nbconvert_exporter": "python",
   "pygments_lexer": "ipython3",
   "version": "3.10.5"
  },
  "vscode": {
   "interpreter": {
    "hash": "aee8b7b246df8f9039afb4144a1f6fd8d2ca17a180786b69acc140d282b71a49"
   }
  }
 },
 "nbformat": 4,
 "nbformat_minor": 4
}
