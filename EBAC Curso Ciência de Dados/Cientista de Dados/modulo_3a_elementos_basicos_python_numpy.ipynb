{
 "cells": [
  {
   "cell_type": "markdown",
   "metadata": {
    "id": "sO8D9j7k0Bpy"
   },
   "source": [
    "# Elementos básicos de Python e Numpy"
   ]
  },
  {
   "cell_type": "markdown",
   "metadata": {
    "id": "z6IBBLSK0Eco"
   },
   "source": [
    "## 1\\. Introdução ao Projeto"
   ]
  },
  {
   "cell_type": "markdown",
   "metadata": {
    "id": "1uXmwMTi8OM_"
   },
   "source": [
    "> introdução"
   ]
  },
  {
   "cell_type": "markdown",
   "metadata": {
    "id": "jlPJfMeA8VXK"
   },
   "source": [
    "### 1\\.0 Ordem de excução e Operações\n"
   ]
  },
  {
   "cell_type": "code",
   "execution_count": 28,
   "metadata": {
    "colab": {
     "base_uri": "https://localhost:8080/"
    },
    "executionInfo": {
     "elapsed": 308,
     "status": "ok",
     "timestamp": 1643513298508,
     "user": {
      "displayName": "Raphael Oliveira",
      "photoUrl": "https://lh3.googleusercontent.com/a-/AOh14GjD-SSKQszy5GSX56GG3KCeCVRfxDP5F9s2SHVa=s64",
      "userId": "15853987874740266589"
     },
     "user_tz": 180
    },
    "id": "UXKjMZm-8UJF",
    "outputId": "c78cae07-2fe8-4815-a345-632aa5438d16"
   },
   "outputs": [
    {
     "name": "stdout",
     "output_type": "stream",
     "text": [
      "11\n",
      "20\n"
     ]
    }
   ],
   "source": [
    "print(1 + 1 * 10)\n",
    "\n",
    "print((1 + 1) * 10)"
   ]
  },
  {
   "cell_type": "code",
   "execution_count": 29,
   "metadata": {
    "colab": {
     "base_uri": "https://localhost:8080/"
    },
    "executionInfo": {
     "elapsed": 39,
     "status": "ok",
     "timestamp": 1643513298890,
     "user": {
      "displayName": "Raphael Oliveira",
      "photoUrl": "https://lh3.googleusercontent.com/a-/AOh14GjD-SSKQszy5GSX56GG3KCeCVRfxDP5F9s2SHVa=s64",
      "userId": "15853987874740266589"
     },
     "user_tz": 180
    },
    "id": "I7bmvc9Y90oX",
    "outputId": "c752aa34-221a-46ba-a083-7c8c4f5ca50d"
   },
   "outputs": [
    {
     "data": {
      "text/plain": [
       "80"
      ]
     },
     "execution_count": 29,
     "metadata": {},
     "output_type": "execute_result"
    }
   ],
   "source": [
    "9 * (1 + 2) ** 2 - 1"
   ]
  },
  {
   "cell_type": "code",
   "execution_count": 30,
   "metadata": {
    "executionInfo": {
     "elapsed": 36,
     "status": "ok",
     "timestamp": 1643513298891,
     "user": {
      "displayName": "Raphael Oliveira",
      "photoUrl": "https://lh3.googleusercontent.com/a-/AOh14GjD-SSKQszy5GSX56GG3KCeCVRfxDP5F9s2SHVa=s64",
      "userId": "15853987874740266589"
     },
     "user_tz": 180
    },
    "id": "_b5qvT9W-iOR"
   },
   "outputs": [],
   "source": [
    "x = 10"
   ]
  },
  {
   "cell_type": "code",
   "execution_count": 31,
   "metadata": {
    "colab": {
     "base_uri": "https://localhost:8080/"
    },
    "executionInfo": {
     "elapsed": 36,
     "status": "ok",
     "timestamp": 1643513298892,
     "user": {
      "displayName": "Raphael Oliveira",
      "photoUrl": "https://lh3.googleusercontent.com/a-/AOh14GjD-SSKQszy5GSX56GG3KCeCVRfxDP5F9s2SHVa=s64",
      "userId": "15853987874740266589"
     },
     "user_tz": 180
    },
    "id": "hhTamOqQ-jJA",
    "outputId": "6eed32da-0941-4134-c134-2cbb9b985b6b"
   },
   "outputs": [
    {
     "data": {
      "text/plain": [
       "10"
      ]
     },
     "execution_count": 31,
     "metadata": {},
     "output_type": "execute_result"
    }
   ],
   "source": [
    "x"
   ]
  },
  {
   "cell_type": "code",
   "execution_count": 32,
   "metadata": {
    "colab": {
     "base_uri": "https://localhost:8080/"
    },
    "executionInfo": {
     "elapsed": 34,
     "status": "ok",
     "timestamp": 1643513298892,
     "user": {
      "displayName": "Raphael Oliveira",
      "photoUrl": "https://lh3.googleusercontent.com/a-/AOh14GjD-SSKQszy5GSX56GG3KCeCVRfxDP5F9s2SHVa=s64",
      "userId": "15853987874740266589"
     },
     "user_tz": 180
    },
    "id": "ResJVSst-mSD",
    "outputId": "7539d4e6-42e8-4f78-edde-cdc2712f1fe5"
   },
   "outputs": [
    {
     "data": {
      "text/plain": [
       "20"
      ]
     },
     "execution_count": 32,
     "metadata": {},
     "output_type": "execute_result"
    }
   ],
   "source": [
    "x * 2 "
   ]
  },
  {
   "cell_type": "markdown",
   "metadata": {
    "id": "XIy-EqoO--jg"
   },
   "source": [
    "### 1\\.1 Operadores de Atribuição"
   ]
  },
  {
   "cell_type": "code",
   "execution_count": 33,
   "metadata": {
    "executionInfo": {
     "elapsed": 33,
     "status": "ok",
     "timestamp": 1643513298893,
     "user": {
      "displayName": "Raphael Oliveira",
      "photoUrl": "https://lh3.googleusercontent.com/a-/AOh14GjD-SSKQszy5GSX56GG3KCeCVRfxDP5F9s2SHVa=s64",
      "userId": "15853987874740266589"
     },
     "user_tz": 180
    },
    "id": "2VfOaAsT_DzB"
   },
   "outputs": [],
   "source": [
    "a = 1"
   ]
  },
  {
   "cell_type": "code",
   "execution_count": 34,
   "metadata": {
    "executionInfo": {
     "elapsed": 33,
     "status": "ok",
     "timestamp": 1643513298894,
     "user": {
      "displayName": "Raphael Oliveira",
      "photoUrl": "https://lh3.googleusercontent.com/a-/AOh14GjD-SSKQszy5GSX56GG3KCeCVRfxDP5F9s2SHVa=s64",
      "userId": "15853987874740266589"
     },
     "user_tz": 180
    },
    "id": "TuhacL0t_Fgm"
   },
   "outputs": [],
   "source": [
    "b = a"
   ]
  },
  {
   "cell_type": "code",
   "execution_count": 35,
   "metadata": {
    "colab": {
     "base_uri": "https://localhost:8080/"
    },
    "executionInfo": {
     "elapsed": 33,
     "status": "ok",
     "timestamp": 1643513298894,
     "user": {
      "displayName": "Raphael Oliveira",
      "photoUrl": "https://lh3.googleusercontent.com/a-/AOh14GjD-SSKQszy5GSX56GG3KCeCVRfxDP5F9s2SHVa=s64",
      "userId": "15853987874740266589"
     },
     "user_tz": 180
    },
    "id": "Leo-XtE-_IU2",
    "outputId": "95573cf5-c99c-4460-82cd-2be646c20d17"
   },
   "outputs": [
    {
     "data": {
      "text/plain": [
       "3"
      ]
     },
     "execution_count": 35,
     "metadata": {},
     "output_type": "execute_result"
    }
   ],
   "source": [
    "b += 2\n",
    "b"
   ]
  },
  {
   "cell_type": "code",
   "execution_count": 36,
   "metadata": {
    "colab": {
     "base_uri": "https://localhost:8080/"
    },
    "executionInfo": {
     "elapsed": 31,
     "status": "ok",
     "timestamp": 1643513298895,
     "user": {
      "displayName": "Raphael Oliveira",
      "photoUrl": "https://lh3.googleusercontent.com/a-/AOh14GjD-SSKQszy5GSX56GG3KCeCVRfxDP5F9s2SHVa=s64",
      "userId": "15853987874740266589"
     },
     "user_tz": 180
    },
    "id": "s03TQv5Z_Xa_",
    "outputId": "5f1dd702-f0e1-4783-f959-02532528461a"
   },
   "outputs": [
    {
     "data": {
      "text/plain": [
       "(1, 2, 4)"
      ]
     },
     "execution_count": 36,
     "metadata": {},
     "output_type": "execute_result"
    }
   ],
   "source": [
    "a, b, c = 1, 2 ,4\n",
    "a, b, c"
   ]
  },
  {
   "cell_type": "markdown",
   "metadata": {
    "id": "sUjxPa7KACHY"
   },
   "source": [
    "## 2\\. Tipos de dados"
   ]
  },
  {
   "cell_type": "markdown",
   "metadata": {
    "id": "bTYsbIgzAnSR"
   },
   "source": [
    "### 2\\.0 Inteiros (int)"
   ]
  },
  {
   "cell_type": "code",
   "execution_count": 37,
   "metadata": {
    "colab": {
     "base_uri": "https://localhost:8080/"
    },
    "executionInfo": {
     "elapsed": 29,
     "status": "ok",
     "timestamp": 1643513298895,
     "user": {
      "displayName": "Raphael Oliveira",
      "photoUrl": "https://lh3.googleusercontent.com/a-/AOh14GjD-SSKQszy5GSX56GG3KCeCVRfxDP5F9s2SHVa=s64",
      "userId": "15853987874740266589"
     },
     "user_tz": 180
    },
    "id": "w3wPMpqhAHzM",
    "outputId": "1af321d6-5435-4e0c-fe56-bf38e3e89b8e"
   },
   "outputs": [
    {
     "name": "stdout",
     "output_type": "stream",
     "text": [
      "<class 'int'>\n"
     ]
    }
   ],
   "source": [
    "print(type(1))"
   ]
  },
  {
   "cell_type": "code",
   "execution_count": 38,
   "metadata": {
    "colab": {
     "base_uri": "https://localhost:8080/"
    },
    "executionInfo": {
     "elapsed": 27,
     "status": "ok",
     "timestamp": 1643513298896,
     "user": {
      "displayName": "Raphael Oliveira",
      "photoUrl": "https://lh3.googleusercontent.com/a-/AOh14GjD-SSKQszy5GSX56GG3KCeCVRfxDP5F9s2SHVa=s64",
      "userId": "15853987874740266589"
     },
     "user_tz": 180
    },
    "id": "SqZvEg-HAvDC",
    "outputId": "bf78cfbd-61c8-412d-8973-c0ff4a591bc6"
   },
   "outputs": [
    {
     "name": "stdout",
     "output_type": "stream",
     "text": [
      "<class 'int'>\n"
     ]
    }
   ],
   "source": [
    "print(type(2))"
   ]
  },
  {
   "cell_type": "code",
   "execution_count": 39,
   "metadata": {
    "colab": {
     "base_uri": "https://localhost:8080/"
    },
    "executionInfo": {
     "elapsed": 24,
     "status": "ok",
     "timestamp": 1643513298896,
     "user": {
      "displayName": "Raphael Oliveira",
      "photoUrl": "https://lh3.googleusercontent.com/a-/AOh14GjD-SSKQszy5GSX56GG3KCeCVRfxDP5F9s2SHVa=s64",
      "userId": "15853987874740266589"
     },
     "user_tz": 180
    },
    "id": "Q6BwnCZRAxZI",
    "outputId": "b0b6533a-2d10-4453-bc5f-795f3734b975"
   },
   "outputs": [
    {
     "name": "stdout",
     "output_type": "stream",
     "text": [
      "<class 'int'>\n"
     ]
    }
   ],
   "source": [
    "print(type(-10000))"
   ]
  },
  {
   "cell_type": "markdown",
   "metadata": {
    "id": "B2yUsGptA2wW"
   },
   "source": [
    "### 2\\.1 Ponto Flutuante (float)"
   ]
  },
  {
   "cell_type": "code",
   "execution_count": 40,
   "metadata": {
    "colab": {
     "base_uri": "https://localhost:8080/"
    },
    "executionInfo": {
     "elapsed": 23,
     "status": "ok",
     "timestamp": 1643513298897,
     "user": {
      "displayName": "Raphael Oliveira",
      "photoUrl": "https://lh3.googleusercontent.com/a-/AOh14GjD-SSKQszy5GSX56GG3KCeCVRfxDP5F9s2SHVa=s64",
      "userId": "15853987874740266589"
     },
     "user_tz": 180
    },
    "id": "Knb34MWwAy-o",
    "outputId": "c9e5ada7-3241-4643-cf28-0292fedfda52"
   },
   "outputs": [
    {
     "name": "stdout",
     "output_type": "stream",
     "text": [
      "<class 'float'>\n"
     ]
    }
   ],
   "source": [
    "print(type(3.14))"
   ]
  },
  {
   "cell_type": "code",
   "execution_count": 41,
   "metadata": {
    "colab": {
     "base_uri": "https://localhost:8080/"
    },
    "executionInfo": {
     "elapsed": 21,
     "status": "ok",
     "timestamp": 1643513298898,
     "user": {
      "displayName": "Raphael Oliveira",
      "photoUrl": "https://lh3.googleusercontent.com/a-/AOh14GjD-SSKQszy5GSX56GG3KCeCVRfxDP5F9s2SHVa=s64",
      "userId": "15853987874740266589"
     },
     "user_tz": 180
    },
    "id": "yVggGbIhBAb5",
    "outputId": "f49bdb4f-2ac7-419d-9fc1-8a99e7fc147f"
   },
   "outputs": [
    {
     "name": "stdout",
     "output_type": "stream",
     "text": [
      "<class 'float'>\n"
     ]
    }
   ],
   "source": [
    "print(type(-345.67676))"
   ]
  },
  {
   "cell_type": "code",
   "execution_count": 41,
   "metadata": {
    "executionInfo": {
     "elapsed": 18,
     "status": "ok",
     "timestamp": 1643513298899,
     "user": {
      "displayName": "Raphael Oliveira",
      "photoUrl": "https://lh3.googleusercontent.com/a-/AOh14GjD-SSKQszy5GSX56GG3KCeCVRfxDP5F9s2SHVa=s64",
      "userId": "15853987874740266589"
     },
     "user_tz": 180
    },
    "id": "TsAmIx-IBEYg"
   },
   "outputs": [],
   "source": []
  },
  {
   "cell_type": "markdown",
   "metadata": {
    "id": "UcreYWskBKoe"
   },
   "source": [
    "### 2\\.2 Cadeia de caractere (str)"
   ]
  },
  {
   "cell_type": "code",
   "execution_count": 43,
   "metadata": {
    "colab": {
     "base_uri": "https://localhost:8080/"
    },
    "executionInfo": {
     "elapsed": 433,
     "status": "ok",
     "timestamp": 1643513385977,
     "user": {
      "displayName": "Raphael Oliveira",
      "photoUrl": "https://lh3.googleusercontent.com/a-/AOh14GjD-SSKQszy5GSX56GG3KCeCVRfxDP5F9s2SHVa=s64",
      "userId": "15853987874740266589"
     },
     "user_tz": 180
    },
    "id": "FF-H9gbCBTLD",
    "outputId": "ea519779-465a-488a-8af7-18b22e1f1ddf"
   },
   "outputs": [
    {
     "name": "stdout",
     "output_type": "stream",
     "text": [
      "<class 'str'>\n",
      "<class 'str'>\n",
      "<class 'str'>\n",
      "<class 'str'>\n"
     ]
    }
   ],
   "source": [
    "text = \"texto\"\n",
    "print(type(text))\n",
    "\n",
    "text = 'café'\n",
    "print(type(text))\n",
    "\n",
    "text = '''1234'''\n",
    "print(type(text))\n",
    "\n",
    "text = \"\"\"1234 ? esse numero\"\"\"\n",
    "print(type(text))"
   ]
  },
  {
   "cell_type": "markdown",
   "metadata": {
    "id": "44BfDnZYC-6T"
   },
   "source": [
    "### 2\\.3 Tipos Boleanos (bool)"
   ]
  },
  {
   "cell_type": "code",
   "execution_count": 49,
   "metadata": {
    "colab": {
     "base_uri": "https://localhost:8080/"
    },
    "executionInfo": {
     "elapsed": 14,
     "status": "ok",
     "timestamp": 1643513846718,
     "user": {
      "displayName": "Raphael Oliveira",
      "photoUrl": "https://lh3.googleusercontent.com/a-/AOh14GjD-SSKQszy5GSX56GG3KCeCVRfxDP5F9s2SHVa=s64",
      "userId": "15853987874740266589"
     },
     "user_tz": 180
    },
    "id": "osH0O8SrDEi0",
    "outputId": "68df1243-f211-4756-da45-4c3c7085c7a5"
   },
   "outputs": [
    {
     "name": "stdout",
     "output_type": "stream",
     "text": [
      "True <class 'bool'>\n",
      "False <class 'bool'>\n"
     ]
    }
   ],
   "source": [
    "for var in [True, False]: print(var, type(var))"
   ]
  },
  {
   "cell_type": "code",
   "execution_count": 53,
   "metadata": {
    "colab": {
     "base_uri": "https://localhost:8080/"
    },
    "executionInfo": {
     "elapsed": 326,
     "status": "ok",
     "timestamp": 1643513982372,
     "user": {
      "displayName": "Raphael Oliveira",
      "photoUrl": "https://lh3.googleusercontent.com/a-/AOh14GjD-SSKQszy5GSX56GG3KCeCVRfxDP5F9s2SHVa=s64",
      "userId": "15853987874740266589"
     },
     "user_tz": 180
    },
    "id": "xOh5ynAeDxfF",
    "outputId": "b6563645-93c7-4061-bf4c-57ffebeda93e"
   },
   "outputs": [
    {
     "name": "stdout",
     "output_type": "stream",
     "text": [
      "False <class 'bool'>\n"
     ]
    }
   ],
   "source": [
    "cond = 3 > 10 # verificando condições\n",
    "print(cond, type(cond))"
   ]
  },
  {
   "cell_type": "code",
   "execution_count": 57,
   "metadata": {
    "colab": {
     "base_uri": "https://localhost:8080/"
    },
    "executionInfo": {
     "elapsed": 486,
     "status": "ok",
     "timestamp": 1643514030153,
     "user": {
      "displayName": "Raphael Oliveira",
      "photoUrl": "https://lh3.googleusercontent.com/a-/AOh14GjD-SSKQszy5GSX56GG3KCeCVRfxDP5F9s2SHVa=s64",
      "userId": "15853987874740266589"
     },
     "user_tz": 180
    },
    "id": "VjBMRqVyESav",
    "outputId": "1d9996e5-590b-4ac6-ab10-3de00200dba4"
   },
   "outputs": [
    {
     "name": "stdout",
     "output_type": "stream",
     "text": [
      "True\n",
      "True\n"
     ]
    }
   ],
   "source": [
    "print(1 is 1)\n",
    "print(True is True)"
   ]
  },
  {
   "cell_type": "markdown",
   "metadata": {
    "id": "1lvM9w4JEwQr"
   },
   "source": [
    "## 3\\. Estruturas de dados"
   ]
  },
  {
   "cell_type": "markdown",
   "metadata": {
    "id": "OsLczQI2FLYL"
   },
   "source": [
    "### 3\\.0 Listas (list)"
   ]
  },
  {
   "cell_type": "code",
   "execution_count": 60,
   "metadata": {
    "colab": {
     "base_uri": "https://localhost:8080/"
    },
    "executionInfo": {
     "elapsed": 9,
     "status": "ok",
     "timestamp": 1643514279646,
     "user": {
      "displayName": "Raphael Oliveira",
      "photoUrl": "https://lh3.googleusercontent.com/a-/AOh14GjD-SSKQszy5GSX56GG3KCeCVRfxDP5F9s2SHVa=s64",
      "userId": "15853987874740266589"
     },
     "user_tz": 180
    },
    "id": "PEbmFi0iE1RK",
    "outputId": "4f3f113a-cf17-46cd-d9ae-abd5b9ab1fcb"
   },
   "outputs": [
    {
     "data": {
      "text/plain": [
       "[1, 2, 3]"
      ]
     },
     "execution_count": 60,
     "metadata": {},
     "output_type": "execute_result"
    }
   ],
   "source": [
    "[1, 2, 3]"
   ]
  },
  {
   "cell_type": "code",
   "execution_count": 61,
   "metadata": {
    "executionInfo": {
     "elapsed": 7,
     "status": "ok",
     "timestamp": 1643514286108,
     "user": {
      "displayName": "Raphael Oliveira",
      "photoUrl": "https://lh3.googleusercontent.com/a-/AOh14GjD-SSKQszy5GSX56GG3KCeCVRfxDP5F9s2SHVa=s64",
      "userId": "15853987874740266589"
     },
     "user_tz": 180
    },
    "id": "zPNC4-IZFbK9"
   },
   "outputs": [],
   "source": [
    "list_1 = [1, 2, 3]"
   ]
  },
  {
   "cell_type": "code",
   "execution_count": 63,
   "metadata": {
    "colab": {
     "base_uri": "https://localhost:8080/"
    },
    "executionInfo": {
     "elapsed": 12,
     "status": "ok",
     "timestamp": 1643514326521,
     "user": {
      "displayName": "Raphael Oliveira",
      "photoUrl": "https://lh3.googleusercontent.com/a-/AOh14GjD-SSKQszy5GSX56GG3KCeCVRfxDP5F9s2SHVa=s64",
      "userId": "15853987874740266589"
     },
     "user_tz": 180
    },
    "id": "gdQ8KsPQFcwe",
    "outputId": "29f40a5c-24f4-4952-cabd-1d97d416b57d"
   },
   "outputs": [
    {
     "name": "stdout",
     "output_type": "stream",
     "text": [
      "<class 'list'>\n"
     ]
    }
   ],
   "source": [
    "print(type(list_1))"
   ]
  },
  {
   "cell_type": "code",
   "execution_count": 65,
   "metadata": {
    "colab": {
     "base_uri": "https://localhost:8080/"
    },
    "executionInfo": {
     "elapsed": 9,
     "status": "ok",
     "timestamp": 1643514334924,
     "user": {
      "displayName": "Raphael Oliveira",
      "photoUrl": "https://lh3.googleusercontent.com/a-/AOh14GjD-SSKQszy5GSX56GG3KCeCVRfxDP5F9s2SHVa=s64",
      "userId": "15853987874740266589"
     },
     "user_tz": 180
    },
    "id": "NWc3DSxDFmjc",
    "outputId": "a061bc60-527f-4254-b974-1c567cd87604"
   },
   "outputs": [
    {
     "data": {
      "text/plain": [
       "1"
      ]
     },
     "execution_count": 65,
     "metadata": {},
     "output_type": "execute_result"
    }
   ],
   "source": [
    "list_1[0]"
   ]
  },
  {
   "cell_type": "code",
   "execution_count": 67,
   "metadata": {
    "colab": {
     "base_uri": "https://localhost:8080/"
    },
    "executionInfo": {
     "elapsed": 17,
     "status": "ok",
     "timestamp": 1643514351410,
     "user": {
      "displayName": "Raphael Oliveira",
      "photoUrl": "https://lh3.googleusercontent.com/a-/AOh14GjD-SSKQszy5GSX56GG3KCeCVRfxDP5F9s2SHVa=s64",
      "userId": "15853987874740266589"
     },
     "user_tz": 180
    },
    "id": "xeYrghGiFos0",
    "outputId": "95defb2a-f747-4c89-f2e4-c31dd6e6aaa3"
   },
   "outputs": [
    {
     "data": {
      "text/plain": [
       "3"
      ]
     },
     "execution_count": 67,
     "metadata": {},
     "output_type": "execute_result"
    }
   ],
   "source": [
    "len(list_1)"
   ]
  },
  {
   "cell_type": "code",
   "execution_count": 69,
   "metadata": {
    "colab": {
     "base_uri": "https://localhost:8080/"
    },
    "executionInfo": {
     "elapsed": 8,
     "status": "ok",
     "timestamp": 1643514472997,
     "user": {
      "displayName": "Raphael Oliveira",
      "photoUrl": "https://lh3.googleusercontent.com/a-/AOh14GjD-SSKQszy5GSX56GG3KCeCVRfxDP5F9s2SHVa=s64",
      "userId": "15853987874740266589"
     },
     "user_tz": 180
    },
    "id": "lkpCmT_ZFsrc",
    "outputId": "c0a10500-2e99-4ee9-c1c3-f421d30cec91"
   },
   "outputs": [
    {
     "data": {
      "text/plain": [
       "[1, 2, 3, 4, 4]"
      ]
     },
     "execution_count": 69,
     "metadata": {},
     "output_type": "execute_result"
    }
   ],
   "source": [
    "list_1.append(4)\n",
    "list_1"
   ]
  },
  {
   "cell_type": "code",
   "execution_count": 78,
   "metadata": {
    "executionInfo": {
     "elapsed": 333,
     "status": "ok",
     "timestamp": 1643514573931,
     "user": {
      "displayName": "Raphael Oliveira",
      "photoUrl": "https://lh3.googleusercontent.com/a-/AOh14GjD-SSKQszy5GSX56GG3KCeCVRfxDP5F9s2SHVa=s64",
      "userId": "15853987874740266589"
     },
     "user_tz": 180
    },
    "id": "--bU01avGKYr"
   },
   "outputs": [],
   "source": [
    "lista_2 = [5, 18, 6, 7, 11, 8, 9, 10]"
   ]
  },
  {
   "cell_type": "code",
   "execution_count": 79,
   "metadata": {
    "colab": {
     "base_uri": "https://localhost:8080/"
    },
    "executionInfo": {
     "elapsed": 5,
     "status": "ok",
     "timestamp": 1643514575838,
     "user": {
      "displayName": "Raphael Oliveira",
      "photoUrl": "https://lh3.googleusercontent.com/a-/AOh14GjD-SSKQszy5GSX56GG3KCeCVRfxDP5F9s2SHVa=s64",
      "userId": "15853987874740266589"
     },
     "user_tz": 180
    },
    "id": "IW_yRGWoGPo0",
    "outputId": "d93e2605-4807-4bbc-e662-38a2e2f84c15"
   },
   "outputs": [
    {
     "data": {
      "text/plain": [
       "[1, 2, 3, 4, 4, 5, 18, 6, 7, 11, 8, 9, 10]"
      ]
     },
     "execution_count": 79,
     "metadata": {},
     "output_type": "execute_result"
    }
   ],
   "source": [
    "list_3 = list_1 + lista_2\n",
    "list_3"
   ]
  },
  {
   "cell_type": "code",
   "execution_count": 82,
   "metadata": {
    "colab": {
     "base_uri": "https://localhost:8080/"
    },
    "executionInfo": {
     "elapsed": 323,
     "status": "ok",
     "timestamp": 1643514623815,
     "user": {
      "displayName": "Raphael Oliveira",
      "photoUrl": "https://lh3.googleusercontent.com/a-/AOh14GjD-SSKQszy5GSX56GG3KCeCVRfxDP5F9s2SHVa=s64",
      "userId": "15853987874740266589"
     },
     "user_tz": 180
    },
    "id": "mSETCGH5GWKj",
    "outputId": "2c70dd6c-8b95-4ecf-b8b4-95ee1d885850"
   },
   "outputs": [
    {
     "name": "stdout",
     "output_type": "stream",
     "text": [
      "[1, 2, 3, 4, 4, 5, 6, 7, 8, 9, 10, 11, 18]\n",
      "[1, 2, 3, 4, 5, 6, 7, 8, 9, 10, 11, 18]\n"
     ]
    }
   ],
   "source": [
    "list_3.sort()\n",
    "print(list_3)\n",
    "\n",
    "list_4 = list(set(list_3))\n",
    "print(list_4)"
   ]
  },
  {
   "cell_type": "markdown",
   "metadata": {
    "id": "kEQpEX8FG8WO"
   },
   "source": [
    "### 3\\.1 Tuplas (tuple)"
   ]
  },
  {
   "cell_type": "code",
   "execution_count": 84,
   "metadata": {
    "colab": {
     "base_uri": "https://localhost:8080/"
    },
    "executionInfo": {
     "elapsed": 13,
     "status": "ok",
     "timestamp": 1643514856124,
     "user": {
      "displayName": "Raphael Oliveira",
      "photoUrl": "https://lh3.googleusercontent.com/a-/AOh14GjD-SSKQszy5GSX56GG3KCeCVRfxDP5F9s2SHVa=s64",
      "userId": "15853987874740266589"
     },
     "user_tz": 180
    },
    "id": "-WwTzXIYHA_4",
    "outputId": "44b454aa-7725-4301-baf2-fb8cc15c4399"
   },
   "outputs": [
    {
     "name": "stdout",
     "output_type": "stream",
     "text": [
      "(1, 3) <class 'tuple'>\n"
     ]
    }
   ],
   "source": [
    "t = (1, 3)\n",
    "print(t, type(t))"
   ]
  },
  {
   "cell_type": "code",
   "execution_count": 90,
   "metadata": {
    "colab": {
     "base_uri": "https://localhost:8080/"
    },
    "executionInfo": {
     "elapsed": 11,
     "status": "ok",
     "timestamp": 1643514964119,
     "user": {
      "displayName": "Raphael Oliveira",
      "photoUrl": "https://lh3.googleusercontent.com/a-/AOh14GjD-SSKQszy5GSX56GG3KCeCVRfxDP5F9s2SHVa=s64",
      "userId": "15853987874740266589"
     },
     "user_tz": 180
    },
    "id": "p0rSLYAUHn7R",
    "outputId": "ea178a3e-d7f0-4b06-ff05-bb8303796e07"
   },
   "outputs": [
    {
     "name": "stdout",
     "output_type": "stream",
     "text": [
      "1\n",
      "3\n"
     ]
    }
   ],
   "source": [
    "t1, t2 = t # desempacotamento de variáveis\n",
    "\n",
    "print(t1)\n",
    "print(t2)"
   ]
  },
  {
   "cell_type": "markdown",
   "metadata": {
    "id": "cXuY6HuKIHhZ"
   },
   "source": [
    "### 3\\.2 Conjuntos (set)"
   ]
  },
  {
   "cell_type": "code",
   "execution_count": 100,
   "metadata": {
    "colab": {
     "base_uri": "https://localhost:8080/"
    },
    "executionInfo": {
     "elapsed": 354,
     "status": "ok",
     "timestamp": 1643515257503,
     "user": {
      "displayName": "Raphael Oliveira",
      "photoUrl": "https://lh3.googleusercontent.com/a-/AOh14GjD-SSKQszy5GSX56GG3KCeCVRfxDP5F9s2SHVa=s64",
      "userId": "15853987874740266589"
     },
     "user_tz": 180
    },
    "id": "p1mBvw9rICSg",
    "outputId": "857d3257-9746-4894-d2d3-ee2b54beb9b1"
   },
   "outputs": [
    {
     "data": {
      "text/plain": [
       "{2, 4, 6, 7, 8, 10}"
      ]
     },
     "execution_count": 100,
     "metadata": {},
     "output_type": "execute_result"
    }
   ],
   "source": [
    "pares = {2, 4, 6, 8, 10} # coleção de dados não ordenados e não duplicados\n",
    "pares.add(7)\n",
    "pares.add(2)\n",
    "\n",
    "pares"
   ]
  },
  {
   "cell_type": "code",
   "execution_count": 99,
   "metadata": {
    "colab": {
     "base_uri": "https://localhost:8080/"
    },
    "executionInfo": {
     "elapsed": 12,
     "status": "ok",
     "timestamp": 1643515235398,
     "user": {
      "displayName": "Raphael Oliveira",
      "photoUrl": "https://lh3.googleusercontent.com/a-/AOh14GjD-SSKQszy5GSX56GG3KCeCVRfxDP5F9s2SHVa=s64",
      "userId": "15853987874740266589"
     },
     "user_tz": 180
    },
    "id": "i0yLec3DI5Ju",
    "outputId": "33185770-3c92-47ac-8c2c-5c83eea7a681"
   },
   "outputs": [
    {
     "data": {
      "text/plain": [
       "{'e', 's', 't'}"
      ]
     },
     "execution_count": 99,
     "metadata": {},
     "output_type": "execute_result"
    }
   ],
   "source": [
    "test = set('teste')\n",
    "test"
   ]
  },
  {
   "cell_type": "code",
   "execution_count": 102,
   "metadata": {
    "colab": {
     "base_uri": "https://localhost:8080/"
    },
    "executionInfo": {
     "elapsed": 12,
     "status": "ok",
     "timestamp": 1643515307809,
     "user": {
      "displayName": "Raphael Oliveira",
      "photoUrl": "https://lh3.googleusercontent.com/a-/AOh14GjD-SSKQszy5GSX56GG3KCeCVRfxDP5F9s2SHVa=s64",
      "userId": "15853987874740266589"
     },
     "user_tz": 180
    },
    "id": "4wueuRBPJEg6",
    "outputId": "8cd202ee-a264-4ee5-8467-197bfb6675b0"
   },
   "outputs": [
    {
     "data": {
      "text/plain": [
       "{1, 3, 5, 7, 9}"
      ]
     },
     "execution_count": 102,
     "metadata": {},
     "output_type": "execute_result"
    }
   ],
   "source": [
    "impares = {1, 3, 5, 7, 9}\n",
    "impares"
   ]
  },
  {
   "cell_type": "code",
   "execution_count": 108,
   "metadata": {
    "colab": {
     "base_uri": "https://localhost:8080/"
    },
    "executionInfo": {
     "elapsed": 9,
     "status": "ok",
     "timestamp": 1643515418332,
     "user": {
      "displayName": "Raphael Oliveira",
      "photoUrl": "https://lh3.googleusercontent.com/a-/AOh14GjD-SSKQszy5GSX56GG3KCeCVRfxDP5F9s2SHVa=s64",
      "userId": "15853987874740266589"
     },
     "user_tz": 180
    },
    "id": "PVNLzWsmJWMo",
    "outputId": "38f32e80-83e5-4bb0-f8cb-86a3e64d2024"
   },
   "outputs": [
    {
     "data": {
      "text/plain": [
       "{1, 2, 3, 4, 5, 6, 7, 8, 9, 10}"
      ]
     },
     "execution_count": 108,
     "metadata": {},
     "output_type": "execute_result"
    }
   ],
   "source": [
    "# uniao\n",
    "uniao = pares | impares\n",
    "uniao"
   ]
  },
  {
   "cell_type": "code",
   "execution_count": 106,
   "metadata": {
    "colab": {
     "base_uri": "https://localhost:8080/"
    },
    "executionInfo": {
     "elapsed": 10,
     "status": "ok",
     "timestamp": 1643515367532,
     "user": {
      "displayName": "Raphael Oliveira",
      "photoUrl": "https://lh3.googleusercontent.com/a-/AOh14GjD-SSKQszy5GSX56GG3KCeCVRfxDP5F9s2SHVa=s64",
      "userId": "15853987874740266589"
     },
     "user_tz": 180
    },
    "id": "Lje0fQ5fJfjL",
    "outputId": "7747b8f7-844f-494a-9a02-0df7df93b6e7"
   },
   "outputs": [
    {
     "data": {
      "text/plain": [
       "{2, 3, 5, 7, 11, 13}"
      ]
     },
     "execution_count": 106,
     "metadata": {},
     "output_type": "execute_result"
    }
   ],
   "source": [
    "primos = {2, 3 ,5 ,7, 11, 13}\n",
    "primos"
   ]
  },
  {
   "cell_type": "code",
   "execution_count": 111,
   "metadata": {
    "colab": {
     "base_uri": "https://localhost:8080/"
    },
    "executionInfo": {
     "elapsed": 302,
     "status": "ok",
     "timestamp": 1643515478722,
     "user": {
      "displayName": "Raphael Oliveira",
      "photoUrl": "https://lh3.googleusercontent.com/a-/AOh14GjD-SSKQszy5GSX56GG3KCeCVRfxDP5F9s2SHVa=s64",
      "userId": "15853987874740266589"
     },
     "user_tz": 180
    },
    "id": "IkrGovDsJkxH",
    "outputId": "985935e3-0b09-46b2-e0e3-1adb7ea794d2"
   },
   "outputs": [
    {
     "data": {
      "text/plain": [
       "{3, 5, 7}"
      ]
     },
     "execution_count": 111,
     "metadata": {},
     "output_type": "execute_result"
    }
   ],
   "source": [
    "# intersecção\n",
    "impares & primos"
   ]
  },
  {
   "cell_type": "code",
   "execution_count": 113,
   "metadata": {
    "colab": {
     "base_uri": "https://localhost:8080/"
    },
    "executionInfo": {
     "elapsed": 415,
     "status": "ok",
     "timestamp": 1643515497727,
     "user": {
      "displayName": "Raphael Oliveira",
      "photoUrl": "https://lh3.googleusercontent.com/a-/AOh14GjD-SSKQszy5GSX56GG3KCeCVRfxDP5F9s2SHVa=s64",
      "userId": "15853987874740266589"
     },
     "user_tz": 180
    },
    "id": "oXpNy-t3J_0x",
    "outputId": "d4e3231b-6c65-42f3-ec13-153fc07eb462"
   },
   "outputs": [
    {
     "data": {
      "text/plain": [
       "{1, 9}"
      ]
     },
     "execution_count": 113,
     "metadata": {},
     "output_type": "execute_result"
    }
   ],
   "source": [
    "# diferença \n",
    "impares - primos"
   ]
  },
  {
   "cell_type": "markdown",
   "metadata": {
    "id": "bWWHgee6KVTz"
   },
   "source": [
    "### 3\\.3 Dicionários (dict)"
   ]
  },
  {
   "cell_type": "code",
   "execution_count": 118,
   "metadata": {
    "colab": {
     "base_uri": "https://localhost:8080/"
    },
    "executionInfo": {
     "elapsed": 346,
     "status": "ok",
     "timestamp": 1643515766826,
     "user": {
      "displayName": "Raphael Oliveira",
      "photoUrl": "https://lh3.googleusercontent.com/a-/AOh14GjD-SSKQszy5GSX56GG3KCeCVRfxDP5F9s2SHVa=s64",
      "userId": "15853987874740266589"
     },
     "user_tz": 180
    },
    "id": "mPCmnfgpKa00",
    "outputId": "90a1fdda-e339-4557-eeb6-7b5489b6a80c"
   },
   "outputs": [
    {
     "data": {
      "text/plain": [
       "{'dois': 2, 'três': 3, 'um': 1}"
      ]
     },
     "execution_count": 118,
     "metadata": {},
     "output_type": "execute_result"
    }
   ],
   "source": [
    "dict_test = {'um': 1, 'dois': 2, u'três': 3}\n",
    "dict_test"
   ]
  },
  {
   "cell_type": "code",
   "execution_count": 119,
   "metadata": {
    "colab": {
     "base_uri": "https://localhost:8080/"
    },
    "executionInfo": {
     "elapsed": 344,
     "status": "ok",
     "timestamp": 1643515793456,
     "user": {
      "displayName": "Raphael Oliveira",
      "photoUrl": "https://lh3.googleusercontent.com/a-/AOh14GjD-SSKQszy5GSX56GG3KCeCVRfxDP5F9s2SHVa=s64",
      "userId": "15853987874740266589"
     },
     "user_tz": 180
    },
    "id": "IF7Ccs4ALHAE",
    "outputId": "03a7885f-713e-4ae0-974b-754e7bc9414f"
   },
   "outputs": [
    {
     "data": {
      "text/plain": [
       "{1: 1, 2: 2, 3: 3}"
      ]
     },
     "execution_count": 119,
     "metadata": {},
     "output_type": "execute_result"
    }
   ],
   "source": [
    "dict_test_2 = {1: 1, 2: 2, 3: 3}\n",
    "dict_test_2"
   ]
  },
  {
   "cell_type": "code",
   "execution_count": 124,
   "metadata": {
    "colab": {
     "base_uri": "https://localhost:8080/"
    },
    "executionInfo": {
     "elapsed": 25,
     "status": "ok",
     "timestamp": 1643515912834,
     "user": {
      "displayName": "Raphael Oliveira",
      "photoUrl": "https://lh3.googleusercontent.com/a-/AOh14GjD-SSKQszy5GSX56GG3KCeCVRfxDP5F9s2SHVa=s64",
      "userId": "15853987874740266589"
     },
     "user_tz": 180
    },
    "id": "d_sPmZNdKym5",
    "outputId": "e40989f8-9220-4ebf-cb6d-73c85c280bcc"
   },
   "outputs": [
    {
     "name": "stdout",
     "output_type": "stream",
     "text": [
      "3\n",
      "2\n"
     ]
    }
   ],
   "source": [
    "print(dict_test['três'])\n",
    "print(dict_test_2[2])"
   ]
  },
  {
   "cell_type": "markdown",
   "metadata": {
    "id": "Ld5juEBhMSpN"
   },
   "source": [
    "## 4\\. Sintaxe"
   ]
  },
  {
   "cell_type": "markdown",
   "metadata": {
    "id": "W1aLHfFFPoCy"
   },
   "source": [
    "### 4\\.0 Comentários"
   ]
  },
  {
   "cell_type": "markdown",
   "metadata": {
    "id": "8UpkNEBpPwDX"
   },
   "source": []
  },
  {
   "cell_type": "code",
   "execution_count": 1,
   "metadata": {
    "executionInfo": {
     "elapsed": 10,
     "status": "ok",
     "timestamp": 1643550575523,
     "user": {
      "displayName": "Raphael Oliveira",
      "photoUrl": "https://lh3.googleusercontent.com/a-/AOh14GjD-SSKQszy5GSX56GG3KCeCVRfxDP5F9s2SHVa=s64",
      "userId": "15853987874740266589"
     },
     "user_tz": 180
    },
    "id": "ZY7W71WHMXcC"
   },
   "outputs": [],
   "source": [
    "# comentário"
   ]
  },
  {
   "cell_type": "code",
   "execution_count": 4,
   "metadata": {
    "colab": {
     "base_uri": "https://localhost:8080/"
    },
    "executionInfo": {
     "elapsed": 482,
     "status": "ok",
     "timestamp": 1643550647779,
     "user": {
      "displayName": "Raphael Oliveira",
      "photoUrl": "https://lh3.googleusercontent.com/a-/AOh14GjD-SSKQszy5GSX56GG3KCeCVRfxDP5F9s2SHVa=s64",
      "userId": "15853987874740266589"
     },
     "user_tz": 180
    },
    "id": "wCwlECjiP4aL",
    "outputId": "ded4cf15-64d8-4e8a-9580-730813c77b6e"
   },
   "outputs": [
    {
     "data": {
      "text/plain": [
       "2"
      ]
     },
     "execution_count": 4,
     "metadata": {},
     "output_type": "execute_result"
    }
   ],
   "source": [
    "1 + 1 # 1 + 1"
   ]
  },
  {
   "cell_type": "markdown",
   "metadata": {
    "id": "uU94RXZsQL1j"
   },
   "source": [
    "### 4\\.1 Operador de atribuição"
   ]
  },
  {
   "cell_type": "code",
   "execution_count": 6,
   "metadata": {
    "executionInfo": {
     "elapsed": 392,
     "status": "ok",
     "timestamp": 1643550709168,
     "user": {
      "displayName": "Raphael Oliveira",
      "photoUrl": "https://lh3.googleusercontent.com/a-/AOh14GjD-SSKQszy5GSX56GG3KCeCVRfxDP5F9s2SHVa=s64",
      "userId": "15853987874740266589"
     },
     "user_tz": 180
    },
    "id": "MyuOiut5QXIz"
   },
   "outputs": [],
   "source": [
    "x = 1"
   ]
  },
  {
   "cell_type": "code",
   "execution_count": 7,
   "metadata": {
    "colab": {
     "base_uri": "https://localhost:8080/"
    },
    "executionInfo": {
     "elapsed": 471,
     "status": "ok",
     "timestamp": 1643550716396,
     "user": {
      "displayName": "Raphael Oliveira",
      "photoUrl": "https://lh3.googleusercontent.com/a-/AOh14GjD-SSKQszy5GSX56GG3KCeCVRfxDP5F9s2SHVa=s64",
      "userId": "15853987874740266589"
     },
     "user_tz": 180
    },
    "id": "yusMCHjVQZIg",
    "outputId": "e81656e7-9c79-47ff-fc8c-0144ad7653ba"
   },
   "outputs": [
    {
     "name": "stdout",
     "output_type": "stream",
     "text": [
      "1\n"
     ]
    }
   ],
   "source": [
    "print(x)"
   ]
  },
  {
   "cell_type": "markdown",
   "metadata": {
    "id": "EyHWuZ4wQix3"
   },
   "source": [
    "### 4\\.2  Identação"
   ]
  },
  {
   "cell_type": "code",
   "execution_count": 9,
   "metadata": {
    "colab": {
     "base_uri": "https://localhost:8080/"
    },
    "executionInfo": {
     "elapsed": 7,
     "status": "ok",
     "timestamp": 1643551083208,
     "user": {
      "displayName": "Raphael Oliveira",
      "photoUrl": "https://lh3.googleusercontent.com/a-/AOh14GjD-SSKQszy5GSX56GG3KCeCVRfxDP5F9s2SHVa=s64",
      "userId": "15853987874740266589"
     },
     "user_tz": 180
    },
    "id": "mRLuz4VFQoGJ",
    "outputId": "0a36c8b1-b09f-4909-8247-6a169f78045b"
   },
   "outputs": [
    {
     "name": "stdout",
     "output_type": "stream",
     "text": [
      "0\n",
      "1\n",
      "2\n",
      "3\n",
      "4\n",
      "5\n",
      "6\n",
      "7\n",
      "8\n",
      "9\n"
     ]
    }
   ],
   "source": [
    "for i in range(10):\n",
    "  print(i)"
   ]
  },
  {
   "cell_type": "code",
   "execution_count": 11,
   "metadata": {
    "colab": {
     "base_uri": "https://localhost:8080/"
    },
    "executionInfo": {
     "elapsed": 25,
     "status": "ok",
     "timestamp": 1643551160639,
     "user": {
      "displayName": "Raphael Oliveira",
      "photoUrl": "https://lh3.googleusercontent.com/a-/AOh14GjD-SSKQszy5GSX56GG3KCeCVRfxDP5F9s2SHVa=s64",
      "userId": "15853987874740266589"
     },
     "user_tz": 180
    },
    "id": "eUuY7XODR0ZG",
    "outputId": "b7b9a057-19b0-49d8-a5fb-763620741850"
   },
   "outputs": [
    {
     "name": "stdout",
     "output_type": "stream",
     "text": [
      "OK\n"
     ]
    }
   ],
   "source": [
    "if True:\n",
    "  print('OK')"
   ]
  },
  {
   "cell_type": "code",
   "execution_count": 15,
   "metadata": {
    "colab": {
     "base_uri": "https://localhost:8080/"
    },
    "executionInfo": {
     "elapsed": 384,
     "status": "ok",
     "timestamp": 1643551315634,
     "user": {
      "displayName": "Raphael Oliveira",
      "photoUrl": "https://lh3.googleusercontent.com/a-/AOh14GjD-SSKQszy5GSX56GG3KCeCVRfxDP5F9s2SHVa=s64",
      "userId": "15853987874740266589"
     },
     "user_tz": 180
    },
    "id": "AoCophy9SHN9",
    "outputId": "2abd53af-ee8d-49df-fa8e-b510737ccbd4"
   },
   "outputs": [
    {
     "data": {
      "text/plain": [
       "[1, 2, 3, 4, 5, 6, 7, 8, 9]"
      ]
     },
     "execution_count": 15,
     "metadata": {},
     "output_type": "execute_result"
    }
   ],
   "source": [
    "lista = (\n",
    "    [1, 2, 3, 4, 5, 6, 7, 8, 9]\n",
    ")\n",
    "lista"
   ]
  },
  {
   "cell_type": "code",
   "execution_count": 16,
   "metadata": {
    "colab": {
     "base_uri": "https://localhost:8080/"
    },
    "executionInfo": {
     "elapsed": 14,
     "status": "ok",
     "timestamp": 1643551376948,
     "user": {
      "displayName": "Raphael Oliveira",
      "photoUrl": "https://lh3.googleusercontent.com/a-/AOh14GjD-SSKQszy5GSX56GG3KCeCVRfxDP5F9s2SHVa=s64",
      "userId": "15853987874740266589"
     },
     "user_tz": 180
    },
    "id": "NITbeU-USO-z",
    "outputId": "55bdf678-ee0d-4f98-8c84-2dae828a05ae"
   },
   "outputs": [
    {
     "name": "stdout",
     "output_type": "stream",
     "text": [
      "Identado\n",
      "Não identado\n"
     ]
    }
   ],
   "source": [
    "if 3 > 1:\n",
    "    print(\"Identado\")\n",
    "\n",
    "print('Não identado')"
   ]
  },
  {
   "cell_type": "code",
   "execution_count": 17,
   "metadata": {
    "colab": {
     "base_uri": "https://localhost:8080/",
     "height": 131
    },
    "executionInfo": {
     "elapsed": 29,
     "status": "error",
     "timestamp": 1643551384565,
     "user": {
      "displayName": "Raphael Oliveira",
      "photoUrl": "https://lh3.googleusercontent.com/a-/AOh14GjD-SSKQszy5GSX56GG3KCeCVRfxDP5F9s2SHVa=s64",
      "userId": "15853987874740266589"
     },
     "user_tz": 180
    },
    "id": "8Apeo8wfS8FK",
    "outputId": "fd9d1551-ace6-4624-b7fd-bcd5a770f533"
   },
   "outputs": [
    {
     "ename": "IndentationError",
     "evalue": "ignored",
     "output_type": "error",
     "traceback": [
      "\u001b[0;36m  File \u001b[0;32m\"<ipython-input-17-a8e409fe9cc0>\"\u001b[0;36m, line \u001b[0;32m4\u001b[0m\n\u001b[0;31m    print('Não identado')\u001b[0m\n\u001b[0m        ^\u001b[0m\n\u001b[0;31mIndentationError\u001b[0m\u001b[0;31m:\u001b[0m expected an indented block\n"
     ]
    }
   ],
   "source": [
    "if 3 > 1:\n",
    "    # print(\"Identado\")\n",
    "\n",
    "print('Não identado')"
   ]
  },
  {
   "cell_type": "code",
   "execution_count": 21,
   "metadata": {
    "executionInfo": {
     "elapsed": 377,
     "status": "ok",
     "timestamp": 1643551533132,
     "user": {
      "displayName": "Raphael Oliveira",
      "photoUrl": "https://lh3.googleusercontent.com/a-/AOh14GjD-SSKQszy5GSX56GG3KCeCVRfxDP5F9s2SHVa=s64",
      "userId": "15853987874740266589"
     },
     "user_tz": 180
    },
    "id": "Lc4A88K8S95X"
   },
   "outputs": [],
   "source": [
    "x = 10\n",
    "\n",
    "if x < 1:\n",
    "    z = 10 * x\n",
    "    print(z)"
   ]
  },
  {
   "cell_type": "markdown",
   "metadata": {
    "id": "O1ey9LALT_iY"
   },
   "source": [
    "### 4\\.3 Estrutura condicional"
   ]
  },
  {
   "cell_type": "code",
   "execution_count": 26,
   "metadata": {
    "colab": {
     "base_uri": "https://localhost:8080/"
    },
    "executionInfo": {
     "elapsed": 4396,
     "status": "ok",
     "timestamp": 1643551852687,
     "user": {
      "displayName": "Raphael Oliveira",
      "photoUrl": "https://lh3.googleusercontent.com/a-/AOh14GjD-SSKQszy5GSX56GG3KCeCVRfxDP5F9s2SHVa=s64",
      "userId": "15853987874740266589"
     },
     "user_tz": 180
    },
    "id": "Rvo5lrSKTXDB",
    "outputId": "c15156f5-1d6d-4c46-b54b-3fed92236015"
   },
   "outputs": [
    {
     "name": "stdout",
     "output_type": "stream",
     "text": [
      "Quantos anos você tem ?-3\n",
      "Idade negativa ? -3 anos\n"
     ]
    }
   ],
   "source": [
    "x = int(input('Quantos anos você tem ?'))\n",
    "\n",
    "if x == 0:\n",
    "    print(f'Você acabou de nascer, tem {x} anos')\n",
    "elif x < 0:\n",
    "    print(f'Idade negativa ? {x} anos')\n",
    "elif x > 130:\n",
    "    print(f'Você ainda está vivo com {x} anos')\n",
    "else:\n",
    "    print(f'Você tem {x} anos de idade')"
   ]
  },
  {
   "cell_type": "markdown",
   "metadata": {
    "id": "0utK-WkXUy2e"
   },
   "source": [
    "### 4\\.4 Estrutura de repetição"
   ]
  },
  {
   "cell_type": "code",
   "execution_count": 28,
   "metadata": {
    "executionInfo": {
     "elapsed": 4,
     "status": "ok",
     "timestamp": 1643552051450,
     "user": {
      "displayName": "Raphael Oliveira",
      "photoUrl": "https://lh3.googleusercontent.com/a-/AOh14GjD-SSKQszy5GSX56GG3KCeCVRfxDP5F9s2SHVa=s64",
      "userId": "15853987874740266589"
     },
     "user_tz": 180
    },
    "id": "RWR4YBDXU5PL"
   },
   "outputs": [],
   "source": [
    "list_pares = [n for n in range(1000) if n % 2 == 0]"
   ]
  },
  {
   "cell_type": "code",
   "execution_count": 29,
   "metadata": {
    "colab": {
     "base_uri": "https://localhost:8080/"
    },
    "executionInfo": {
     "elapsed": 5,
     "status": "ok",
     "timestamp": 1643552058278,
     "user": {
      "displayName": "Raphael Oliveira",
      "photoUrl": "https://lh3.googleusercontent.com/a-/AOh14GjD-SSKQszy5GSX56GG3KCeCVRfxDP5F9s2SHVa=s64",
      "userId": "15853987874740266589"
     },
     "user_tz": 180
    },
    "id": "tyDW8XI1Vgy8",
    "outputId": "1955e5a4-9c60-4ba8-b313-54aa79bc20cc"
   },
   "outputs": [
    {
     "name": "stdout",
     "output_type": "stream",
     "text": [
      "[0, 2, 4, 6, 8, 10, 12, 14, 16, 18, 20, 22, 24, 26, 28, 30, 32, 34, 36, 38, 40, 42, 44, 46, 48, 50, 52, 54, 56, 58, 60, 62, 64, 66, 68, 70, 72, 74, 76, 78, 80, 82, 84, 86, 88, 90, 92, 94, 96, 98, 100, 102, 104, 106, 108, 110, 112, 114, 116, 118, 120, 122, 124, 126, 128, 130, 132, 134, 136, 138, 140, 142, 144, 146, 148, 150, 152, 154, 156, 158, 160, 162, 164, 166, 168, 170, 172, 174, 176, 178, 180, 182, 184, 186, 188, 190, 192, 194, 196, 198, 200, 202, 204, 206, 208, 210, 212, 214, 216, 218, 220, 222, 224, 226, 228, 230, 232, 234, 236, 238, 240, 242, 244, 246, 248, 250, 252, 254, 256, 258, 260, 262, 264, 266, 268, 270, 272, 274, 276, 278, 280, 282, 284, 286, 288, 290, 292, 294, 296, 298, 300, 302, 304, 306, 308, 310, 312, 314, 316, 318, 320, 322, 324, 326, 328, 330, 332, 334, 336, 338, 340, 342, 344, 346, 348, 350, 352, 354, 356, 358, 360, 362, 364, 366, 368, 370, 372, 374, 376, 378, 380, 382, 384, 386, 388, 390, 392, 394, 396, 398, 400, 402, 404, 406, 408, 410, 412, 414, 416, 418, 420, 422, 424, 426, 428, 430, 432, 434, 436, 438, 440, 442, 444, 446, 448, 450, 452, 454, 456, 458, 460, 462, 464, 466, 468, 470, 472, 474, 476, 478, 480, 482, 484, 486, 488, 490, 492, 494, 496, 498, 500, 502, 504, 506, 508, 510, 512, 514, 516, 518, 520, 522, 524, 526, 528, 530, 532, 534, 536, 538, 540, 542, 544, 546, 548, 550, 552, 554, 556, 558, 560, 562, 564, 566, 568, 570, 572, 574, 576, 578, 580, 582, 584, 586, 588, 590, 592, 594, 596, 598, 600, 602, 604, 606, 608, 610, 612, 614, 616, 618, 620, 622, 624, 626, 628, 630, 632, 634, 636, 638, 640, 642, 644, 646, 648, 650, 652, 654, 656, 658, 660, 662, 664, 666, 668, 670, 672, 674, 676, 678, 680, 682, 684, 686, 688, 690, 692, 694, 696, 698, 700, 702, 704, 706, 708, 710, 712, 714, 716, 718, 720, 722, 724, 726, 728, 730, 732, 734, 736, 738, 740, 742, 744, 746, 748, 750, 752, 754, 756, 758, 760, 762, 764, 766, 768, 770, 772, 774, 776, 778, 780, 782, 784, 786, 788, 790, 792, 794, 796, 798, 800, 802, 804, 806, 808, 810, 812, 814, 816, 818, 820, 822, 824, 826, 828, 830, 832, 834, 836, 838, 840, 842, 844, 846, 848, 850, 852, 854, 856, 858, 860, 862, 864, 866, 868, 870, 872, 874, 876, 878, 880, 882, 884, 886, 888, 890, 892, 894, 896, 898, 900, 902, 904, 906, 908, 910, 912, 914, 916, 918, 920, 922, 924, 926, 928, 930, 932, 934, 936, 938, 940, 942, 944, 946, 948, 950, 952, 954, 956, 958, 960, 962, 964, 966, 968, 970, 972, 974, 976, 978, 980, 982, 984, 986, 988, 990, 992, 994, 996, 998]\n"
     ]
    }
   ],
   "source": [
    "print(list_pares)"
   ]
  },
  {
   "cell_type": "code",
   "execution_count": 10,
   "metadata": {
    "colab": {
     "base_uri": "https://localhost:8080/"
    },
    "executionInfo": {
     "elapsed": 10,
     "status": "ok",
     "timestamp": 1643552633033,
     "user": {
      "displayName": "Raphael Oliveira",
      "photoUrl": "https://lh3.googleusercontent.com/a-/AOh14GjD-SSKQszy5GSX56GG3KCeCVRfxDP5F9s2SHVa=s64",
      "userId": "15853987874740266589"
     },
     "user_tz": 180
    },
    "id": "TojPAvPUViXT",
    "outputId": "38dc6124-e63f-4d12-d724-af99936026ff"
   },
   "outputs": [
    {
     "name": "stdout",
     "output_type": "stream",
     "text": [
      "Par: 2 Condição: 2 <= 20 -> True\n",
      "Par: 4 Condição: 4 <= 20 -> True\n",
      "Par: 6 Condição: 6 <= 20 -> True\n",
      "Par: 8 Condição: 8 <= 20 -> True\n",
      "Par: 10 Condição: 10 <= 20 -> True\n",
      "Par: 12 Condição: 12 <= 20 -> True\n",
      "Par: 14 Condição: 14 <= 20 -> True\n",
      "Par: 16 Condição: 16 <= 20 -> True\n",
      "Par: 18 Condição: 18 <= 20 -> True\n",
      "Par: 20 Condição: 20 <= 20 -> True\n"
     ]
    }
   ],
   "source": [
    "n = 2\n",
    "\n",
    "while n <= 20:\n",
    "    if n % 2 == 0:\n",
    "        print(f\"Par: {n}\", f'Condição: {n} <= 20 -> {n <= 20}')\n",
    "    \n",
    "    n += 1"
   ]
  }
 ],
 "metadata": {
  "colab": {
   "authorship_tag": "ABX9TyOsKZ3dT3dSEqpBDd2fKrnF",
   "name": "modulo_3a_elementos_basicos_python_numpy.ipynb",
   "provenance": [],
   "toc_visible": true
  },
  "kernelspec": {
   "display_name": "Python 3 (ipykernel)",
   "language": "python",
   "name": "python3"
  },
  "language_info": {
   "codemirror_mode": {
    "name": "ipython",
    "version": 3
   },
   "file_extension": ".py",
   "mimetype": "text/x-python",
   "name": "python",
   "nbconvert_exporter": "python",
   "pygments_lexer": "ipython3",
   "version": "3.9.12"
  }
 },
 "nbformat": 4,
 "nbformat_minor": 1
}
